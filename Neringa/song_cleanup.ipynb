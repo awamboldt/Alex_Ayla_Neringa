{
 "cells": [
  {
   "cell_type": "markdown",
   "metadata": {},
   "source": [
    "Source : https://www.kaggle.com/datasets/diamondsnake/eurovision-song-contest-data?resource=download\n",
    "\n"
   ]
  },
  {
   "cell_type": "code",
   "execution_count": 3,
   "metadata": {},
   "outputs": [],
   "source": [
    "#import the libraries\n",
    "import requests\n",
    "import os\n",
    "import pandas as pd\n",
    "from bs4 import BeautifulSoup\n",
    "import numpy as np\n",
    "!pip install xlrd"
   ]
  },
  {
   "cell_type": "code",
   "execution_count": 31,
   "metadata": {},
   "outputs": [],
   "source": [
    "songs_df = pd.read_csv('./data/song_data_0104.csv', encoding=\"ISO-8859-1\")\n",
    "\n",
    "#changing loudness category into just integer values\n",
    "songs_df['loudness_db'] = songs_df['loudness'].str.replace('dB', ' ').str.strip()\n",
    "\n",
    "#dropping all columns that only have 'unknown' as their single value & original loudness\n",
    "songs_df = songs_df.drop(['race', 'age', 'selection', 'release_date', 'key_change_10', 'loudness'], axis='columns')\n"
   ]
  },
  {
   "cell_type": "code",
   "execution_count": 32,
   "metadata": {},
   "outputs": [
    {
     "data": {
      "text/html": [
       "<div>\n",
       "<style scoped>\n",
       "    .dataframe tbody tr th:only-of-type {\n",
       "        vertical-align: middle;\n",
       "    }\n",
       "\n",
       "    .dataframe tbody tr th {\n",
       "        vertical-align: top;\n",
       "    }\n",
       "\n",
       "    .dataframe thead th {\n",
       "        text-align: right;\n",
       "    }\n",
       "</style>\n",
       "<table border=\"1\" class=\"dataframe\">\n",
       "  <thead>\n",
       "    <tr style=\"text-align: right;\">\n",
       "      <th></th>\n",
       "      <th>year</th>\n",
       "      <th>semi_final</th>\n",
       "      <th>semi_draw_position</th>\n",
       "      <th>final_draw_position</th>\n",
       "      <th>country</th>\n",
       "      <th>artist_name</th>\n",
       "      <th>song_name</th>\n",
       "      <th>language</th>\n",
       "      <th>style</th>\n",
       "      <th>direct_qualifier_10</th>\n",
       "      <th>...</th>\n",
       "      <th>final_jury_votes</th>\n",
       "      <th>final_place</th>\n",
       "      <th>final_total_points</th>\n",
       "      <th>semi_place</th>\n",
       "      <th>semi_televote_points</th>\n",
       "      <th>semi_jury_points</th>\n",
       "      <th>semi_total_points</th>\n",
       "      <th>favourite_10</th>\n",
       "      <th>host_10</th>\n",
       "      <th>loudness_db</th>\n",
       "    </tr>\n",
       "  </thead>\n",
       "  <tbody>\n",
       "    <tr>\n",
       "      <th>6</th>\n",
       "      <td>2023</td>\n",
       "      <td>1</td>\n",
       "      <td>7</td>\n",
       "      <td>25</td>\n",
       "      <td>Croatia</td>\n",
       "      <td>Let 3</td>\n",
       "      <td>Mama C!</td>\n",
       "      <td>Croatian</td>\n",
       "      <td>Pop</td>\n",
       "      <td>0</td>\n",
       "      <td>...</td>\n",
       "      <td>2.0</td>\n",
       "      <td>13.0</td>\n",
       "      <td>123.0</td>\n",
       "      <td>8.0</td>\n",
       "      <td>76.0</td>\n",
       "      <td>NaN</td>\n",
       "      <td>76.0</td>\n",
       "      <td>0</td>\n",
       "      <td>0</td>\n",
       "      <td>7</td>\n",
       "    </tr>\n",
       "  </tbody>\n",
       "</table>\n",
       "<p>1 rows × 39 columns</p>\n",
       "</div>"
      ],
      "text/plain": [
       "   year semi_final semi_draw_position final_draw_position  country  \\\n",
       "6  2023          1                  7                  25  Croatia   \n",
       "\n",
       "  artist_name song_name  language style direct_qualifier_10  ...  \\\n",
       "6       Let 3  Mama C!  Croatian   Pop                   0  ...   \n",
       "\n",
       "  final_jury_votes  final_place final_total_points semi_place  \\\n",
       "6              2.0         13.0              123.0        8.0   \n",
       "\n",
       "  semi_televote_points semi_jury_points semi_total_points favourite_10  \\\n",
       "6                 76.0              NaN              76.0            0   \n",
       "\n",
       "  host_10 loudness_db  \n",
       "6       0           7  \n",
       "\n",
       "[1 rows x 39 columns]"
      ]
     },
     "execution_count": 32,
     "metadata": {},
     "output_type": "execute_result"
    }
   ],
   "source": [
    "songs_df[songs_df['artist_name'].str.lower() == 'let 3']\n"
   ]
  },
  {
   "cell_type": "code",
   "execution_count": 33,
   "metadata": {},
   "outputs": [
    {
     "data": {
      "text/html": [
       "<div>\n",
       "<style scoped>\n",
       "    .dataframe tbody tr th:only-of-type {\n",
       "        vertical-align: middle;\n",
       "    }\n",
       "\n",
       "    .dataframe tbody tr th {\n",
       "        vertical-align: top;\n",
       "    }\n",
       "\n",
       "    .dataframe thead th {\n",
       "        text-align: right;\n",
       "    }\n",
       "</style>\n",
       "<table border=\"1\" class=\"dataframe\">\n",
       "  <thead>\n",
       "    <tr style=\"text-align: right;\">\n",
       "      <th></th>\n",
       "      <th>year</th>\n",
       "      <th>semi_final</th>\n",
       "      <th>semi_draw_position</th>\n",
       "      <th>final_draw_position</th>\n",
       "      <th>country</th>\n",
       "      <th>artist_name</th>\n",
       "      <th>song_name</th>\n",
       "      <th>language</th>\n",
       "      <th>style</th>\n",
       "      <th>direct_qualifier_10</th>\n",
       "      <th>...</th>\n",
       "      <th>final_jury_votes</th>\n",
       "      <th>final_place</th>\n",
       "      <th>final_total_points</th>\n",
       "      <th>semi_place</th>\n",
       "      <th>semi_televote_points</th>\n",
       "      <th>semi_jury_points</th>\n",
       "      <th>semi_total_points</th>\n",
       "      <th>favourite_10</th>\n",
       "      <th>host_10</th>\n",
       "      <th>loudness_db</th>\n",
       "    </tr>\n",
       "  </thead>\n",
       "  <tbody>\n",
       "  </tbody>\n",
       "</table>\n",
       "<p>0 rows × 39 columns</p>\n",
       "</div>"
      ],
      "text/plain": [
       "Empty DataFrame\n",
       "Columns: [year, semi_final, semi_draw_position, final_draw_position, country, artist_name, song_name, language, style, direct_qualifier_10, gender, main_singers, key, BPM, energy, danceability, happiness, acousticness, instrumentalness, liveness, speechiness, backing_dancers, backing_singers, backing_instruments, instrument_10, qualified_10, final_televote_points, final_jury_points, final_televote_votes, final_jury_votes, final_place, final_total_points, semi_place, semi_televote_points, semi_jury_points, semi_total_points, favourite_10, host_10, loudness_db]\n",
       "Index: []\n",
       "\n",
       "[0 rows x 39 columns]"
      ]
     },
     "execution_count": 33,
     "metadata": {},
     "output_type": "execute_result"
    }
   ],
   "source": [
    "songs_df[songs_df['song_name'] == 'Mama ŠČ!']"
   ]
  },
  {
   "cell_type": "code",
   "execution_count": 34,
   "metadata": {},
   "outputs": [],
   "source": [
    "# Replace the song name\n",
    "songs_df.loc[songs_df['song_name'] == 'Mama C!', 'song_name'] = 'Mama ŠČ!'"
   ]
  },
  {
   "cell_type": "code",
   "execution_count": 35,
   "metadata": {},
   "outputs": [
    {
     "data": {
      "text/html": [
       "<div>\n",
       "<style scoped>\n",
       "    .dataframe tbody tr th:only-of-type {\n",
       "        vertical-align: middle;\n",
       "    }\n",
       "\n",
       "    .dataframe tbody tr th {\n",
       "        vertical-align: top;\n",
       "    }\n",
       "\n",
       "    .dataframe thead th {\n",
       "        text-align: right;\n",
       "    }\n",
       "</style>\n",
       "<table border=\"1\" class=\"dataframe\">\n",
       "  <thead>\n",
       "    <tr style=\"text-align: right;\">\n",
       "      <th></th>\n",
       "      <th>year</th>\n",
       "      <th>semi_final</th>\n",
       "      <th>semi_draw_position</th>\n",
       "      <th>final_draw_position</th>\n",
       "      <th>country</th>\n",
       "      <th>artist_name</th>\n",
       "      <th>song_name</th>\n",
       "      <th>language</th>\n",
       "      <th>style</th>\n",
       "      <th>direct_qualifier_10</th>\n",
       "      <th>...</th>\n",
       "      <th>final_jury_votes</th>\n",
       "      <th>final_place</th>\n",
       "      <th>final_total_points</th>\n",
       "      <th>semi_place</th>\n",
       "      <th>semi_televote_points</th>\n",
       "      <th>semi_jury_points</th>\n",
       "      <th>semi_total_points</th>\n",
       "      <th>favourite_10</th>\n",
       "      <th>host_10</th>\n",
       "      <th>loudness_db</th>\n",
       "    </tr>\n",
       "  </thead>\n",
       "  <tbody>\n",
       "    <tr>\n",
       "      <th>0</th>\n",
       "      <td>2023</td>\n",
       "      <td>1</td>\n",
       "      <td>1</td>\n",
       "      <td>20</td>\n",
       "      <td>Norway</td>\n",
       "      <td>Alessandra</td>\n",
       "      <td>Queen of Kings</td>\n",
       "      <td>English</td>\n",
       "      <td>Pop</td>\n",
       "      <td>0</td>\n",
       "      <td>...</td>\n",
       "      <td>11.0</td>\n",
       "      <td>5.0</td>\n",
       "      <td>268.0</td>\n",
       "      <td>6.0</td>\n",
       "      <td>102.0</td>\n",
       "      <td>NaN</td>\n",
       "      <td>102.0</td>\n",
       "      <td>0</td>\n",
       "      <td>0</td>\n",
       "      <td>10</td>\n",
       "    </tr>\n",
       "    <tr>\n",
       "      <th>1</th>\n",
       "      <td>2023</td>\n",
       "      <td>1</td>\n",
       "      <td>2</td>\n",
       "      <td>NaN</td>\n",
       "      <td>Malta</td>\n",
       "      <td>The Busker</td>\n",
       "      <td>Dance (Our Own Party)</td>\n",
       "      <td>English</td>\n",
       "      <td>Pop</td>\n",
       "      <td>-</td>\n",
       "      <td>...</td>\n",
       "      <td>NaN</td>\n",
       "      <td>NaN</td>\n",
       "      <td>NaN</td>\n",
       "      <td>15.0</td>\n",
       "      <td>3.0</td>\n",
       "      <td>NaN</td>\n",
       "      <td>3.0</td>\n",
       "      <td>0</td>\n",
       "      <td>0</td>\n",
       "      <td>6</td>\n",
       "    </tr>\n",
       "    <tr>\n",
       "      <th>2</th>\n",
       "      <td>2023</td>\n",
       "      <td>1</td>\n",
       "      <td>3</td>\n",
       "      <td>5</td>\n",
       "      <td>Serbia</td>\n",
       "      <td>Luke Black</td>\n",
       "      <td>Samo mi se spava</td>\n",
       "      <td>Serbian, English</td>\n",
       "      <td>Pop</td>\n",
       "      <td>0</td>\n",
       "      <td>...</td>\n",
       "      <td>6.0</td>\n",
       "      <td>24.0</td>\n",
       "      <td>30.0</td>\n",
       "      <td>10.0</td>\n",
       "      <td>37.0</td>\n",
       "      <td>NaN</td>\n",
       "      <td>37.0</td>\n",
       "      <td>0</td>\n",
       "      <td>0</td>\n",
       "      <td>10</td>\n",
       "    </tr>\n",
       "    <tr>\n",
       "      <th>3</th>\n",
       "      <td>2023</td>\n",
       "      <td>1</td>\n",
       "      <td>4</td>\n",
       "      <td>NaN</td>\n",
       "      <td>Latvia</td>\n",
       "      <td>Sudden Lights</td>\n",
       "      <td>Aija</td>\n",
       "      <td>English</td>\n",
       "      <td>Rock</td>\n",
       "      <td>-</td>\n",
       "      <td>...</td>\n",
       "      <td>NaN</td>\n",
       "      <td>NaN</td>\n",
       "      <td>NaN</td>\n",
       "      <td>11.0</td>\n",
       "      <td>34.0</td>\n",
       "      <td>NaN</td>\n",
       "      <td>34.0</td>\n",
       "      <td>0</td>\n",
       "      <td>0</td>\n",
       "      <td>8</td>\n",
       "    </tr>\n",
       "    <tr>\n",
       "      <th>4</th>\n",
       "      <td>2023</td>\n",
       "      <td>1</td>\n",
       "      <td>5</td>\n",
       "      <td>2</td>\n",
       "      <td>Portugal</td>\n",
       "      <td>Mimicat</td>\n",
       "      <td>Ai coração</td>\n",
       "      <td>Portuguese</td>\n",
       "      <td>Pop</td>\n",
       "      <td>0</td>\n",
       "      <td>...</td>\n",
       "      <td>9.0</td>\n",
       "      <td>23.0</td>\n",
       "      <td>59.0</td>\n",
       "      <td>9.0</td>\n",
       "      <td>74.0</td>\n",
       "      <td>NaN</td>\n",
       "      <td>74.0</td>\n",
       "      <td>0</td>\n",
       "      <td>0</td>\n",
       "      <td>8</td>\n",
       "    </tr>\n",
       "  </tbody>\n",
       "</table>\n",
       "<p>5 rows × 39 columns</p>\n",
       "</div>"
      ],
      "text/plain": [
       "   year semi_final semi_draw_position final_draw_position   country  \\\n",
       "0  2023          1                  1                  20    Norway   \n",
       "1  2023          1                  2                 NaN     Malta   \n",
       "2  2023          1                  3                   5    Serbia   \n",
       "3  2023          1                  4                 NaN    Latvia   \n",
       "4  2023          1                  5                   2  Portugal   \n",
       "\n",
       "     artist_name              song_name          language style  \\\n",
       "0     Alessandra         Queen of Kings           English   Pop   \n",
       "1     The Busker  Dance (Our Own Party)           English   Pop   \n",
       "2     Luke Black       Samo mi se spava  Serbian, English   Pop   \n",
       "3  Sudden Lights                   Aija           English  Rock   \n",
       "4        Mimicat             Ai coração        Portuguese   Pop   \n",
       "\n",
       "  direct_qualifier_10  ... final_jury_votes  final_place final_total_points  \\\n",
       "0                   0  ...             11.0          5.0              268.0   \n",
       "1                   -  ...              NaN          NaN                NaN   \n",
       "2                   0  ...              6.0         24.0               30.0   \n",
       "3                   -  ...              NaN          NaN                NaN   \n",
       "4                   0  ...              9.0         23.0               59.0   \n",
       "\n",
       "  semi_place semi_televote_points semi_jury_points semi_total_points  \\\n",
       "0        6.0                102.0              NaN             102.0   \n",
       "1       15.0                  3.0              NaN               3.0   \n",
       "2       10.0                 37.0              NaN              37.0   \n",
       "3       11.0                 34.0              NaN              34.0   \n",
       "4        9.0                 74.0              NaN              74.0   \n",
       "\n",
       "  favourite_10 host_10 loudness_db  \n",
       "0            0       0          10  \n",
       "1            0       0           6  \n",
       "2            0       0          10  \n",
       "3            0       0           8  \n",
       "4            0       0           8  \n",
       "\n",
       "[5 rows x 39 columns]"
      ]
     },
     "execution_count": 35,
     "metadata": {},
     "output_type": "execute_result"
    }
   ],
   "source": [
    "songs_df.head()"
   ]
  },
  {
   "cell_type": "code",
   "execution_count": 36,
   "metadata": {},
   "outputs": [],
   "source": [
    "contestants_df = pd.read_csv('./data/contestants.csv', encoding=\"ISO-8859-1\")"
   ]
  },
  {
   "cell_type": "code",
   "execution_count": 39,
   "metadata": {},
   "outputs": [
    {
     "data": {
      "text/plain": [
       "0                                Refrain\n",
       "1                  De Vogels Van Holland\n",
       "2       Messieurs Les NoyÃ©s De La Seine\n",
       "3        Im Wartesaal Zum GroÃen GlÃ¼ck\n",
       "4                         Le Temps Perdu\n",
       "                      ...               \n",
       "1729                               AijÄ\n",
       "1730                          We Are One\n",
       "1731                    Burning Daylight\n",
       "1732                        Tell Me More\n",
       "1733               Dance (Our Own Party)\n",
       "Name: song, Length: 1734, dtype: object"
      ]
     },
     "execution_count": 39,
     "metadata": {},
     "output_type": "execute_result"
    }
   ],
   "source": [
    "contestants_df['song']\n",
    "songs_df['song_name']\n"
   ]
  },
  {
   "cell_type": "code",
   "execution_count": 40,
   "metadata": {},
   "outputs": [],
   "source": [
    "# Normalize contestants_df['song']\n",
    "contestants_df['song_clean'] = contestants_df['song'].str.lower().str.strip()\n",
    "\n",
    "# Normalize songs_df['song_name']\n",
    "songs_df['song_name_clean'] = songs_df['song_name'].str.lower().str.strip()"
   ]
  },
  {
   "cell_type": "code",
   "execution_count": 44,
   "metadata": {},
   "outputs": [
    {
     "data": {
      "text/plain": [
       "0                                refrain\n",
       "1                  de vogels van holland\n",
       "2       messieurs les noyã©s de la seine\n",
       "3        im wartesaal zum groãen glã¼ck\n",
       "4                         le temps perdu\n",
       "                      ...               \n",
       "1729                               aijä\n",
       "1730                          we are one\n",
       "1731                    burning daylight\n",
       "1732                        tell me more\n",
       "1733               dance (our own party)\n",
       "Name: song_clean, Length: 1734, dtype: object"
      ]
     },
     "execution_count": 44,
     "metadata": {},
     "output_type": "execute_result"
    }
   ],
   "source": [
    "contestants_df['song_clean']"
   ]
  },
  {
   "cell_type": "code",
   "execution_count": 45,
   "metadata": {},
   "outputs": [
    {
     "name": "stdout",
     "output_type": "stream",
     "text": [
      "Matching songs:                        song\n",
      "324               Mata Hari\n",
      "358               Boom Boom\n",
      "527        Soldiers Of Love\n",
      "656               This Time\n",
      "706                    Amen\n",
      "...                     ...\n",
      "1714      Breaking My Heart\n",
      "1715           Tell Me More\n",
      "1716  Dance (Our Own Party)\n",
      "1717    D.G.T. (Off and On)\n",
      "1718         Like An Animal\n",
      "\n",
      "[499 rows x 1 columns]\n"
     ]
    }
   ],
   "source": [
    "# Get matches (songs present in both DataFrames)\n",
    "matching_songs = contestants_df[contestants_df['song_clean'].isin(songs_df['song_name_clean'])]\n",
    "print(\"Matching songs:\", matching_songs[['song']].drop_duplicates())"
   ]
  },
  {
   "cell_type": "code",
   "execution_count": 42,
   "metadata": {},
   "outputs": [
    {
     "name": "stdout",
     "output_type": "stream",
     "text": [
      "Non-matching songs:                                   song\n",
      "0                              Refrain\n",
      "1                De Vogels Van Holland\n",
      "2     Messieurs Les NoyÃ©s De La Seine\n",
      "3      Im Wartesaal Zum GroÃen GlÃ¼ck\n",
      "4                       Le Temps Perdu\n",
      "...                                ...\n",
      "1694                        Mama Å Ä!\n",
      "1697                       Ãvidemment\n",
      "1699                  Soarele Èi Luna\n",
      "1704                      Ai CoraÃ§Ã£o\n",
      "1709                             AijÄ\n",
      "\n",
      "[1179 rows x 1 columns]\n"
     ]
    }
   ],
   "source": [
    "# Get non-matches (songs in contestants_df but not in songs_df)\n",
    "non_matching_songs = contestants_df[~contestants_df['song_clean'].isin(songs_df['song_name_clean'])]\n",
    "print(\"Non-matching songs:\", non_matching_songs[['song']].drop_duplicates())"
   ]
  },
  {
   "cell_type": "code",
   "execution_count": 43,
   "metadata": {},
   "outputs": [
    {
     "name": "stdout",
     "output_type": "stream",
     "text": [
      "                                  song  is_matching\n",
      "0                              Refrain        False\n",
      "1                De Vogels Van Holland        False\n",
      "2     Messieurs Les NoyÃ©s De La Seine        False\n",
      "3      Im Wartesaal Zum GroÃen GlÃ¼ck        False\n",
      "4                       Le Temps Perdu        False\n",
      "...                                ...          ...\n",
      "1729                             AijÄ        False\n",
      "1730                        We Are One         True\n",
      "1731                  Burning Daylight         True\n",
      "1732                      Tell Me More         True\n",
      "1733             Dance (Our Own Party)         True\n",
      "\n",
      "[1734 rows x 2 columns]\n"
     ]
    }
   ],
   "source": [
    "contestants_df['is_matching'] = contestants_df['song_clean'].isin(songs_df['song_name_clean'])\n",
    "print(contestants_df[['song', 'is_matching']])"
   ]
  },
  {
   "cell_type": "code",
   "execution_count": 63,
   "metadata": {},
   "outputs": [],
   "source": [
    "# Pushing these tables to the AWS\n",
    "\n",
    "from sqlalchemy import create_engine, types\n",
    "from sqlalchemy import text # to be able to pass string\n",
    "\n",
    "\n",
    "# Let's load values from the .env file\n",
    "from dotenv import dotenv_values\n",
    "\n",
    "config = dotenv_values()\n",
    "\n",
    "# define variables for the login\n",
    "pg_user = config['POSTGRES_USER']  # align the key label with your .env file !\n",
    "pg_host = config['POSTGRES_HOST']\n",
    "pg_port = config['POSTGRES_PORT']\n",
    "pg_db = config['POSTGRES_DB']\n",
    "pg_schema = config['POSTGRES_SCHEMA']\n",
    "pg_pass = config['POSTGRES_PASS']\n",
    "\n",
    "\n",
    "url = f'postgresql://{pg_user}:{pg_pass}@{pg_host}:{pg_port}/{pg_db}'\n",
    "\n",
    "engine = create_engine(url, echo=False)"
   ]
  },
  {
   "cell_type": "code",
   "execution_count": 64,
   "metadata": {},
   "outputs": [
    {
     "data": {
      "text/plain": [
       "565"
      ]
     },
     "execution_count": 64,
     "metadata": {},
     "output_type": "execute_result"
    }
   ],
   "source": [
    "songs_df.to_sql(name = 'songs', \n",
    "                       con = engine, \n",
    "                       schema = pg_schema, # pandas is allowing to specify, in which schema the table shall be created\n",
    "                       if_exists='replace', \n",
    "                       index=False\n",
    "                      )"
   ]
  },
  {
   "cell_type": "code",
   "execution_count": null,
   "metadata": {},
   "outputs": [],
   "source": []
  }
 ],
 "metadata": {
  "kernelspec": {
   "display_name": "base",
   "language": "python",
   "name": "python3"
  },
  "language_info": {
   "codemirror_mode": {
    "name": "ipython",
    "version": 3
   },
   "file_extension": ".py",
   "mimetype": "text/x-python",
   "name": "python",
   "nbconvert_exporter": "python",
   "pygments_lexer": "ipython3",
   "version": "3.12.2"
  }
 },
 "nbformat": 4,
 "nbformat_minor": 4
}
