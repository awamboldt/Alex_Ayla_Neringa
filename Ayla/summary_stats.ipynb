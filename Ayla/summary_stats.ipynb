{
 "cells": [
  {
   "cell_type": "markdown",
   "metadata": {},
   "source": [
    "# Eurovision\n",
    "*Problem Statement? Research Question?*\n"
   ]
  },
  {
   "cell_type": "markdown",
   "metadata": {},
   "source": [
    "Datasets we have:\n",
    "1. Contest Data (includes hosting countries)\n",
    "2. Contestants Data\n",
    "3. Song Data \n",
    "4. Votes data\n",
    "5. Betting Offices\n",
    "\n"
   ]
  },
  {
   "cell_type": "code",
   "execution_count": 6,
   "metadata": {},
   "outputs": [],
   "source": [
    "# Import the different libraries\n",
    "import pandas as pd"
   ]
  },
  {
   "cell_type": "markdown",
   "metadata": {},
   "source": [
    "Setting up SQLAlchemy to import datasets cleaned and structured in AWS."
   ]
  },
  {
   "cell_type": "code",
   "execution_count": 48,
   "metadata": {},
   "outputs": [],
   "source": [
    "# Let's load values from the .env file\n",
    "from dotenv import dotenv_values\n",
    "\n",
    "config = dotenv_values()\n",
    "\n",
    "# We also will need SQLAlchemy and its functions\n",
    "from sqlalchemy import create_engine, types\n",
    "from sqlalchemy.dialects.postgresql import JSON as postgres_json\n",
    "from sqlalchemy import text # to be able to pass string\n",
    "\n",
    "# Import necessary libraries\n",
    "import numpy as np\n",
    "import pandas as pd\n",
    "import matplotlib.pyplot as plt\n",
    "import seaborn as sns\n",
    "import plotly.express as px \n",
    "\n",
    "# this so called \"line magic\" command, amongst other things, stores the plots in the notebook document.\n",
    "%matplotlib inline\n",
    "\n",
    "# warnings supression\n",
    "import warnings\n",
    "warnings.simplefilter(action='ignore', category=FutureWarning)\n",
    "\n",
    "# import the statsmodels.api module\n",
    "import statsmodels.api as sm\n",
    "from sklearn.model_selection import train_test_split\n",
    "from sklearn.metrics import mean_squared_error, r2_score"
   ]
  },
  {
   "cell_type": "code",
   "execution_count": 80,
   "metadata": {},
   "outputs": [],
   "source": [
    "# define variables for the login\n",
    "pg_user = config['POSTGRES_USER']  # align the key label with your .env file !\n",
    "pg_host = config['POSTGRES_HOST']\n",
    "pg_port = config['POSTGRES_PORT']\n",
    "pg_db = config['POSTGRES_DB']\n",
    "pg_schema = config['POSTGRES_SCHEMA']\n",
    "pg_pass = config['POSTGRES_PASS']\n",
    "\n",
    "#SQL access details\n",
    "url = f'postgresql://{pg_user}:{pg_pass}@{pg_host}:{pg_port}/{pg_db}'\n",
    "engine = create_engine(url, echo=False)\n",
    "engine.url # password is hidden\n",
    "with engine.begin() as conn: \n",
    "    result = conn.execute(text(f'SET search_path TO {pg_schema};'))"
   ]
  },
  {
   "cell_type": "markdown",
   "metadata": {},
   "source": [
    "## 1. Contest Data\n"
   ]
  },
  {
   "cell_type": "code",
   "execution_count": null,
   "metadata": {},
   "outputs": [],
   "source": []
  },
  {
   "cell_type": "markdown",
   "metadata": {},
   "source": [
    "Key stats about the Contest Data\n",
    "1. Shape of df (14,7)\n",
    "2. Year column 2009 - 2023. No data for 2020 because no contest duh.\n",
    "3. 14 countries. 13 unique countries & 1 country >1 count\n"
   ]
  },
  {
   "cell_type": "markdown",
   "metadata": {},
   "source": [
    "### Importing Data"
   ]
  },
  {
   "cell_type": "code",
   "execution_count": 71,
   "metadata": {},
   "outputs": [],
   "source": [
    "contest_df_raw = pd.read_csv('/Users/aylaabdullah/Desktop/bootcamp/Final project local work/Alex_Ayla_Neringa/data/contest_data.csv')"
   ]
  },
  {
   "cell_type": "markdown",
   "metadata": {},
   "source": [
    "### Basic df stats"
   ]
  },
  {
   "cell_type": "code",
   "execution_count": 72,
   "metadata": {},
   "outputs": [
    {
     "name": "stdout",
     "output_type": "stream",
     "text": [
      "<class 'pandas.core.frame.DataFrame'>\n",
      "RangeIndex: 14 entries, 0 to 13\n",
      "Data columns (total 7 columns):\n",
      " #   Column                           Non-Null Count  Dtype  \n",
      "---  ------                           --------------  -----  \n",
      " 0   year                             14 non-null     int64  \n",
      " 1   host                             14 non-null     object \n",
      " 2   date                             14 non-null     object \n",
      " 3   semi_countries                   14 non-null     int64  \n",
      " 4   final_countries                  14 non-null     int64  \n",
      " 5   jury_countries_voting_final      9 non-null      float64\n",
      " 6   televote_countries_voting_final  9 non-null      float64\n",
      "dtypes: float64(2), int64(3), object(2)\n",
      "memory usage: 916.0+ bytes\n"
     ]
    }
   ],
   "source": [
    "contest_df_raw.info()"
   ]
  },
  {
   "cell_type": "code",
   "execution_count": 73,
   "metadata": {},
   "outputs": [
    {
     "data": {
      "text/plain": [
       "(14, 7)"
      ]
     },
     "execution_count": 73,
     "metadata": {},
     "output_type": "execute_result"
    }
   ],
   "source": [
    "contest_df_raw.shape"
   ]
  },
  {
   "cell_type": "code",
   "execution_count": 74,
   "metadata": {},
   "outputs": [
    {
     "data": {
      "text/html": [
       "<div>\n",
       "<style scoped>\n",
       "    .dataframe tbody tr th:only-of-type {\n",
       "        vertical-align: middle;\n",
       "    }\n",
       "\n",
       "    .dataframe tbody tr th {\n",
       "        vertical-align: top;\n",
       "    }\n",
       "\n",
       "    .dataframe thead th {\n",
       "        text-align: right;\n",
       "    }\n",
       "</style>\n",
       "<table border=\"1\" class=\"dataframe\">\n",
       "  <thead>\n",
       "    <tr style=\"text-align: right;\">\n",
       "      <th></th>\n",
       "      <th>year</th>\n",
       "      <th>semi_countries</th>\n",
       "      <th>final_countries</th>\n",
       "      <th>jury_countries_voting_final</th>\n",
       "      <th>televote_countries_voting_final</th>\n",
       "    </tr>\n",
       "  </thead>\n",
       "  <tbody>\n",
       "    <tr>\n",
       "      <th>count</th>\n",
       "      <td>14.000000</td>\n",
       "      <td>14.000000</td>\n",
       "      <td>14.000000</td>\n",
       "      <td>9.000000</td>\n",
       "      <td>9.000000</td>\n",
       "    </tr>\n",
       "    <tr>\n",
       "      <th>mean</th>\n",
       "      <td>2015.714286</td>\n",
       "      <td>34.642857</td>\n",
       "      <td>25.785714</td>\n",
       "      <td>39.777778</td>\n",
       "      <td>39.888889</td>\n",
       "    </tr>\n",
       "    <tr>\n",
       "      <th>std</th>\n",
       "      <td>4.496641</td>\n",
       "      <td>2.205139</td>\n",
       "      <td>0.578934</td>\n",
       "      <td>2.438123</td>\n",
       "      <td>2.472066</td>\n",
       "    </tr>\n",
       "    <tr>\n",
       "      <th>min</th>\n",
       "      <td>2009.000000</td>\n",
       "      <td>31.000000</td>\n",
       "      <td>25.000000</td>\n",
       "      <td>36.000000</td>\n",
       "      <td>35.000000</td>\n",
       "    </tr>\n",
       "    <tr>\n",
       "      <th>25%</th>\n",
       "      <td>2012.250000</td>\n",
       "      <td>33.000000</td>\n",
       "      <td>25.250000</td>\n",
       "      <td>38.000000</td>\n",
       "      <td>39.000000</td>\n",
       "    </tr>\n",
       "    <tr>\n",
       "      <th>50%</th>\n",
       "      <td>2015.500000</td>\n",
       "      <td>35.000000</td>\n",
       "      <td>26.000000</td>\n",
       "      <td>40.000000</td>\n",
       "      <td>40.000000</td>\n",
       "    </tr>\n",
       "    <tr>\n",
       "      <th>75%</th>\n",
       "      <td>2018.750000</td>\n",
       "      <td>36.000000</td>\n",
       "      <td>26.000000</td>\n",
       "      <td>42.000000</td>\n",
       "      <td>42.000000</td>\n",
       "    </tr>\n",
       "    <tr>\n",
       "      <th>max</th>\n",
       "      <td>2023.000000</td>\n",
       "      <td>38.000000</td>\n",
       "      <td>27.000000</td>\n",
       "      <td>43.000000</td>\n",
       "      <td>43.000000</td>\n",
       "    </tr>\n",
       "  </tbody>\n",
       "</table>\n",
       "</div>"
      ],
      "text/plain": [
       "              year  semi_countries  final_countries  \\\n",
       "count    14.000000       14.000000        14.000000   \n",
       "mean   2015.714286       34.642857        25.785714   \n",
       "std       4.496641        2.205139         0.578934   \n",
       "min    2009.000000       31.000000        25.000000   \n",
       "25%    2012.250000       33.000000        25.250000   \n",
       "50%    2015.500000       35.000000        26.000000   \n",
       "75%    2018.750000       36.000000        26.000000   \n",
       "max    2023.000000       38.000000        27.000000   \n",
       "\n",
       "       jury_countries_voting_final  televote_countries_voting_final  \n",
       "count                     9.000000                         9.000000  \n",
       "mean                     39.777778                        39.888889  \n",
       "std                       2.438123                         2.472066  \n",
       "min                      36.000000                        35.000000  \n",
       "25%                      38.000000                        39.000000  \n",
       "50%                      40.000000                        40.000000  \n",
       "75%                      42.000000                        42.000000  \n",
       "max                      43.000000                        43.000000  "
      ]
     },
     "execution_count": 74,
     "metadata": {},
     "output_type": "execute_result"
    }
   ],
   "source": [
    "contest_df_raw.describe()"
   ]
  },
  {
   "cell_type": "code",
   "execution_count": 75,
   "metadata": {},
   "outputs": [
    {
     "data": {
      "text/html": [
       "<div>\n",
       "<style scoped>\n",
       "    .dataframe tbody tr th:only-of-type {\n",
       "        vertical-align: middle;\n",
       "    }\n",
       "\n",
       "    .dataframe tbody tr th {\n",
       "        vertical-align: top;\n",
       "    }\n",
       "\n",
       "    .dataframe thead th {\n",
       "        text-align: right;\n",
       "    }\n",
       "</style>\n",
       "<table border=\"1\" class=\"dataframe\">\n",
       "  <thead>\n",
       "    <tr style=\"text-align: right;\">\n",
       "      <th></th>\n",
       "      <th>host</th>\n",
       "      <th>date</th>\n",
       "    </tr>\n",
       "  </thead>\n",
       "  <tbody>\n",
       "    <tr>\n",
       "      <th>count</th>\n",
       "      <td>14</td>\n",
       "      <td>14</td>\n",
       "    </tr>\n",
       "    <tr>\n",
       "      <th>unique</th>\n",
       "      <td>13</td>\n",
       "      <td>14</td>\n",
       "    </tr>\n",
       "    <tr>\n",
       "      <th>top</th>\n",
       "      <td>Sweden</td>\n",
       "      <td>13/05/2023</td>\n",
       "    </tr>\n",
       "    <tr>\n",
       "      <th>freq</th>\n",
       "      <td>2</td>\n",
       "      <td>1</td>\n",
       "    </tr>\n",
       "  </tbody>\n",
       "</table>\n",
       "</div>"
      ],
      "text/plain": [
       "          host        date\n",
       "count       14          14\n",
       "unique      13          14\n",
       "top     Sweden  13/05/2023\n",
       "freq         2           1"
      ]
     },
     "execution_count": 75,
     "metadata": {},
     "output_type": "execute_result"
    }
   ],
   "source": [
    "contest_df_raw.describe(include='object')"
   ]
  },
  {
   "cell_type": "markdown",
   "metadata": {},
   "source": [
    "### Columns"
   ]
  },
  {
   "cell_type": "code",
   "execution_count": 76,
   "metadata": {},
   "outputs": [
    {
     "data": {
      "text/plain": [
       "year                                 int64\n",
       "host                                object\n",
       "date                                object\n",
       "semi_countries                       int64\n",
       "final_countries                      int64\n",
       "jury_countries_voting_final        float64\n",
       "televote_countries_voting_final    float64\n",
       "dtype: object"
      ]
     },
     "execution_count": 76,
     "metadata": {},
     "output_type": "execute_result"
    }
   ],
   "source": [
    "contest_df_raw.dtypes"
   ]
  },
  {
   "cell_type": "code",
   "execution_count": 77,
   "metadata": {},
   "outputs": [
    {
     "data": {
      "text/html": [
       "<div>\n",
       "<style scoped>\n",
       "    .dataframe tbody tr th:only-of-type {\n",
       "        vertical-align: middle;\n",
       "    }\n",
       "\n",
       "    .dataframe tbody tr th {\n",
       "        vertical-align: top;\n",
       "    }\n",
       "\n",
       "    .dataframe thead th {\n",
       "        text-align: right;\n",
       "    }\n",
       "</style>\n",
       "<table border=\"1\" class=\"dataframe\">\n",
       "  <thead>\n",
       "    <tr style=\"text-align: right;\">\n",
       "      <th></th>\n",
       "      <th>year</th>\n",
       "      <th>host</th>\n",
       "      <th>date</th>\n",
       "      <th>semi_countries</th>\n",
       "      <th>final_countries</th>\n",
       "      <th>jury_countries_voting_final</th>\n",
       "      <th>televote_countries_voting_final</th>\n",
       "    </tr>\n",
       "  </thead>\n",
       "  <tbody>\n",
       "    <tr>\n",
       "      <th>0</th>\n",
       "      <td>2023</td>\n",
       "      <td>United Kingdom</td>\n",
       "      <td>13/05/2023</td>\n",
       "      <td>31</td>\n",
       "      <td>26</td>\n",
       "      <td>37.0</td>\n",
       "      <td>38.0</td>\n",
       "    </tr>\n",
       "    <tr>\n",
       "      <th>1</th>\n",
       "      <td>2022</td>\n",
       "      <td>Italy</td>\n",
       "      <td>14/05/2022</td>\n",
       "      <td>35</td>\n",
       "      <td>25</td>\n",
       "      <td>40.0</td>\n",
       "      <td>40.0</td>\n",
       "    </tr>\n",
       "    <tr>\n",
       "      <th>2</th>\n",
       "      <td>2021</td>\n",
       "      <td>Netherlands</td>\n",
       "      <td>22/05/2021</td>\n",
       "      <td>33</td>\n",
       "      <td>26</td>\n",
       "      <td>39.0</td>\n",
       "      <td>39.0</td>\n",
       "    </tr>\n",
       "    <tr>\n",
       "      <th>3</th>\n",
       "      <td>2019</td>\n",
       "      <td>Israel</td>\n",
       "      <td>18/05/2019</td>\n",
       "      <td>35</td>\n",
       "      <td>26</td>\n",
       "      <td>41.0</td>\n",
       "      <td>41.0</td>\n",
       "    </tr>\n",
       "    <tr>\n",
       "      <th>4</th>\n",
       "      <td>2018</td>\n",
       "      <td>Portugal</td>\n",
       "      <td>12/05/2018</td>\n",
       "      <td>37</td>\n",
       "      <td>26</td>\n",
       "      <td>43.0</td>\n",
       "      <td>43.0</td>\n",
       "    </tr>\n",
       "    <tr>\n",
       "      <th>5</th>\n",
       "      <td>2017</td>\n",
       "      <td>Ukraine</td>\n",
       "      <td>13/05/2017</td>\n",
       "      <td>36</td>\n",
       "      <td>26</td>\n",
       "      <td>42.0</td>\n",
       "      <td>42.0</td>\n",
       "    </tr>\n",
       "    <tr>\n",
       "      <th>6</th>\n",
       "      <td>2016</td>\n",
       "      <td>Sweden</td>\n",
       "      <td>14/05/2016</td>\n",
       "      <td>36</td>\n",
       "      <td>26</td>\n",
       "      <td>42.0</td>\n",
       "      <td>42.0</td>\n",
       "    </tr>\n",
       "    <tr>\n",
       "      <th>7</th>\n",
       "      <td>2015</td>\n",
       "      <td>Austria</td>\n",
       "      <td>23/05/2015</td>\n",
       "      <td>33</td>\n",
       "      <td>27</td>\n",
       "      <td>38.0</td>\n",
       "      <td>39.0</td>\n",
       "    </tr>\n",
       "    <tr>\n",
       "      <th>8</th>\n",
       "      <td>2014</td>\n",
       "      <td>Denmark</td>\n",
       "      <td>10/05/2014</td>\n",
       "      <td>31</td>\n",
       "      <td>26</td>\n",
       "      <td>36.0</td>\n",
       "      <td>35.0</td>\n",
       "    </tr>\n",
       "    <tr>\n",
       "      <th>9</th>\n",
       "      <td>2013</td>\n",
       "      <td>Sweden</td>\n",
       "      <td>18/05/2013</td>\n",
       "      <td>33</td>\n",
       "      <td>26</td>\n",
       "      <td>NaN</td>\n",
       "      <td>NaN</td>\n",
       "    </tr>\n",
       "    <tr>\n",
       "      <th>10</th>\n",
       "      <td>2012</td>\n",
       "      <td>Azerbaijan</td>\n",
       "      <td>26/05/2012</td>\n",
       "      <td>36</td>\n",
       "      <td>26</td>\n",
       "      <td>NaN</td>\n",
       "      <td>NaN</td>\n",
       "    </tr>\n",
       "    <tr>\n",
       "      <th>11</th>\n",
       "      <td>2011</td>\n",
       "      <td>Germany</td>\n",
       "      <td>14/05/2011</td>\n",
       "      <td>38</td>\n",
       "      <td>25</td>\n",
       "      <td>NaN</td>\n",
       "      <td>NaN</td>\n",
       "    </tr>\n",
       "    <tr>\n",
       "      <th>12</th>\n",
       "      <td>2010</td>\n",
       "      <td>Norway</td>\n",
       "      <td>29/05/2010</td>\n",
       "      <td>34</td>\n",
       "      <td>25</td>\n",
       "      <td>NaN</td>\n",
       "      <td>NaN</td>\n",
       "    </tr>\n",
       "    <tr>\n",
       "      <th>13</th>\n",
       "      <td>2009</td>\n",
       "      <td>Russia</td>\n",
       "      <td>16/05/2009</td>\n",
       "      <td>37</td>\n",
       "      <td>25</td>\n",
       "      <td>NaN</td>\n",
       "      <td>NaN</td>\n",
       "    </tr>\n",
       "  </tbody>\n",
       "</table>\n",
       "</div>"
      ],
      "text/plain": [
       "    year            host        date  semi_countries  final_countries  \\\n",
       "0   2023  United Kingdom  13/05/2023              31               26   \n",
       "1   2022           Italy  14/05/2022              35               25   \n",
       "2   2021     Netherlands  22/05/2021              33               26   \n",
       "3   2019          Israel  18/05/2019              35               26   \n",
       "4   2018        Portugal  12/05/2018              37               26   \n",
       "5   2017         Ukraine  13/05/2017              36               26   \n",
       "6   2016          Sweden  14/05/2016              36               26   \n",
       "7   2015         Austria  23/05/2015              33               27   \n",
       "8   2014         Denmark  10/05/2014              31               26   \n",
       "9   2013          Sweden  18/05/2013              33               26   \n",
       "10  2012      Azerbaijan  26/05/2012              36               26   \n",
       "11  2011         Germany  14/05/2011              38               25   \n",
       "12  2010          Norway  29/05/2010              34               25   \n",
       "13  2009          Russia  16/05/2009              37               25   \n",
       "\n",
       "    jury_countries_voting_final  televote_countries_voting_final  \n",
       "0                          37.0                             38.0  \n",
       "1                          40.0                             40.0  \n",
       "2                          39.0                             39.0  \n",
       "3                          41.0                             41.0  \n",
       "4                          43.0                             43.0  \n",
       "5                          42.0                             42.0  \n",
       "6                          42.0                             42.0  \n",
       "7                          38.0                             39.0  \n",
       "8                          36.0                             35.0  \n",
       "9                           NaN                              NaN  \n",
       "10                          NaN                              NaN  \n",
       "11                          NaN                              NaN  \n",
       "12                          NaN                              NaN  \n",
       "13                          NaN                              NaN  "
      ]
     },
     "execution_count": 77,
     "metadata": {},
     "output_type": "execute_result"
    }
   ],
   "source": [
    "contest_df_raw"
   ]
  },
  {
   "cell_type": "markdown",
   "metadata": {},
   "source": [
    "#### Year info"
   ]
  },
  {
   "cell_type": "code",
   "execution_count": 78,
   "metadata": {},
   "outputs": [
    {
     "name": "stdout",
     "output_type": "stream",
     "text": [
      "Start year: 2009\n",
      "End year: 2023\n",
      "Years missing: 0, apart from 2020 because contest was cancelled due to Covid-19\n",
      "Column type: int64\n"
     ]
    }
   ],
   "source": [
    "print(f'Start year: {contest_df_raw['year'].min()}')\n",
    "print(f'End year: {contest_df_raw['year'].max()}')\n",
    "print(f'Years missing: {(2023-2009) - contest_df_raw['year'].nunique()}, apart from 2020 because contest was cancelled due to Covid-19')\n",
    "print(f'Column type: {contest_df_raw['year'].dtype}')\n"
   ]
  },
  {
   "cell_type": "markdown",
   "metadata": {},
   "source": [
    "#### Host info"
   ]
  },
  {
   "cell_type": "code",
   "execution_count": 28,
   "metadata": {},
   "outputs": [
    {
     "data": {
      "text/plain": [
       "0     United Kingdom\n",
       "1              Italy\n",
       "2        Netherlands\n",
       "3             Israel\n",
       "4           Portugal\n",
       "5            Ukraine\n",
       "6             Sweden\n",
       "7            Austria\n",
       "8            Denmark\n",
       "9             Sweden\n",
       "10        Azerbaijan\n",
       "11           Germany\n",
       "12            Norway\n",
       "13            Russia\n",
       "Name: host, dtype: object"
      ]
     },
     "execution_count": 28,
     "metadata": {},
     "output_type": "execute_result"
    }
   ],
   "source": [
    "contest_df_raw['host']"
   ]
  },
  {
   "cell_type": "code",
   "execution_count": 45,
   "metadata": {},
   "outputs": [
    {
     "name": "stdout",
     "output_type": "stream",
     "text": [
      "List of countries and unique count: host\n",
      "Sweden            2\n",
      "United Kingdom    1\n",
      "Italy             1\n",
      "Netherlands       1\n",
      "Israel            1\n",
      "Portugal          1\n",
      "Ukraine           1\n",
      "Austria           1\n",
      "Denmark           1\n",
      "Azerbaijan        1\n",
      "Germany           1\n",
      "Norway            1\n",
      "Russia            1\n",
      "Name: count, dtype: int64\n",
      "Number of countries appearing >1: 1\n",
      "Number of unique countries: 13\n"
     ]
    }
   ],
   "source": [
    "print(f'List of countries and unique count: {contest_df_raw['host'].value_counts()}')\n",
    "print(f'Number of countries appearing >1: {((contest_df_raw['host'].count())>1).sum()}')\n",
    "print(f'Number of unique countries: {contest_df_raw['host'].nunique()}')\n"
   ]
  },
  {
   "cell_type": "markdown",
   "metadata": {},
   "source": [
    "#### Date info:\n",
    "_have to fix date column type_"
   ]
  },
  {
   "cell_type": "markdown",
   "metadata": {},
   "source": [
    "#### semi_countries"
   ]
  },
  {
   "cell_type": "markdown",
   "metadata": {},
   "source": [
    "#### final_countries"
   ]
  },
  {
   "cell_type": "markdown",
   "metadata": {},
   "source": [
    "#### jury countries voting final"
   ]
  },
  {
   "cell_type": "markdown",
   "metadata": {},
   "source": [
    "#### televote countries voting final"
   ]
  },
  {
   "cell_type": "markdown",
   "metadata": {},
   "source": [
    "### Rows"
   ]
  },
  {
   "cell_type": "code",
   "execution_count": 13,
   "metadata": {},
   "outputs": [
    {
     "data": {
      "text/plain": [
       "RangeIndex(start=0, stop=14, step=1)"
      ]
     },
     "execution_count": 13,
     "metadata": {},
     "output_type": "execute_result"
    }
   ],
   "source": [
    "contest_df_raw.index"
   ]
  },
  {
   "cell_type": "markdown",
   "metadata": {},
   "source": [
    "## 2. Contestants Data"
   ]
  },
  {
   "cell_type": "markdown",
   "metadata": {},
   "source": [
    "### Importing Contestants_Enhanced from AWS.\n",
    "\n",
    "1. This dataset shows information about the contestants (names, LGBTQIA+ status etc.), categorical information about the songs (name, lyrics, Youtube URL), contest information (competition placements, points/votes information).\n",
    "    - year range: 1956 - 2023\n",
    "2. _there are some country names missing - we are working on it_ fixed by adding UK & N. Macedonia using 'performer' column and Google Search.\n",
    "3. 1734 rows, 26 columns\n",
    "    - *year*: self-explanatory\n",
    "    - *to_country_id*: performer's country\n",
    "    - *to_country*: performer's country\n",
    "    - *performer*: self-explanatory\n",
    "    - *song*: self-explanatory\n",
    "    - *place_contest*: _we dont use this column_\n",
    "    - *sf_num*: _we dont use this column_\n",
    "    - *running_final*: _we dont use this column_\n",
    "    - *running_sf*: _we dont use this column_\n",
    "    - *place_final*: the country & performer's overall final place in the contest _we have some null values here that need to be addressed, depending on the year and usage of this table_\n",
    "    - *points_final*: same logic as place_final but this is based on the total number of points received rather than the position secured overall in the competition. _we have some null values here too._\n",
    "    - *place_sf*: _we dont use this column_\n",
    "    - *points_sf*: _we dont use this column_\n",
    "    - *points_tele_final*: points coming in from tele voting system\n",
    "    - *points_jury_final*: total points coming in from the juries\n",
    "    - *points_tele_sf*: same thing for semi finals\n",
    "    - *points_jury_sf*: same thing for semi finals\n",
    "    - *composers*: self-explanatory\n",
    "    - *lyricists*: self-explanatory\n",
    "    - *lyrics*: self-explanatory\n",
    "    - *youtube_url*: self-explanatory\n",
    "    - *round*:  (check unique values here)\n",
    "    - *country*: same as to_country; self-explanatory\n",
    "    - *lgbtqia+*: part of LGBTQIa+ = 1, NOT = 0.\n",
    "    - *start_year*: start year of the country's participation in the Eurovision contest\n",
    "    - *last_year*: last year of the country's participation in the Eurovision contest (would be current year for all countries that haven't left the competition)\n",
    "\n"
   ]
  },
  {
   "cell_type": "code",
   "execution_count": 50,
   "metadata": {},
   "outputs": [],
   "source": [
    "with engine.begin() as conn: # Done with echo=False\n",
    "    result = conn.execute(text(f'''\n",
    "                               SELECT * FROM contestants_enhanced; \n",
    "                                '''))\n",
    "    data = result.all()\n",
    "\n",
    "### Let's create a dataframe out of that\n",
    "df_contestants_enhanced = pd.DataFrame(data) "
   ]
  },
  {
   "cell_type": "code",
   "execution_count": 93,
   "metadata": {},
   "outputs": [
    {
     "data": {
      "text/html": [
       "<div>\n",
       "<style scoped>\n",
       "    .dataframe tbody tr th:only-of-type {\n",
       "        vertical-align: middle;\n",
       "    }\n",
       "\n",
       "    .dataframe tbody tr th {\n",
       "        vertical-align: top;\n",
       "    }\n",
       "\n",
       "    .dataframe thead th {\n",
       "        text-align: right;\n",
       "    }\n",
       "</style>\n",
       "<table border=\"1\" class=\"dataframe\">\n",
       "  <thead>\n",
       "    <tr style=\"text-align: right;\">\n",
       "      <th></th>\n",
       "      <th>year</th>\n",
       "      <th>to_country_id</th>\n",
       "      <th>to_country</th>\n",
       "      <th>performer</th>\n",
       "      <th>song</th>\n",
       "      <th>place_contest</th>\n",
       "      <th>sf_num</th>\n",
       "      <th>running_final</th>\n",
       "      <th>running_sf</th>\n",
       "      <th>place_final</th>\n",
       "      <th>...</th>\n",
       "      <th>points_jury_sf</th>\n",
       "      <th>composers</th>\n",
       "      <th>lyricists</th>\n",
       "      <th>lyrics</th>\n",
       "      <th>youtube_url</th>\n",
       "      <th>round</th>\n",
       "      <th>country</th>\n",
       "      <th>lgbtqia+</th>\n",
       "      <th>start_year</th>\n",
       "      <th>last_year</th>\n",
       "    </tr>\n",
       "  </thead>\n",
       "  <tbody>\n",
       "    <tr>\n",
       "      <th>0</th>\n",
       "      <td>1956</td>\n",
       "      <td>ch</td>\n",
       "      <td>Switzerland</td>\n",
       "      <td>Lys Assia</td>\n",
       "      <td>refrain</td>\n",
       "      <td>2.0</td>\n",
       "      <td>NaN</td>\n",
       "      <td>2.0</td>\n",
       "      <td>NaN</td>\n",
       "      <td>2.0</td>\n",
       "      <td>...</td>\n",
       "      <td>NaN</td>\n",
       "      <td>Georg Benz Stahl</td>\n",
       "      <td>None</td>\n",
       "      <td>(Refrain d'amour...)  Refrain, couleur du ciel...</td>\n",
       "      <td>https://youtube.com/watch?v=IyqIPvOkiRk</td>\n",
       "      <td>final</td>\n",
       "      <td>Switzerland</td>\n",
       "      <td>0.0</td>\n",
       "      <td>1956</td>\n",
       "      <td>2025</td>\n",
       "    </tr>\n",
       "    <tr>\n",
       "      <th>1</th>\n",
       "      <td>1956</td>\n",
       "      <td>nl</td>\n",
       "      <td>Netherlands</td>\n",
       "      <td>Jetty Paerl</td>\n",
       "      <td>de vogels van holland</td>\n",
       "      <td>2.0</td>\n",
       "      <td>NaN</td>\n",
       "      <td>1.0</td>\n",
       "      <td>NaN</td>\n",
       "      <td>2.0</td>\n",
       "      <td>...</td>\n",
       "      <td>NaN</td>\n",
       "      <td>Cor Lemaire</td>\n",
       "      <td>Annie M. G. Schmidt</td>\n",
       "      <td>De vogels van Holland zijn zo muzikaal Ze lere...</td>\n",
       "      <td>https://youtube.com/watch?v=u45UQVGRVPA</td>\n",
       "      <td>final</td>\n",
       "      <td>Netherlands</td>\n",
       "      <td>0.0</td>\n",
       "      <td>1956</td>\n",
       "      <td>2025</td>\n",
       "    </tr>\n",
       "    <tr>\n",
       "      <th>2</th>\n",
       "      <td>1956</td>\n",
       "      <td>be</td>\n",
       "      <td>Belgium</td>\n",
       "      <td>Fud Leclerc</td>\n",
       "      <td>messieurs les noyés de la seine</td>\n",
       "      <td>2.0</td>\n",
       "      <td>NaN</td>\n",
       "      <td>3.0</td>\n",
       "      <td>NaN</td>\n",
       "      <td>2.0</td>\n",
       "      <td>...</td>\n",
       "      <td>NaN</td>\n",
       "      <td>Jacques Say;Jean Miret</td>\n",
       "      <td>Robert Montal</td>\n",
       "      <td>Messieurs les noyés de la Seine Ouvrez-moi les...</td>\n",
       "      <td>https://youtube.com/watch?v=U9O3sqlyra0</td>\n",
       "      <td>final</td>\n",
       "      <td>Belgium</td>\n",
       "      <td>0.0</td>\n",
       "      <td>1956</td>\n",
       "      <td>2025</td>\n",
       "    </tr>\n",
       "    <tr>\n",
       "      <th>3</th>\n",
       "      <td>1956</td>\n",
       "      <td>de</td>\n",
       "      <td>Germany</td>\n",
       "      <td>Walter Andreas Schwarz</td>\n",
       "      <td>im wartesaal zum großen glück</td>\n",
       "      <td>2.0</td>\n",
       "      <td>NaN</td>\n",
       "      <td>4.0</td>\n",
       "      <td>NaN</td>\n",
       "      <td>2.0</td>\n",
       "      <td>...</td>\n",
       "      <td>NaN</td>\n",
       "      <td>Walter Andreas Schwarz</td>\n",
       "      <td>None</td>\n",
       "      <td>Es gibt einen Hafen, da fährt kaum ein Schiff ...</td>\n",
       "      <td>https://youtube.com/watch?v=BDNARIDnmTc</td>\n",
       "      <td>final</td>\n",
       "      <td>Germany</td>\n",
       "      <td>0.0</td>\n",
       "      <td>1956</td>\n",
       "      <td>2025</td>\n",
       "    </tr>\n",
       "    <tr>\n",
       "      <th>4</th>\n",
       "      <td>1956</td>\n",
       "      <td>fr</td>\n",
       "      <td>France</td>\n",
       "      <td>Mathé Altéry</td>\n",
       "      <td>le temps perdu</td>\n",
       "      <td>2.0</td>\n",
       "      <td>NaN</td>\n",
       "      <td>5.0</td>\n",
       "      <td>NaN</td>\n",
       "      <td>2.0</td>\n",
       "      <td>...</td>\n",
       "      <td>NaN</td>\n",
       "      <td>André Lodge</td>\n",
       "      <td>Rachèle Thoreau</td>\n",
       "      <td>Chante, carillon Le chant du temps perdu Chant...</td>\n",
       "      <td>https://youtube.com/watch?v=dm1L0XyikKI</td>\n",
       "      <td>final</td>\n",
       "      <td>France</td>\n",
       "      <td>0.0</td>\n",
       "      <td>1956</td>\n",
       "      <td>2025</td>\n",
       "    </tr>\n",
       "  </tbody>\n",
       "</table>\n",
       "<p>5 rows × 26 columns</p>\n",
       "</div>"
      ],
      "text/plain": [
       "   year to_country_id   to_country               performer  \\\n",
       "0  1956            ch  Switzerland               Lys Assia   \n",
       "1  1956            nl  Netherlands             Jetty Paerl   \n",
       "2  1956            be      Belgium             Fud Leclerc   \n",
       "3  1956            de      Germany  Walter Andreas Schwarz   \n",
       "4  1956            fr       France            Mathé Altéry   \n",
       "\n",
       "                              song  place_contest  sf_num  running_final  \\\n",
       "0                          refrain            2.0     NaN            2.0   \n",
       "1            de vogels van holland            2.0     NaN            1.0   \n",
       "2  messieurs les noyés de la seine            2.0     NaN            3.0   \n",
       "3    im wartesaal zum großen glück            2.0     NaN            4.0   \n",
       "4                   le temps perdu            2.0     NaN            5.0   \n",
       "\n",
       "   running_sf  place_final  ...  points_jury_sf               composers  \\\n",
       "0         NaN          2.0  ...             NaN        Georg Benz Stahl   \n",
       "1         NaN          2.0  ...             NaN             Cor Lemaire   \n",
       "2         NaN          2.0  ...             NaN  Jacques Say;Jean Miret   \n",
       "3         NaN          2.0  ...             NaN  Walter Andreas Schwarz   \n",
       "4         NaN          2.0  ...             NaN             André Lodge   \n",
       "\n",
       "             lyricists                                             lyrics  \\\n",
       "0                 None  (Refrain d'amour...)  Refrain, couleur du ciel...   \n",
       "1  Annie M. G. Schmidt  De vogels van Holland zijn zo muzikaal Ze lere...   \n",
       "2        Robert Montal  Messieurs les noyés de la Seine Ouvrez-moi les...   \n",
       "3                 None  Es gibt einen Hafen, da fährt kaum ein Schiff ...   \n",
       "4      Rachèle Thoreau  Chante, carillon Le chant du temps perdu Chant...   \n",
       "\n",
       "                               youtube_url  round      country lgbtqia+  \\\n",
       "0  https://youtube.com/watch?v=IyqIPvOkiRk  final  Switzerland      0.0   \n",
       "1  https://youtube.com/watch?v=u45UQVGRVPA  final  Netherlands      0.0   \n",
       "2  https://youtube.com/watch?v=U9O3sqlyra0  final      Belgium      0.0   \n",
       "3  https://youtube.com/watch?v=BDNARIDnmTc  final      Germany      0.0   \n",
       "4  https://youtube.com/watch?v=dm1L0XyikKI  final       France      0.0   \n",
       "\n",
       "  start_year last_year  \n",
       "0       1956      2025  \n",
       "1       1956      2025  \n",
       "2       1956      2025  \n",
       "3       1956      2025  \n",
       "4       1956      2025  \n",
       "\n",
       "[5 rows x 26 columns]"
      ]
     },
     "execution_count": 93,
     "metadata": {},
     "output_type": "execute_result"
    }
   ],
   "source": [
    "df_contestants_enhanced.head()"
   ]
  },
  {
   "cell_type": "code",
   "execution_count": 95,
   "metadata": {},
   "outputs": [
    {
     "name": "stdout",
     "output_type": "stream",
     "text": [
      "<class 'pandas.core.frame.DataFrame'>\n",
      "RangeIndex: 1734 entries, 0 to 1733\n",
      "Data columns (total 26 columns):\n",
      " #   Column             Non-Null Count  Dtype  \n",
      "---  ------             --------------  -----  \n",
      " 0   year               1734 non-null   int64  \n",
      " 1   to_country_id      1734 non-null   object \n",
      " 2   to_country         1734 non-null   object \n",
      " 3   performer          1734 non-null   object \n",
      " 4   song               1731 non-null   object \n",
      " 5   place_contest      1678 non-null   float64\n",
      " 6   sf_num             640 non-null    float64\n",
      " 7   running_final      1398 non-null   float64\n",
      " 8   running_sf         605 non-null    float64\n",
      " 9   place_final        1397 non-null   float64\n",
      " 10  points_final       1385 non-null   float64\n",
      " 11  place_sf           605 non-null    float64\n",
      " 12  points_sf          605 non-null    float64\n",
      " 13  points_tele_final  181 non-null    float64\n",
      " 14  points_jury_final  181 non-null    float64\n",
      " 15  points_tele_sf     212 non-null    float64\n",
      " 16  points_jury_sf     212 non-null    float64\n",
      " 17  composers          1680 non-null   object \n",
      " 18  lyricists          985 non-null    object \n",
      " 19  lyrics             1722 non-null   object \n",
      " 20  youtube_url        1722 non-null   object \n",
      " 21  round              1734 non-null   object \n",
      " 22  country            1734 non-null   object \n",
      " 23  lgbtqia+           1734 non-null   float64\n",
      " 24  start_year         1734 non-null   int64  \n",
      " 25  last_year          1734 non-null   int64  \n",
      "dtypes: float64(13), int64(3), object(10)\n",
      "memory usage: 352.3+ KB\n"
     ]
    }
   ],
   "source": [
    "df_contestants_enhanced.info()"
   ]
  },
  {
   "cell_type": "code",
   "execution_count": 96,
   "metadata": {},
   "outputs": [
    {
     "data": {
      "text/html": [
       "<div>\n",
       "<style scoped>\n",
       "    .dataframe tbody tr th:only-of-type {\n",
       "        vertical-align: middle;\n",
       "    }\n",
       "\n",
       "    .dataframe tbody tr th {\n",
       "        vertical-align: top;\n",
       "    }\n",
       "\n",
       "    .dataframe thead th {\n",
       "        text-align: right;\n",
       "    }\n",
       "</style>\n",
       "<table border=\"1\" class=\"dataframe\">\n",
       "  <thead>\n",
       "    <tr style=\"text-align: right;\">\n",
       "      <th></th>\n",
       "      <th>year</th>\n",
       "      <th>place_contest</th>\n",
       "      <th>sf_num</th>\n",
       "      <th>running_final</th>\n",
       "      <th>running_sf</th>\n",
       "      <th>place_final</th>\n",
       "      <th>points_final</th>\n",
       "      <th>place_sf</th>\n",
       "      <th>points_sf</th>\n",
       "      <th>points_tele_final</th>\n",
       "      <th>points_jury_final</th>\n",
       "      <th>points_tele_sf</th>\n",
       "      <th>points_jury_sf</th>\n",
       "      <th>lgbtqia+</th>\n",
       "      <th>start_year</th>\n",
       "      <th>last_year</th>\n",
       "    </tr>\n",
       "  </thead>\n",
       "  <tbody>\n",
       "    <tr>\n",
       "      <th>count</th>\n",
       "      <td>1734.000000</td>\n",
       "      <td>1678.000000</td>\n",
       "      <td>640.000000</td>\n",
       "      <td>1398.000000</td>\n",
       "      <td>605.000000</td>\n",
       "      <td>1397.000000</td>\n",
       "      <td>1385.000000</td>\n",
       "      <td>605.000000</td>\n",
       "      <td>605.000000</td>\n",
       "      <td>181.000000</td>\n",
       "      <td>181.000000</td>\n",
       "      <td>212.000000</td>\n",
       "      <td>212.000000</td>\n",
       "      <td>1734.000000</td>\n",
       "      <td>1734.000000</td>\n",
       "      <td>1734.000000</td>\n",
       "    </tr>\n",
       "    <tr>\n",
       "      <th>mean</th>\n",
       "      <td>1997.103806</td>\n",
       "      <td>14.968415</td>\n",
       "      <td>1.262500</td>\n",
       "      <td>11.425608</td>\n",
       "      <td>9.859504</td>\n",
       "      <td>11.262706</td>\n",
       "      <td>75.041155</td>\n",
       "      <td>9.852893</td>\n",
       "      <td>95.004959</td>\n",
       "      <td>91.325967</td>\n",
       "      <td>91.005525</td>\n",
       "      <td>67.575472</td>\n",
       "      <td>67.575472</td>\n",
       "      <td>0.054787</td>\n",
       "      <td>1972.464245</td>\n",
       "      <td>2023.436563</td>\n",
       "    </tr>\n",
       "    <tr>\n",
       "      <th>std</th>\n",
       "      <td>18.935907</td>\n",
       "      <td>10.470999</td>\n",
       "      <td>0.707549</td>\n",
       "      <td>6.718587</td>\n",
       "      <td>5.669580</td>\n",
       "      <td>6.739982</td>\n",
       "      <td>86.779039</td>\n",
       "      <td>5.661229</td>\n",
       "      <td>73.292585</td>\n",
       "      <td>95.126517</td>\n",
       "      <td>77.557255</td>\n",
       "      <td>50.563263</td>\n",
       "      <td>47.545328</td>\n",
       "      <td>0.227629</td>\n",
       "      <td>18.571974</td>\n",
       "      <td>5.301881</td>\n",
       "    </tr>\n",
       "    <tr>\n",
       "      <th>min</th>\n",
       "      <td>1956.000000</td>\n",
       "      <td>1.000000</td>\n",
       "      <td>0.000000</td>\n",
       "      <td>1.000000</td>\n",
       "      <td>1.000000</td>\n",
       "      <td>1.000000</td>\n",
       "      <td>0.000000</td>\n",
       "      <td>1.000000</td>\n",
       "      <td>0.000000</td>\n",
       "      <td>0.000000</td>\n",
       "      <td>0.000000</td>\n",
       "      <td>0.000000</td>\n",
       "      <td>0.000000</td>\n",
       "      <td>0.000000</td>\n",
       "      <td>1956.000000</td>\n",
       "      <td>1980.000000</td>\n",
       "    </tr>\n",
       "    <tr>\n",
       "      <th>25%</th>\n",
       "      <td>1982.000000</td>\n",
       "      <td>7.000000</td>\n",
       "      <td>1.000000</td>\n",
       "      <td>6.000000</td>\n",
       "      <td>5.000000</td>\n",
       "      <td>5.000000</td>\n",
       "      <td>16.000000</td>\n",
       "      <td>5.000000</td>\n",
       "      <td>41.000000</td>\n",
       "      <td>21.000000</td>\n",
       "      <td>35.000000</td>\n",
       "      <td>24.750000</td>\n",
       "      <td>26.750000</td>\n",
       "      <td>0.000000</td>\n",
       "      <td>1957.000000</td>\n",
       "      <td>2025.000000</td>\n",
       "    </tr>\n",
       "    <tr>\n",
       "      <th>50%</th>\n",
       "      <td>2002.000000</td>\n",
       "      <td>13.000000</td>\n",
       "      <td>1.000000</td>\n",
       "      <td>11.000000</td>\n",
       "      <td>10.000000</td>\n",
       "      <td>11.000000</td>\n",
       "      <td>51.000000</td>\n",
       "      <td>10.000000</td>\n",
       "      <td>74.000000</td>\n",
       "      <td>55.000000</td>\n",
       "      <td>69.000000</td>\n",
       "      <td>53.000000</td>\n",
       "      <td>58.000000</td>\n",
       "      <td>0.000000</td>\n",
       "      <td>1961.000000</td>\n",
       "      <td>2025.000000</td>\n",
       "    </tr>\n",
       "    <tr>\n",
       "      <th>75%</th>\n",
       "      <td>2013.000000</td>\n",
       "      <td>21.000000</td>\n",
       "      <td>2.000000</td>\n",
       "      <td>17.000000</td>\n",
       "      <td>14.000000</td>\n",
       "      <td>16.000000</td>\n",
       "      <td>100.000000</td>\n",
       "      <td>14.000000</td>\n",
       "      <td>133.000000</td>\n",
       "      <td>134.000000</td>\n",
       "      <td>129.000000</td>\n",
       "      <td>104.000000</td>\n",
       "      <td>98.250000</td>\n",
       "      <td>0.000000</td>\n",
       "      <td>1993.000000</td>\n",
       "      <td>2025.000000</td>\n",
       "    </tr>\n",
       "    <tr>\n",
       "      <th>max</th>\n",
       "      <td>2023.000000</td>\n",
       "      <td>43.000000</td>\n",
       "      <td>2.000000</td>\n",
       "      <td>27.000000</td>\n",
       "      <td>28.000000</td>\n",
       "      <td>27.000000</td>\n",
       "      <td>758.000000</td>\n",
       "      <td>28.000000</td>\n",
       "      <td>403.000000</td>\n",
       "      <td>439.000000</td>\n",
       "      <td>382.000000</td>\n",
       "      <td>204.000000</td>\n",
       "      <td>222.000000</td>\n",
       "      <td>1.000000</td>\n",
       "      <td>2015.000000</td>\n",
       "      <td>2025.000000</td>\n",
       "    </tr>\n",
       "  </tbody>\n",
       "</table>\n",
       "</div>"
      ],
      "text/plain": [
       "              year  place_contest      sf_num  running_final  running_sf  \\\n",
       "count  1734.000000    1678.000000  640.000000    1398.000000  605.000000   \n",
       "mean   1997.103806      14.968415    1.262500      11.425608    9.859504   \n",
       "std      18.935907      10.470999    0.707549       6.718587    5.669580   \n",
       "min    1956.000000       1.000000    0.000000       1.000000    1.000000   \n",
       "25%    1982.000000       7.000000    1.000000       6.000000    5.000000   \n",
       "50%    2002.000000      13.000000    1.000000      11.000000   10.000000   \n",
       "75%    2013.000000      21.000000    2.000000      17.000000   14.000000   \n",
       "max    2023.000000      43.000000    2.000000      27.000000   28.000000   \n",
       "\n",
       "       place_final  points_final    place_sf   points_sf  points_tele_final  \\\n",
       "count  1397.000000   1385.000000  605.000000  605.000000         181.000000   \n",
       "mean     11.262706     75.041155    9.852893   95.004959          91.325967   \n",
       "std       6.739982     86.779039    5.661229   73.292585          95.126517   \n",
       "min       1.000000      0.000000    1.000000    0.000000           0.000000   \n",
       "25%       5.000000     16.000000    5.000000   41.000000          21.000000   \n",
       "50%      11.000000     51.000000   10.000000   74.000000          55.000000   \n",
       "75%      16.000000    100.000000   14.000000  133.000000         134.000000   \n",
       "max      27.000000    758.000000   28.000000  403.000000         439.000000   \n",
       "\n",
       "       points_jury_final  points_tele_sf  points_jury_sf     lgbtqia+  \\\n",
       "count         181.000000      212.000000      212.000000  1734.000000   \n",
       "mean           91.005525       67.575472       67.575472     0.054787   \n",
       "std            77.557255       50.563263       47.545328     0.227629   \n",
       "min             0.000000        0.000000        0.000000     0.000000   \n",
       "25%            35.000000       24.750000       26.750000     0.000000   \n",
       "50%            69.000000       53.000000       58.000000     0.000000   \n",
       "75%           129.000000      104.000000       98.250000     0.000000   \n",
       "max           382.000000      204.000000      222.000000     1.000000   \n",
       "\n",
       "        start_year    last_year  \n",
       "count  1734.000000  1734.000000  \n",
       "mean   1972.464245  2023.436563  \n",
       "std      18.571974     5.301881  \n",
       "min    1956.000000  1980.000000  \n",
       "25%    1957.000000  2025.000000  \n",
       "50%    1961.000000  2025.000000  \n",
       "75%    1993.000000  2025.000000  \n",
       "max    2015.000000  2025.000000  "
      ]
     },
     "execution_count": 96,
     "metadata": {},
     "output_type": "execute_result"
    }
   ],
   "source": [
    "df_contestants_enhanced.describe()"
   ]
  },
  {
   "cell_type": "code",
   "execution_count": 98,
   "metadata": {},
   "outputs": [
    {
     "name": "stdout",
     "output_type": "stream",
     "text": [
      "A list of columns in this dataset: Index(['year', 'to_country_id', 'to_country', 'performer', 'song',\n",
      "       'place_contest', 'sf_num', 'running_final', 'running_sf', 'place_final',\n",
      "       'points_final', 'place_sf', 'points_sf', 'points_tele_final',\n",
      "       'points_jury_final', 'points_tele_sf', 'points_jury_sf', 'composers',\n",
      "       'lyricists', 'lyrics', 'youtube_url', 'round', 'country', 'lgbtqia+',\n",
      "       'start_year', 'last_year'],\n",
      "      dtype='object')\n",
      "Shape of the dataset: (1734, 26)\n"
     ]
    }
   ],
   "source": [
    "print(f'A list of columns in this dataset: {df_contestants_enhanced.columns}')\n",
    "print(f'Shape of the dataset: {df_contestants_enhanced.shape}')"
   ]
  },
  {
   "cell_type": "markdown",
   "metadata": {},
   "source": [
    "## 3. Song Data"
   ]
  },
  {
   "cell_type": "markdown",
   "metadata": {},
   "source": [
    "## 4. Votes Data"
   ]
  },
  {
   "cell_type": "markdown",
   "metadata": {},
   "source": [
    "## 5. Betting Offices "
   ]
  },
  {
   "cell_type": "markdown",
   "metadata": {},
   "source": [
    "### Importing mart_betting from AWS.\n",
    "\n",
    "1. This shows average betting odds per country for each of the years between 2015 & 2023. \n",
    "2. _there are some country names missing - we are working on it_ fixed by adding UK & N. Macedonia using 'performer' column and Google Search.\n",
    "3. 350 rows, 3 columns (year, country_name, betting_odds)\n",
    "4. Betting odds summary:\n",
    "    - min: ~1.136\n",
    "    - mean: ~78.77\n",
    "    - max: ~544.563\n",
    "    - Q1: ~5.465\n",
    "    - Q2: 34.361\n",
    "    - Q3: ~120.606\n",
    "\n",
    "\n"
   ]
  },
  {
   "cell_type": "code",
   "execution_count": 81,
   "metadata": {},
   "outputs": [],
   "source": [
    "with engine.begin() as conn: # Done with echo=False\n",
    "    result = conn.execute(text(f'''\n",
    "                               SELECT * FROM mart_betting; \n",
    "                                '''))\n",
    "    data = result.all()\n",
    "\n",
    "### Let's create a dataframe out of that\n",
    "df_mart_betting = pd.DataFrame(data) "
   ]
  },
  {
   "cell_type": "code",
   "execution_count": 82,
   "metadata": {},
   "outputs": [
    {
     "data": {
      "text/html": [
       "<div>\n",
       "<style scoped>\n",
       "    .dataframe tbody tr th:only-of-type {\n",
       "        vertical-align: middle;\n",
       "    }\n",
       "\n",
       "    .dataframe tbody tr th {\n",
       "        vertical-align: top;\n",
       "    }\n",
       "\n",
       "    .dataframe thead th {\n",
       "        text-align: right;\n",
       "    }\n",
       "</style>\n",
       "<table border=\"1\" class=\"dataframe\">\n",
       "  <thead>\n",
       "    <tr style=\"text-align: right;\">\n",
       "      <th></th>\n",
       "      <th>year</th>\n",
       "      <th>betting_odds</th>\n",
       "    </tr>\n",
       "  </thead>\n",
       "  <tbody>\n",
       "    <tr>\n",
       "      <th>count</th>\n",
       "      <td>350.000000</td>\n",
       "      <td>350.000000</td>\n",
       "    </tr>\n",
       "    <tr>\n",
       "      <th>mean</th>\n",
       "      <td>2018.782857</td>\n",
       "      <td>78.769740</td>\n",
       "    </tr>\n",
       "    <tr>\n",
       "      <th>std</th>\n",
       "      <td>2.494405</td>\n",
       "      <td>101.223246</td>\n",
       "    </tr>\n",
       "    <tr>\n",
       "      <th>min</th>\n",
       "      <td>2015.000000</td>\n",
       "      <td>1.136000</td>\n",
       "    </tr>\n",
       "    <tr>\n",
       "      <th>25%</th>\n",
       "      <td>2017.000000</td>\n",
       "      <td>5.464504</td>\n",
       "    </tr>\n",
       "    <tr>\n",
       "      <th>50%</th>\n",
       "      <td>2019.000000</td>\n",
       "      <td>34.361389</td>\n",
       "    </tr>\n",
       "    <tr>\n",
       "      <th>75%</th>\n",
       "      <td>2021.000000</td>\n",
       "      <td>120.606365</td>\n",
       "    </tr>\n",
       "    <tr>\n",
       "      <th>max</th>\n",
       "      <td>2023.000000</td>\n",
       "      <td>544.562500</td>\n",
       "    </tr>\n",
       "  </tbody>\n",
       "</table>\n",
       "</div>"
      ],
      "text/plain": [
       "              year  betting_odds\n",
       "count   350.000000    350.000000\n",
       "mean   2018.782857     78.769740\n",
       "std       2.494405    101.223246\n",
       "min    2015.000000      1.136000\n",
       "25%    2017.000000      5.464504\n",
       "50%    2019.000000     34.361389\n",
       "75%    2021.000000    120.606365\n",
       "max    2023.000000    544.562500"
      ]
     },
     "execution_count": 82,
     "metadata": {},
     "output_type": "execute_result"
    }
   ],
   "source": [
    "df_mart_betting.describe()"
   ]
  },
  {
   "cell_type": "code",
   "execution_count": 83,
   "metadata": {},
   "outputs": [
    {
     "name": "stdout",
     "output_type": "stream",
     "text": [
      "<class 'pandas.core.frame.DataFrame'>\n",
      "RangeIndex: 350 entries, 0 to 349\n",
      "Data columns (total 3 columns):\n",
      " #   Column        Non-Null Count  Dtype  \n",
      "---  ------        --------------  -----  \n",
      " 0   year          350 non-null    int64  \n",
      " 1   country_name  341 non-null    object \n",
      " 2   betting_odds  350 non-null    float64\n",
      "dtypes: float64(1), int64(1), object(1)\n",
      "memory usage: 8.3+ KB\n"
     ]
    }
   ],
   "source": [
    "df_mart_betting.info()\n",
    "\n",
    "# we are missing some country_names. These will be filled in."
   ]
  },
  {
   "cell_type": "code",
   "execution_count": 84,
   "metadata": {},
   "outputs": [
    {
     "data": {
      "text/plain": [
       "(350, 3)"
      ]
     },
     "execution_count": 84,
     "metadata": {},
     "output_type": "execute_result"
    }
   ],
   "source": [
    "df_mart_betting.shape"
   ]
  },
  {
   "cell_type": "markdown",
   "metadata": {},
   "source": [
    "### Here's a pretty box plot of Betting_Odds summary stats"
   ]
  },
  {
   "cell_type": "code",
   "execution_count": 85,
   "metadata": {},
   "outputs": [
    {
     "data": {
      "application/vnd.plotly.v1+json": {
       "config": {
        "plotlyServerURL": "https://plot.ly"
       },
       "data": [
        {
         "alignmentgroup": "True",
         "hovertemplate": "betting_odds=%{y}<extra></extra>",
         "legendgroup": "",
         "marker": {
          "color": "#636efa"
         },
         "name": "",
         "notched": false,
         "offsetgroup": "",
         "orientation": "v",
         "showlegend": false,
         "type": "box",
         "x0": " ",
         "xaxis": "x",
         "y": {
          "bdata": "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",
          "dtype": "f8"
         },
         "y0": " ",
         "yaxis": "y"
        }
       ],
       "layout": {
        "boxmode": "group",
        "legend": {
         "tracegroupgap": 0
        },
        "margin": {
         "t": 60
        },
        "template": {
         "data": {
          "bar": [
           {
            "error_x": {
             "color": "#2a3f5f"
            },
            "error_y": {
             "color": "#2a3f5f"
            },
            "marker": {
             "line": {
              "color": "#E5ECF6",
              "width": 0.5
             },
             "pattern": {
              "fillmode": "overlay",
              "size": 10,
              "solidity": 0.2
             }
            },
            "type": "bar"
           }
          ],
          "barpolar": [
           {
            "marker": {
             "line": {
              "color": "#E5ECF6",
              "width": 0.5
             },
             "pattern": {
              "fillmode": "overlay",
              "size": 10,
              "solidity": 0.2
             }
            },
            "type": "barpolar"
           }
          ],
          "carpet": [
           {
            "aaxis": {
             "endlinecolor": "#2a3f5f",
             "gridcolor": "white",
             "linecolor": "white",
             "minorgridcolor": "white",
             "startlinecolor": "#2a3f5f"
            },
            "baxis": {
             "endlinecolor": "#2a3f5f",
             "gridcolor": "white",
             "linecolor": "white",
             "minorgridcolor": "white",
             "startlinecolor": "#2a3f5f"
            },
            "type": "carpet"
           }
          ],
          "choropleth": [
           {
            "colorbar": {
             "outlinewidth": 0,
             "ticks": ""
            },
            "type": "choropleth"
           }
          ],
          "contour": [
           {
            "colorbar": {
             "outlinewidth": 0,
             "ticks": ""
            },
            "colorscale": [
             [
              0,
              "#0d0887"
             ],
             [
              0.1111111111111111,
              "#46039f"
             ],
             [
              0.2222222222222222,
              "#7201a8"
             ],
             [
              0.3333333333333333,
              "#9c179e"
             ],
             [
              0.4444444444444444,
              "#bd3786"
             ],
             [
              0.5555555555555556,
              "#d8576b"
             ],
             [
              0.6666666666666666,
              "#ed7953"
             ],
             [
              0.7777777777777778,
              "#fb9f3a"
             ],
             [
              0.8888888888888888,
              "#fdca26"
             ],
             [
              1,
              "#f0f921"
             ]
            ],
            "type": "contour"
           }
          ],
          "contourcarpet": [
           {
            "colorbar": {
             "outlinewidth": 0,
             "ticks": ""
            },
            "type": "contourcarpet"
           }
          ],
          "heatmap": [
           {
            "colorbar": {
             "outlinewidth": 0,
             "ticks": ""
            },
            "colorscale": [
             [
              0,
              "#0d0887"
             ],
             [
              0.1111111111111111,
              "#46039f"
             ],
             [
              0.2222222222222222,
              "#7201a8"
             ],
             [
              0.3333333333333333,
              "#9c179e"
             ],
             [
              0.4444444444444444,
              "#bd3786"
             ],
             [
              0.5555555555555556,
              "#d8576b"
             ],
             [
              0.6666666666666666,
              "#ed7953"
             ],
             [
              0.7777777777777778,
              "#fb9f3a"
             ],
             [
              0.8888888888888888,
              "#fdca26"
             ],
             [
              1,
              "#f0f921"
             ]
            ],
            "type": "heatmap"
           }
          ],
          "histogram": [
           {
            "marker": {
             "pattern": {
              "fillmode": "overlay",
              "size": 10,
              "solidity": 0.2
             }
            },
            "type": "histogram"
           }
          ],
          "histogram2d": [
           {
            "colorbar": {
             "outlinewidth": 0,
             "ticks": ""
            },
            "colorscale": [
             [
              0,
              "#0d0887"
             ],
             [
              0.1111111111111111,
              "#46039f"
             ],
             [
              0.2222222222222222,
              "#7201a8"
             ],
             [
              0.3333333333333333,
              "#9c179e"
             ],
             [
              0.4444444444444444,
              "#bd3786"
             ],
             [
              0.5555555555555556,
              "#d8576b"
             ],
             [
              0.6666666666666666,
              "#ed7953"
             ],
             [
              0.7777777777777778,
              "#fb9f3a"
             ],
             [
              0.8888888888888888,
              "#fdca26"
             ],
             [
              1,
              "#f0f921"
             ]
            ],
            "type": "histogram2d"
           }
          ],
          "histogram2dcontour": [
           {
            "colorbar": {
             "outlinewidth": 0,
             "ticks": ""
            },
            "colorscale": [
             [
              0,
              "#0d0887"
             ],
             [
              0.1111111111111111,
              "#46039f"
             ],
             [
              0.2222222222222222,
              "#7201a8"
             ],
             [
              0.3333333333333333,
              "#9c179e"
             ],
             [
              0.4444444444444444,
              "#bd3786"
             ],
             [
              0.5555555555555556,
              "#d8576b"
             ],
             [
              0.6666666666666666,
              "#ed7953"
             ],
             [
              0.7777777777777778,
              "#fb9f3a"
             ],
             [
              0.8888888888888888,
              "#fdca26"
             ],
             [
              1,
              "#f0f921"
             ]
            ],
            "type": "histogram2dcontour"
           }
          ],
          "mesh3d": [
           {
            "colorbar": {
             "outlinewidth": 0,
             "ticks": ""
            },
            "type": "mesh3d"
           }
          ],
          "parcoords": [
           {
            "line": {
             "colorbar": {
              "outlinewidth": 0,
              "ticks": ""
             }
            },
            "type": "parcoords"
           }
          ],
          "pie": [
           {
            "automargin": true,
            "type": "pie"
           }
          ],
          "scatter": [
           {
            "fillpattern": {
             "fillmode": "overlay",
             "size": 10,
             "solidity": 0.2
            },
            "type": "scatter"
           }
          ],
          "scatter3d": [
           {
            "line": {
             "colorbar": {
              "outlinewidth": 0,
              "ticks": ""
             }
            },
            "marker": {
             "colorbar": {
              "outlinewidth": 0,
              "ticks": ""
             }
            },
            "type": "scatter3d"
           }
          ],
          "scattercarpet": [
           {
            "marker": {
             "colorbar": {
              "outlinewidth": 0,
              "ticks": ""
             }
            },
            "type": "scattercarpet"
           }
          ],
          "scattergeo": [
           {
            "marker": {
             "colorbar": {
              "outlinewidth": 0,
              "ticks": ""
             }
            },
            "type": "scattergeo"
           }
          ],
          "scattergl": [
           {
            "marker": {
             "colorbar": {
              "outlinewidth": 0,
              "ticks": ""
             }
            },
            "type": "scattergl"
           }
          ],
          "scattermap": [
           {
            "marker": {
             "colorbar": {
              "outlinewidth": 0,
              "ticks": ""
             }
            },
            "type": "scattermap"
           }
          ],
          "scattermapbox": [
           {
            "marker": {
             "colorbar": {
              "outlinewidth": 0,
              "ticks": ""
             }
            },
            "type": "scattermapbox"
           }
          ],
          "scatterpolar": [
           {
            "marker": {
             "colorbar": {
              "outlinewidth": 0,
              "ticks": ""
             }
            },
            "type": "scatterpolar"
           }
          ],
          "scatterpolargl": [
           {
            "marker": {
             "colorbar": {
              "outlinewidth": 0,
              "ticks": ""
             }
            },
            "type": "scatterpolargl"
           }
          ],
          "scatterternary": [
           {
            "marker": {
             "colorbar": {
              "outlinewidth": 0,
              "ticks": ""
             }
            },
            "type": "scatterternary"
           }
          ],
          "surface": [
           {
            "colorbar": {
             "outlinewidth": 0,
             "ticks": ""
            },
            "colorscale": [
             [
              0,
              "#0d0887"
             ],
             [
              0.1111111111111111,
              "#46039f"
             ],
             [
              0.2222222222222222,
              "#7201a8"
             ],
             [
              0.3333333333333333,
              "#9c179e"
             ],
             [
              0.4444444444444444,
              "#bd3786"
             ],
             [
              0.5555555555555556,
              "#d8576b"
             ],
             [
              0.6666666666666666,
              "#ed7953"
             ],
             [
              0.7777777777777778,
              "#fb9f3a"
             ],
             [
              0.8888888888888888,
              "#fdca26"
             ],
             [
              1,
              "#f0f921"
             ]
            ],
            "type": "surface"
           }
          ],
          "table": [
           {
            "cells": {
             "fill": {
              "color": "#EBF0F8"
             },
             "line": {
              "color": "white"
             }
            },
            "header": {
             "fill": {
              "color": "#C8D4E3"
             },
             "line": {
              "color": "white"
             }
            },
            "type": "table"
           }
          ]
         },
         "layout": {
          "annotationdefaults": {
           "arrowcolor": "#2a3f5f",
           "arrowhead": 0,
           "arrowwidth": 1
          },
          "autotypenumbers": "strict",
          "coloraxis": {
           "colorbar": {
            "outlinewidth": 0,
            "ticks": ""
           }
          },
          "colorscale": {
           "diverging": [
            [
             0,
             "#8e0152"
            ],
            [
             0.1,
             "#c51b7d"
            ],
            [
             0.2,
             "#de77ae"
            ],
            [
             0.3,
             "#f1b6da"
            ],
            [
             0.4,
             "#fde0ef"
            ],
            [
             0.5,
             "#f7f7f7"
            ],
            [
             0.6,
             "#e6f5d0"
            ],
            [
             0.7,
             "#b8e186"
            ],
            [
             0.8,
             "#7fbc41"
            ],
            [
             0.9,
             "#4d9221"
            ],
            [
             1,
             "#276419"
            ]
           ],
           "sequential": [
            [
             0,
             "#0d0887"
            ],
            [
             0.1111111111111111,
             "#46039f"
            ],
            [
             0.2222222222222222,
             "#7201a8"
            ],
            [
             0.3333333333333333,
             "#9c179e"
            ],
            [
             0.4444444444444444,
             "#bd3786"
            ],
            [
             0.5555555555555556,
             "#d8576b"
            ],
            [
             0.6666666666666666,
             "#ed7953"
            ],
            [
             0.7777777777777778,
             "#fb9f3a"
            ],
            [
             0.8888888888888888,
             "#fdca26"
            ],
            [
             1,
             "#f0f921"
            ]
           ],
           "sequentialminus": [
            [
             0,
             "#0d0887"
            ],
            [
             0.1111111111111111,
             "#46039f"
            ],
            [
             0.2222222222222222,
             "#7201a8"
            ],
            [
             0.3333333333333333,
             "#9c179e"
            ],
            [
             0.4444444444444444,
             "#bd3786"
            ],
            [
             0.5555555555555556,
             "#d8576b"
            ],
            [
             0.6666666666666666,
             "#ed7953"
            ],
            [
             0.7777777777777778,
             "#fb9f3a"
            ],
            [
             0.8888888888888888,
             "#fdca26"
            ],
            [
             1,
             "#f0f921"
            ]
           ]
          },
          "colorway": [
           "#636efa",
           "#EF553B",
           "#00cc96",
           "#ab63fa",
           "#FFA15A",
           "#19d3f3",
           "#FF6692",
           "#B6E880",
           "#FF97FF",
           "#FECB52"
          ],
          "font": {
           "color": "#2a3f5f"
          },
          "geo": {
           "bgcolor": "white",
           "lakecolor": "white",
           "landcolor": "#E5ECF6",
           "showlakes": true,
           "showland": true,
           "subunitcolor": "white"
          },
          "hoverlabel": {
           "align": "left"
          },
          "hovermode": "closest",
          "mapbox": {
           "style": "light"
          },
          "paper_bgcolor": "white",
          "plot_bgcolor": "#E5ECF6",
          "polar": {
           "angularaxis": {
            "gridcolor": "white",
            "linecolor": "white",
            "ticks": ""
           },
           "bgcolor": "#E5ECF6",
           "radialaxis": {
            "gridcolor": "white",
            "linecolor": "white",
            "ticks": ""
           }
          },
          "scene": {
           "xaxis": {
            "backgroundcolor": "#E5ECF6",
            "gridcolor": "white",
            "gridwidth": 2,
            "linecolor": "white",
            "showbackground": true,
            "ticks": "",
            "zerolinecolor": "white"
           },
           "yaxis": {
            "backgroundcolor": "#E5ECF6",
            "gridcolor": "white",
            "gridwidth": 2,
            "linecolor": "white",
            "showbackground": true,
            "ticks": "",
            "zerolinecolor": "white"
           },
           "zaxis": {
            "backgroundcolor": "#E5ECF6",
            "gridcolor": "white",
            "gridwidth": 2,
            "linecolor": "white",
            "showbackground": true,
            "ticks": "",
            "zerolinecolor": "white"
           }
          },
          "shapedefaults": {
           "line": {
            "color": "#2a3f5f"
           }
          },
          "ternary": {
           "aaxis": {
            "gridcolor": "white",
            "linecolor": "white",
            "ticks": ""
           },
           "baxis": {
            "gridcolor": "white",
            "linecolor": "white",
            "ticks": ""
           },
           "bgcolor": "#E5ECF6",
           "caxis": {
            "gridcolor": "white",
            "linecolor": "white",
            "ticks": ""
           }
          },
          "title": {
           "x": 0.05
          },
          "xaxis": {
           "automargin": true,
           "gridcolor": "white",
           "linecolor": "white",
           "ticks": "",
           "title": {
            "standoff": 15
           },
           "zerolinecolor": "white",
           "zerolinewidth": 2
          },
          "yaxis": {
           "automargin": true,
           "gridcolor": "white",
           "linecolor": "white",
           "ticks": "",
           "title": {
            "standoff": 15
           },
           "zerolinecolor": "white",
           "zerolinewidth": 2
          }
         }
        },
        "xaxis": {
         "anchor": "y",
         "domain": [
          0,
          1
         ]
        },
        "yaxis": {
         "anchor": "x",
         "domain": [
          0,
          1
         ],
         "title": {
          "text": "betting_odds"
         }
        }
       }
      }
     },
     "metadata": {},
     "output_type": "display_data"
    }
   ],
   "source": [
    "df = px.data.tips()\n",
    "fig = px.box(df_mart_betting, y=\"betting_odds\")\n",
    "fig.show()"
   ]
  },
  {
   "cell_type": "markdown",
   "metadata": {},
   "source": [
    "### Importing prep_betting from AWS.\n",
    "\n",
    "1. This table shows \n",
    "    - betting scores for each performer/song, per country, per year (2015-2023)\n",
    "    - includes song URLs\n",
    "2. ~9k rows, 11 columns\n",
    "    - *betting_bm_id*: This is an internal unique identifier for the bookmaker used in our dataset (e.g; 5 = BET365) -> this will stay the same for all countries\n",
    "    - *betting_sc_id*: _we don't want to get into this; we refuse to believe that this datapoint it useful for us_\n",
    "    - *betting_name*: Name of the betting company\n",
    "    - *betting_score*: The betting score given to the performer for that particular year (detailed on song & country name too)\n",
    "    - *year*: self-explanatory\n",
    "    - *performer*: self-explanatory\n",
    "    - *song*: self-explanatory\n",
    "    - *page_url*: the link to the Eurovision song\n",
    "    - *contest_round*: 3 unqiue values\n",
    "        - final -> this is the one we will be focusing on. \n",
    "        - semi_final_1\n",
    "        - semi_final_2\n",
    "    - *country_name*: self-explanatory\n",
    "    - *country_code*: there's country_names here, we don't want to bother with country_codes. Suck it up. \n",
    "3. Betting score summary stats:\n",
    "    - min: 1.0\n",
    "    - mean: ~84.9\n",
    "    - max: 1001.0\n",
    "    - Q1: 2.5\n",
    "    - Q2: 26.0\n",
    "    - Q3: 101.0"
   ]
  },
  {
   "cell_type": "code",
   "execution_count": 86,
   "metadata": {},
   "outputs": [],
   "source": [
    "with engine.begin() as conn: # Done with echo=False\n",
    "    result = conn.execute(text(f'''\n",
    "                               SELECT * FROM prep_betting; \n",
    "                                '''))\n",
    "    data = result.all()\n",
    "\n",
    "### Let's create a dataframe out of that\n",
    "df_prep_betting = pd.DataFrame(data) "
   ]
  },
  {
   "cell_type": "code",
   "execution_count": 87,
   "metadata": {},
   "outputs": [
    {
     "data": {
      "text/html": [
       "<div>\n",
       "<style scoped>\n",
       "    .dataframe tbody tr th:only-of-type {\n",
       "        vertical-align: middle;\n",
       "    }\n",
       "\n",
       "    .dataframe tbody tr th {\n",
       "        vertical-align: top;\n",
       "    }\n",
       "\n",
       "    .dataframe thead th {\n",
       "        text-align: right;\n",
       "    }\n",
       "</style>\n",
       "<table border=\"1\" class=\"dataframe\">\n",
       "  <thead>\n",
       "    <tr style=\"text-align: right;\">\n",
       "      <th></th>\n",
       "      <th>betting_bm_id</th>\n",
       "      <th>betting_sc_id</th>\n",
       "      <th>betting_name</th>\n",
       "      <th>betting_score</th>\n",
       "      <th>year</th>\n",
       "      <th>performer</th>\n",
       "      <th>song</th>\n",
       "      <th>page_url</th>\n",
       "      <th>contest_round</th>\n",
       "      <th>country_name</th>\n",
       "      <th>country_code</th>\n",
       "    </tr>\n",
       "  </thead>\n",
       "  <tbody>\n",
       "    <tr>\n",
       "      <th>0</th>\n",
       "      <td>24</td>\n",
       "      <td>12</td>\n",
       "      <td>MATCHBOOK</td>\n",
       "      <td>2.21</td>\n",
       "      <td>2015</td>\n",
       "      <td>Måns Zelmerlöw</td>\n",
       "      <td>Heroes</td>\n",
       "      <td>/eurovision/2015/sweden</td>\n",
       "      <td>final</td>\n",
       "      <td>Sweden</td>\n",
       "      <td>Sweden</td>\n",
       "    </tr>\n",
       "    <tr>\n",
       "      <th>1</th>\n",
       "      <td>2</td>\n",
       "      <td>-200</td>\n",
       "      <td>BETFAIR*EXCHANGE</td>\n",
       "      <td>2.20</td>\n",
       "      <td>2015</td>\n",
       "      <td>Måns Zelmerlöw</td>\n",
       "      <td>Heroes</td>\n",
       "      <td>/eurovision/2015/sweden</td>\n",
       "      <td>final</td>\n",
       "      <td>Sweden</td>\n",
       "      <td>Sweden</td>\n",
       "    </tr>\n",
       "    <tr>\n",
       "      <th>2</th>\n",
       "      <td>5</td>\n",
       "      <td>220</td>\n",
       "      <td>BET365</td>\n",
       "      <td>3.75</td>\n",
       "      <td>2015</td>\n",
       "      <td>Polina Gagarina</td>\n",
       "      <td>A Million Voices</td>\n",
       "      <td>/eurovision/2015/russia</td>\n",
       "      <td>final</td>\n",
       "      <td>Russia</td>\n",
       "      <td>Russia</td>\n",
       "    </tr>\n",
       "    <tr>\n",
       "      <th>3</th>\n",
       "      <td>4</td>\n",
       "      <td>153</td>\n",
       "      <td>UNIBET</td>\n",
       "      <td>4.50</td>\n",
       "      <td>2015</td>\n",
       "      <td>Polina Gagarina</td>\n",
       "      <td>A Million Voices</td>\n",
       "      <td>/eurovision/2015/russia</td>\n",
       "      <td>final</td>\n",
       "      <td>Russia</td>\n",
       "      <td>Russia</td>\n",
       "    </tr>\n",
       "    <tr>\n",
       "      <th>4</th>\n",
       "      <td>18</td>\n",
       "      <td>139</td>\n",
       "      <td>YOUWIN</td>\n",
       "      <td>4.00</td>\n",
       "      <td>2015</td>\n",
       "      <td>Polina Gagarina</td>\n",
       "      <td>A Million Voices</td>\n",
       "      <td>/eurovision/2015/russia</td>\n",
       "      <td>final</td>\n",
       "      <td>Russia</td>\n",
       "      <td>Russia</td>\n",
       "    </tr>\n",
       "  </tbody>\n",
       "</table>\n",
       "</div>"
      ],
      "text/plain": [
       "   betting_bm_id  betting_sc_id      betting_name  betting_score  year  \\\n",
       "0             24             12         MATCHBOOK           2.21  2015   \n",
       "1              2           -200  BETFAIR*EXCHANGE           2.20  2015   \n",
       "2              5            220            BET365           3.75  2015   \n",
       "3              4            153            UNIBET           4.50  2015   \n",
       "4             18            139            YOUWIN           4.00  2015   \n",
       "\n",
       "         performer              song                 page_url contest_round  \\\n",
       "0   Måns Zelmerlöw            Heroes  /eurovision/2015/sweden         final   \n",
       "1   Måns Zelmerlöw            Heroes  /eurovision/2015/sweden         final   \n",
       "2  Polina Gagarina  A Million Voices  /eurovision/2015/russia         final   \n",
       "3  Polina Gagarina  A Million Voices  /eurovision/2015/russia         final   \n",
       "4  Polina Gagarina  A Million Voices  /eurovision/2015/russia         final   \n",
       "\n",
       "  country_name country_code  \n",
       "0       Sweden       Sweden  \n",
       "1       Sweden       Sweden  \n",
       "2       Russia       Russia  \n",
       "3       Russia       Russia  \n",
       "4       Russia       Russia  "
      ]
     },
     "execution_count": 87,
     "metadata": {},
     "output_type": "execute_result"
    }
   ],
   "source": [
    "df_prep_betting.head()"
   ]
  },
  {
   "cell_type": "code",
   "execution_count": 88,
   "metadata": {},
   "outputs": [
    {
     "data": {
      "text/html": [
       "<div>\n",
       "<style scoped>\n",
       "    .dataframe tbody tr th:only-of-type {\n",
       "        vertical-align: middle;\n",
       "    }\n",
       "\n",
       "    .dataframe tbody tr th {\n",
       "        vertical-align: top;\n",
       "    }\n",
       "\n",
       "    .dataframe thead th {\n",
       "        text-align: right;\n",
       "    }\n",
       "</style>\n",
       "<table border=\"1\" class=\"dataframe\">\n",
       "  <thead>\n",
       "    <tr style=\"text-align: right;\">\n",
       "      <th></th>\n",
       "      <th>betting_bm_id</th>\n",
       "      <th>betting_sc_id</th>\n",
       "      <th>betting_score</th>\n",
       "      <th>year</th>\n",
       "    </tr>\n",
       "  </thead>\n",
       "  <tbody>\n",
       "    <tr>\n",
       "      <th>count</th>\n",
       "      <td>9453.000000</td>\n",
       "      <td>9453.000000</td>\n",
       "      <td>9407.000000</td>\n",
       "      <td>9453.000000</td>\n",
       "    </tr>\n",
       "    <tr>\n",
       "      <th>mean</th>\n",
       "      <td>20.927854</td>\n",
       "      <td>83.820903</td>\n",
       "      <td>84.904543</td>\n",
       "      <td>2018.976410</td>\n",
       "    </tr>\n",
       "    <tr>\n",
       "      <th>std</th>\n",
       "      <td>14.381842</td>\n",
       "      <td>107.033836</td>\n",
       "      <td>141.725063</td>\n",
       "      <td>2.248565</td>\n",
       "    </tr>\n",
       "    <tr>\n",
       "      <th>min</th>\n",
       "      <td>1.000000</td>\n",
       "      <td>-1000.000000</td>\n",
       "      <td>1.000000</td>\n",
       "      <td>2015.000000</td>\n",
       "    </tr>\n",
       "    <tr>\n",
       "      <th>25%</th>\n",
       "      <td>11.000000</td>\n",
       "      <td>69.000000</td>\n",
       "      <td>2.500000</td>\n",
       "      <td>2017.000000</td>\n",
       "    </tr>\n",
       "    <tr>\n",
       "      <th>50%</th>\n",
       "      <td>19.000000</td>\n",
       "      <td>102.000000</td>\n",
       "      <td>26.000000</td>\n",
       "      <td>2019.000000</td>\n",
       "    </tr>\n",
       "    <tr>\n",
       "      <th>75%</th>\n",
       "      <td>30.000000</td>\n",
       "      <td>131.000000</td>\n",
       "      <td>101.000000</td>\n",
       "      <td>2020.000000</td>\n",
       "    </tr>\n",
       "    <tr>\n",
       "      <th>max</th>\n",
       "      <td>53.000000</td>\n",
       "      <td>220.000000</td>\n",
       "      <td>1001.000000</td>\n",
       "      <td>2023.000000</td>\n",
       "    </tr>\n",
       "  </tbody>\n",
       "</table>\n",
       "</div>"
      ],
      "text/plain": [
       "       betting_bm_id  betting_sc_id  betting_score         year\n",
       "count    9453.000000    9453.000000    9407.000000  9453.000000\n",
       "mean       20.927854      83.820903      84.904543  2018.976410\n",
       "std        14.381842     107.033836     141.725063     2.248565\n",
       "min         1.000000   -1000.000000       1.000000  2015.000000\n",
       "25%        11.000000      69.000000       2.500000  2017.000000\n",
       "50%        19.000000     102.000000      26.000000  2019.000000\n",
       "75%        30.000000     131.000000     101.000000  2020.000000\n",
       "max        53.000000     220.000000    1001.000000  2023.000000"
      ]
     },
     "execution_count": 88,
     "metadata": {},
     "output_type": "execute_result"
    }
   ],
   "source": [
    "df_prep_betting.describe()"
   ]
  },
  {
   "cell_type": "code",
   "execution_count": 91,
   "metadata": {},
   "outputs": [
    {
     "name": "stdout",
     "output_type": "stream",
     "text": [
      "<class 'pandas.core.frame.DataFrame'>\n",
      "RangeIndex: 9453 entries, 0 to 9452\n",
      "Data columns (total 11 columns):\n",
      " #   Column         Non-Null Count  Dtype  \n",
      "---  ------         --------------  -----  \n",
      " 0   betting_bm_id  9453 non-null   int64  \n",
      " 1   betting_sc_id  9453 non-null   int64  \n",
      " 2   betting_name   9453 non-null   object \n",
      " 3   betting_score  9407 non-null   float64\n",
      " 4   year           9453 non-null   int64  \n",
      " 5   performer      9453 non-null   object \n",
      " 6   song           9453 non-null   object \n",
      " 7   page_url       9453 non-null   object \n",
      " 8   contest_round  9453 non-null   object \n",
      " 9   country_name   9453 non-null   object \n",
      " 10  country_code   9129 non-null   object \n",
      "dtypes: float64(1), int64(3), object(7)\n",
      "memory usage: 812.5+ KB\n"
     ]
    }
   ],
   "source": [
    "df_prep_betting.info()"
   ]
  },
  {
   "cell_type": "code",
   "execution_count": 89,
   "metadata": {},
   "outputs": [
    {
     "data": {
      "text/html": [
       "<div>\n",
       "<style scoped>\n",
       "    .dataframe tbody tr th:only-of-type {\n",
       "        vertical-align: middle;\n",
       "    }\n",
       "\n",
       "    .dataframe tbody tr th {\n",
       "        vertical-align: top;\n",
       "    }\n",
       "\n",
       "    .dataframe thead th {\n",
       "        text-align: right;\n",
       "    }\n",
       "</style>\n",
       "<table border=\"1\" class=\"dataframe\">\n",
       "  <thead>\n",
       "    <tr style=\"text-align: right;\">\n",
       "      <th></th>\n",
       "      <th>betting_name</th>\n",
       "      <th>performer</th>\n",
       "      <th>song</th>\n",
       "      <th>page_url</th>\n",
       "      <th>contest_round</th>\n",
       "      <th>country_name</th>\n",
       "      <th>country_code</th>\n",
       "    </tr>\n",
       "  </thead>\n",
       "  <tbody>\n",
       "    <tr>\n",
       "      <th>count</th>\n",
       "      <td>9453</td>\n",
       "      <td>9453</td>\n",
       "      <td>9453</td>\n",
       "      <td>9453</td>\n",
       "      <td>9453</td>\n",
       "      <td>9453</td>\n",
       "      <td>9129</td>\n",
       "    </tr>\n",
       "    <tr>\n",
       "      <th>unique</th>\n",
       "      <td>33</td>\n",
       "      <td>329</td>\n",
       "      <td>348</td>\n",
       "      <td>354</td>\n",
       "      <td>3</td>\n",
       "      <td>45</td>\n",
       "      <td>43</td>\n",
       "    </tr>\n",
       "    <tr>\n",
       "      <th>top</th>\n",
       "      <td>BOYLESPORTS</td>\n",
       "      <td>Go_A</td>\n",
       "      <td>You</td>\n",
       "      <td>/eurovision/2020/netherlands</td>\n",
       "      <td>final</td>\n",
       "      <td>Sweden</td>\n",
       "      <td>Sweden</td>\n",
       "    </tr>\n",
       "    <tr>\n",
       "      <th>freq</th>\n",
       "      <td>576</td>\n",
       "      <td>92</td>\n",
       "      <td>72</td>\n",
       "      <td>57</td>\n",
       "      <td>4550</td>\n",
       "      <td>290</td>\n",
       "      <td>290</td>\n",
       "    </tr>\n",
       "  </tbody>\n",
       "</table>\n",
       "</div>"
      ],
      "text/plain": [
       "       betting_name performer  song                      page_url  \\\n",
       "count          9453      9453  9453                          9453   \n",
       "unique           33       329   348                           354   \n",
       "top     BOYLESPORTS      Go_A   You  /eurovision/2020/netherlands   \n",
       "freq            576        92    72                            57   \n",
       "\n",
       "       contest_round country_name country_code  \n",
       "count           9453         9453         9129  \n",
       "unique             3           45           43  \n",
       "top            final       Sweden       Sweden  \n",
       "freq            4550          290          290  "
      ]
     },
     "execution_count": 89,
     "metadata": {},
     "output_type": "execute_result"
    }
   ],
   "source": [
    "df_prep_betting.describe(include='object')"
   ]
  },
  {
   "cell_type": "code",
   "execution_count": 38,
   "metadata": {},
   "outputs": [
    {
     "name": "stdout",
     "output_type": "stream",
     "text": [
      "The Shape of the dataset: (9453, 11)\n",
      "A list of columns in the dataset: Index(['betting_bm_id', 'betting_sc_id', 'betting_name', 'betting_score',\n",
      "       'year', 'performer', 'song', 'page_url', 'contest_round',\n",
      "       'country_name', 'country_code'],\n",
      "      dtype='object')\n"
     ]
    }
   ],
   "source": [
    "print(f'The Shape of the dataset: {df_prep_betting.shape}')\n",
    "print(f'A list of columns in the dataset: {df_prep_betting.columns}')"
   ]
  },
  {
   "cell_type": "markdown",
   "metadata": {},
   "source": [
    "### Here's a pretty box plot of Betting_Score summary stats"
   ]
  },
  {
   "cell_type": "code",
   "execution_count": 68,
   "metadata": {},
   "outputs": [
    {
     "data": {
      "application/vnd.plotly.v1+json": {
       "config": {
        "plotlyServerURL": "https://plot.ly"
       },
       "data": [
        {
         "alignmentgroup": "True",
         "hovertemplate": "betting_score=%{y}<extra></extra>",
         "legendgroup": "",
         "marker": {
          "color": "#636efa"
         },
         "name": "",
         "notched": false,
         "offsetgroup": "",
         "orientation": "v",
         "showlegend": false,
         "type": "box",
         "x0": " ",
         "xaxis": "x",
         "y": {
          "bdata": "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",
          "dtype": "f8"
         },
         "y0": " ",
         "yaxis": "y"
        }
       ],
       "layout": {
        "boxmode": "group",
        "legend": {
         "tracegroupgap": 0
        },
        "margin": {
         "t": 60
        },
        "template": {
         "data": {
          "bar": [
           {
            "error_x": {
             "color": "#2a3f5f"
            },
            "error_y": {
             "color": "#2a3f5f"
            },
            "marker": {
             "line": {
              "color": "#E5ECF6",
              "width": 0.5
             },
             "pattern": {
              "fillmode": "overlay",
              "size": 10,
              "solidity": 0.2
             }
            },
            "type": "bar"
           }
          ],
          "barpolar": [
           {
            "marker": {
             "line": {
              "color": "#E5ECF6",
              "width": 0.5
             },
             "pattern": {
              "fillmode": "overlay",
              "size": 10,
              "solidity": 0.2
             }
            },
            "type": "barpolar"
           }
          ],
          "carpet": [
           {
            "aaxis": {
             "endlinecolor": "#2a3f5f",
             "gridcolor": "white",
             "linecolor": "white",
             "minorgridcolor": "white",
             "startlinecolor": "#2a3f5f"
            },
            "baxis": {
             "endlinecolor": "#2a3f5f",
             "gridcolor": "white",
             "linecolor": "white",
             "minorgridcolor": "white",
             "startlinecolor": "#2a3f5f"
            },
            "type": "carpet"
           }
          ],
          "choropleth": [
           {
            "colorbar": {
             "outlinewidth": 0,
             "ticks": ""
            },
            "type": "choropleth"
           }
          ],
          "contour": [
           {
            "colorbar": {
             "outlinewidth": 0,
             "ticks": ""
            },
            "colorscale": [
             [
              0,
              "#0d0887"
             ],
             [
              0.1111111111111111,
              "#46039f"
             ],
             [
              0.2222222222222222,
              "#7201a8"
             ],
             [
              0.3333333333333333,
              "#9c179e"
             ],
             [
              0.4444444444444444,
              "#bd3786"
             ],
             [
              0.5555555555555556,
              "#d8576b"
             ],
             [
              0.6666666666666666,
              "#ed7953"
             ],
             [
              0.7777777777777778,
              "#fb9f3a"
             ],
             [
              0.8888888888888888,
              "#fdca26"
             ],
             [
              1,
              "#f0f921"
             ]
            ],
            "type": "contour"
           }
          ],
          "contourcarpet": [
           {
            "colorbar": {
             "outlinewidth": 0,
             "ticks": ""
            },
            "type": "contourcarpet"
           }
          ],
          "heatmap": [
           {
            "colorbar": {
             "outlinewidth": 0,
             "ticks": ""
            },
            "colorscale": [
             [
              0,
              "#0d0887"
             ],
             [
              0.1111111111111111,
              "#46039f"
             ],
             [
              0.2222222222222222,
              "#7201a8"
             ],
             [
              0.3333333333333333,
              "#9c179e"
             ],
             [
              0.4444444444444444,
              "#bd3786"
             ],
             [
              0.5555555555555556,
              "#d8576b"
             ],
             [
              0.6666666666666666,
              "#ed7953"
             ],
             [
              0.7777777777777778,
              "#fb9f3a"
             ],
             [
              0.8888888888888888,
              "#fdca26"
             ],
             [
              1,
              "#f0f921"
             ]
            ],
            "type": "heatmap"
           }
          ],
          "histogram": [
           {
            "marker": {
             "pattern": {
              "fillmode": "overlay",
              "size": 10,
              "solidity": 0.2
             }
            },
            "type": "histogram"
           }
          ],
          "histogram2d": [
           {
            "colorbar": {
             "outlinewidth": 0,
             "ticks": ""
            },
            "colorscale": [
             [
              0,
              "#0d0887"
             ],
             [
              0.1111111111111111,
              "#46039f"
             ],
             [
              0.2222222222222222,
              "#7201a8"
             ],
             [
              0.3333333333333333,
              "#9c179e"
             ],
             [
              0.4444444444444444,
              "#bd3786"
             ],
             [
              0.5555555555555556,
              "#d8576b"
             ],
             [
              0.6666666666666666,
              "#ed7953"
             ],
             [
              0.7777777777777778,
              "#fb9f3a"
             ],
             [
              0.8888888888888888,
              "#fdca26"
             ],
             [
              1,
              "#f0f921"
             ]
            ],
            "type": "histogram2d"
           }
          ],
          "histogram2dcontour": [
           {
            "colorbar": {
             "outlinewidth": 0,
             "ticks": ""
            },
            "colorscale": [
             [
              0,
              "#0d0887"
             ],
             [
              0.1111111111111111,
              "#46039f"
             ],
             [
              0.2222222222222222,
              "#7201a8"
             ],
             [
              0.3333333333333333,
              "#9c179e"
             ],
             [
              0.4444444444444444,
              "#bd3786"
             ],
             [
              0.5555555555555556,
              "#d8576b"
             ],
             [
              0.6666666666666666,
              "#ed7953"
             ],
             [
              0.7777777777777778,
              "#fb9f3a"
             ],
             [
              0.8888888888888888,
              "#fdca26"
             ],
             [
              1,
              "#f0f921"
             ]
            ],
            "type": "histogram2dcontour"
           }
          ],
          "mesh3d": [
           {
            "colorbar": {
             "outlinewidth": 0,
             "ticks": ""
            },
            "type": "mesh3d"
           }
          ],
          "parcoords": [
           {
            "line": {
             "colorbar": {
              "outlinewidth": 0,
              "ticks": ""
             }
            },
            "type": "parcoords"
           }
          ],
          "pie": [
           {
            "automargin": true,
            "type": "pie"
           }
          ],
          "scatter": [
           {
            "fillpattern": {
             "fillmode": "overlay",
             "size": 10,
             "solidity": 0.2
            },
            "type": "scatter"
           }
          ],
          "scatter3d": [
           {
            "line": {
             "colorbar": {
              "outlinewidth": 0,
              "ticks": ""
             }
            },
            "marker": {
             "colorbar": {
              "outlinewidth": 0,
              "ticks": ""
             }
            },
            "type": "scatter3d"
           }
          ],
          "scattercarpet": [
           {
            "marker": {
             "colorbar": {
              "outlinewidth": 0,
              "ticks": ""
             }
            },
            "type": "scattercarpet"
           }
          ],
          "scattergeo": [
           {
            "marker": {
             "colorbar": {
              "outlinewidth": 0,
              "ticks": ""
             }
            },
            "type": "scattergeo"
           }
          ],
          "scattergl": [
           {
            "marker": {
             "colorbar": {
              "outlinewidth": 0,
              "ticks": ""
             }
            },
            "type": "scattergl"
           }
          ],
          "scattermap": [
           {
            "marker": {
             "colorbar": {
              "outlinewidth": 0,
              "ticks": ""
             }
            },
            "type": "scattermap"
           }
          ],
          "scattermapbox": [
           {
            "marker": {
             "colorbar": {
              "outlinewidth": 0,
              "ticks": ""
             }
            },
            "type": "scattermapbox"
           }
          ],
          "scatterpolar": [
           {
            "marker": {
             "colorbar": {
              "outlinewidth": 0,
              "ticks": ""
             }
            },
            "type": "scatterpolar"
           }
          ],
          "scatterpolargl": [
           {
            "marker": {
             "colorbar": {
              "outlinewidth": 0,
              "ticks": ""
             }
            },
            "type": "scatterpolargl"
           }
          ],
          "scatterternary": [
           {
            "marker": {
             "colorbar": {
              "outlinewidth": 0,
              "ticks": ""
             }
            },
            "type": "scatterternary"
           }
          ],
          "surface": [
           {
            "colorbar": {
             "outlinewidth": 0,
             "ticks": ""
            },
            "colorscale": [
             [
              0,
              "#0d0887"
             ],
             [
              0.1111111111111111,
              "#46039f"
             ],
             [
              0.2222222222222222,
              "#7201a8"
             ],
             [
              0.3333333333333333,
              "#9c179e"
             ],
             [
              0.4444444444444444,
              "#bd3786"
             ],
             [
              0.5555555555555556,
              "#d8576b"
             ],
             [
              0.6666666666666666,
              "#ed7953"
             ],
             [
              0.7777777777777778,
              "#fb9f3a"
             ],
             [
              0.8888888888888888,
              "#fdca26"
             ],
             [
              1,
              "#f0f921"
             ]
            ],
            "type": "surface"
           }
          ],
          "table": [
           {
            "cells": {
             "fill": {
              "color": "#EBF0F8"
             },
             "line": {
              "color": "white"
             }
            },
            "header": {
             "fill": {
              "color": "#C8D4E3"
             },
             "line": {
              "color": "white"
             }
            },
            "type": "table"
           }
          ]
         },
         "layout": {
          "annotationdefaults": {
           "arrowcolor": "#2a3f5f",
           "arrowhead": 0,
           "arrowwidth": 1
          },
          "autotypenumbers": "strict",
          "coloraxis": {
           "colorbar": {
            "outlinewidth": 0,
            "ticks": ""
           }
          },
          "colorscale": {
           "diverging": [
            [
             0,
             "#8e0152"
            ],
            [
             0.1,
             "#c51b7d"
            ],
            [
             0.2,
             "#de77ae"
            ],
            [
             0.3,
             "#f1b6da"
            ],
            [
             0.4,
             "#fde0ef"
            ],
            [
             0.5,
             "#f7f7f7"
            ],
            [
             0.6,
             "#e6f5d0"
            ],
            [
             0.7,
             "#b8e186"
            ],
            [
             0.8,
             "#7fbc41"
            ],
            [
             0.9,
             "#4d9221"
            ],
            [
             1,
             "#276419"
            ]
           ],
           "sequential": [
            [
             0,
             "#0d0887"
            ],
            [
             0.1111111111111111,
             "#46039f"
            ],
            [
             0.2222222222222222,
             "#7201a8"
            ],
            [
             0.3333333333333333,
             "#9c179e"
            ],
            [
             0.4444444444444444,
             "#bd3786"
            ],
            [
             0.5555555555555556,
             "#d8576b"
            ],
            [
             0.6666666666666666,
             "#ed7953"
            ],
            [
             0.7777777777777778,
             "#fb9f3a"
            ],
            [
             0.8888888888888888,
             "#fdca26"
            ],
            [
             1,
             "#f0f921"
            ]
           ],
           "sequentialminus": [
            [
             0,
             "#0d0887"
            ],
            [
             0.1111111111111111,
             "#46039f"
            ],
            [
             0.2222222222222222,
             "#7201a8"
            ],
            [
             0.3333333333333333,
             "#9c179e"
            ],
            [
             0.4444444444444444,
             "#bd3786"
            ],
            [
             0.5555555555555556,
             "#d8576b"
            ],
            [
             0.6666666666666666,
             "#ed7953"
            ],
            [
             0.7777777777777778,
             "#fb9f3a"
            ],
            [
             0.8888888888888888,
             "#fdca26"
            ],
            [
             1,
             "#f0f921"
            ]
           ]
          },
          "colorway": [
           "#636efa",
           "#EF553B",
           "#00cc96",
           "#ab63fa",
           "#FFA15A",
           "#19d3f3",
           "#FF6692",
           "#B6E880",
           "#FF97FF",
           "#FECB52"
          ],
          "font": {
           "color": "#2a3f5f"
          },
          "geo": {
           "bgcolor": "white",
           "lakecolor": "white",
           "landcolor": "#E5ECF6",
           "showlakes": true,
           "showland": true,
           "subunitcolor": "white"
          },
          "hoverlabel": {
           "align": "left"
          },
          "hovermode": "closest",
          "mapbox": {
           "style": "light"
          },
          "paper_bgcolor": "white",
          "plot_bgcolor": "#E5ECF6",
          "polar": {
           "angularaxis": {
            "gridcolor": "white",
            "linecolor": "white",
            "ticks": ""
           },
           "bgcolor": "#E5ECF6",
           "radialaxis": {
            "gridcolor": "white",
            "linecolor": "white",
            "ticks": ""
           }
          },
          "scene": {
           "xaxis": {
            "backgroundcolor": "#E5ECF6",
            "gridcolor": "white",
            "gridwidth": 2,
            "linecolor": "white",
            "showbackground": true,
            "ticks": "",
            "zerolinecolor": "white"
           },
           "yaxis": {
            "backgroundcolor": "#E5ECF6",
            "gridcolor": "white",
            "gridwidth": 2,
            "linecolor": "white",
            "showbackground": true,
            "ticks": "",
            "zerolinecolor": "white"
           },
           "zaxis": {
            "backgroundcolor": "#E5ECF6",
            "gridcolor": "white",
            "gridwidth": 2,
            "linecolor": "white",
            "showbackground": true,
            "ticks": "",
            "zerolinecolor": "white"
           }
          },
          "shapedefaults": {
           "line": {
            "color": "#2a3f5f"
           }
          },
          "ternary": {
           "aaxis": {
            "gridcolor": "white",
            "linecolor": "white",
            "ticks": ""
           },
           "baxis": {
            "gridcolor": "white",
            "linecolor": "white",
            "ticks": ""
           },
           "bgcolor": "#E5ECF6",
           "caxis": {
            "gridcolor": "white",
            "linecolor": "white",
            "ticks": ""
           }
          },
          "title": {
           "x": 0.05
          },
          "xaxis": {
           "automargin": true,
           "gridcolor": "white",
           "linecolor": "white",
           "ticks": "",
           "title": {
            "standoff": 15
           },
           "zerolinecolor": "white",
           "zerolinewidth": 2
          },
          "yaxis": {
           "automargin": true,
           "gridcolor": "white",
           "linecolor": "white",
           "ticks": "",
           "title": {
            "standoff": 15
           },
           "zerolinecolor": "white",
           "zerolinewidth": 2
          }
         }
        },
        "xaxis": {
         "anchor": "y",
         "domain": [
          0,
          1
         ]
        },
        "yaxis": {
         "anchor": "x",
         "domain": [
          0,
          1
         ],
         "title": {
          "text": "betting_score"
         }
        }
       }
      }
     },
     "metadata": {},
     "output_type": "display_data"
    }
   ],
   "source": [
    "df = px.data.tips()\n",
    "fig = px.box(df_prep_betting, y=\"betting_score\")\n",
    "fig.show()"
   ]
  },
  {
   "cell_type": "code",
   "execution_count": 69,
   "metadata": {},
   "outputs": [
    {
     "data": {
      "application/vnd.plotly.v1+json": {
       "config": {
        "plotlyServerURL": "https://plot.ly"
       },
       "data": [
        {
         "bingroup": "y",
         "hovertemplate": "count=%{x}<br>betting_score=%{y}<extra></extra>",
         "legendgroup": "",
         "marker": {
          "color": "#636efa",
          "pattern": {
           "shape": ""
          }
         },
         "name": "",
         "nbinsy": 30,
         "orientation": "h",
         "showlegend": false,
         "type": "histogram",
         "xaxis": "x",
         "y": {
          "bdata": "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",
          "dtype": "f8"
         },
         "yaxis": "y"
        },
        {
         "hovertemplate": "betting_score=%{y}<extra></extra>",
         "legendgroup": "",
         "marker": {
          "color": "#636efa"
         },
         "name": "",
         "notched": true,
         "showlegend": false,
         "type": "box",
         "xaxis": "x2",
         "y": {
          "bdata": "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",
          "dtype": "f8"
         },
         "yaxis": "y2"
        }
       ],
       "layout": {
        "barmode": "relative",
        "legend": {
         "tracegroupgap": 0
        },
        "template": {
         "data": {
          "bar": [
           {
            "error_x": {
             "color": "#2a3f5f"
            },
            "error_y": {
             "color": "#2a3f5f"
            },
            "marker": {
             "line": {
              "color": "#E5ECF6",
              "width": 0.5
             },
             "pattern": {
              "fillmode": "overlay",
              "size": 10,
              "solidity": 0.2
             }
            },
            "type": "bar"
           }
          ],
          "barpolar": [
           {
            "marker": {
             "line": {
              "color": "#E5ECF6",
              "width": 0.5
             },
             "pattern": {
              "fillmode": "overlay",
              "size": 10,
              "solidity": 0.2
             }
            },
            "type": "barpolar"
           }
          ],
          "carpet": [
           {
            "aaxis": {
             "endlinecolor": "#2a3f5f",
             "gridcolor": "white",
             "linecolor": "white",
             "minorgridcolor": "white",
             "startlinecolor": "#2a3f5f"
            },
            "baxis": {
             "endlinecolor": "#2a3f5f",
             "gridcolor": "white",
             "linecolor": "white",
             "minorgridcolor": "white",
             "startlinecolor": "#2a3f5f"
            },
            "type": "carpet"
           }
          ],
          "choropleth": [
           {
            "colorbar": {
             "outlinewidth": 0,
             "ticks": ""
            },
            "type": "choropleth"
           }
          ],
          "contour": [
           {
            "colorbar": {
             "outlinewidth": 0,
             "ticks": ""
            },
            "colorscale": [
             [
              0,
              "#0d0887"
             ],
             [
              0.1111111111111111,
              "#46039f"
             ],
             [
              0.2222222222222222,
              "#7201a8"
             ],
             [
              0.3333333333333333,
              "#9c179e"
             ],
             [
              0.4444444444444444,
              "#bd3786"
             ],
             [
              0.5555555555555556,
              "#d8576b"
             ],
             [
              0.6666666666666666,
              "#ed7953"
             ],
             [
              0.7777777777777778,
              "#fb9f3a"
             ],
             [
              0.8888888888888888,
              "#fdca26"
             ],
             [
              1,
              "#f0f921"
             ]
            ],
            "type": "contour"
           }
          ],
          "contourcarpet": [
           {
            "colorbar": {
             "outlinewidth": 0,
             "ticks": ""
            },
            "type": "contourcarpet"
           }
          ],
          "heatmap": [
           {
            "colorbar": {
             "outlinewidth": 0,
             "ticks": ""
            },
            "colorscale": [
             [
              0,
              "#0d0887"
             ],
             [
              0.1111111111111111,
              "#46039f"
             ],
             [
              0.2222222222222222,
              "#7201a8"
             ],
             [
              0.3333333333333333,
              "#9c179e"
             ],
             [
              0.4444444444444444,
              "#bd3786"
             ],
             [
              0.5555555555555556,
              "#d8576b"
             ],
             [
              0.6666666666666666,
              "#ed7953"
             ],
             [
              0.7777777777777778,
              "#fb9f3a"
             ],
             [
              0.8888888888888888,
              "#fdca26"
             ],
             [
              1,
              "#f0f921"
             ]
            ],
            "type": "heatmap"
           }
          ],
          "histogram": [
           {
            "marker": {
             "pattern": {
              "fillmode": "overlay",
              "size": 10,
              "solidity": 0.2
             }
            },
            "type": "histogram"
           }
          ],
          "histogram2d": [
           {
            "colorbar": {
             "outlinewidth": 0,
             "ticks": ""
            },
            "colorscale": [
             [
              0,
              "#0d0887"
             ],
             [
              0.1111111111111111,
              "#46039f"
             ],
             [
              0.2222222222222222,
              "#7201a8"
             ],
             [
              0.3333333333333333,
              "#9c179e"
             ],
             [
              0.4444444444444444,
              "#bd3786"
             ],
             [
              0.5555555555555556,
              "#d8576b"
             ],
             [
              0.6666666666666666,
              "#ed7953"
             ],
             [
              0.7777777777777778,
              "#fb9f3a"
             ],
             [
              0.8888888888888888,
              "#fdca26"
             ],
             [
              1,
              "#f0f921"
             ]
            ],
            "type": "histogram2d"
           }
          ],
          "histogram2dcontour": [
           {
            "colorbar": {
             "outlinewidth": 0,
             "ticks": ""
            },
            "colorscale": [
             [
              0,
              "#0d0887"
             ],
             [
              0.1111111111111111,
              "#46039f"
             ],
             [
              0.2222222222222222,
              "#7201a8"
             ],
             [
              0.3333333333333333,
              "#9c179e"
             ],
             [
              0.4444444444444444,
              "#bd3786"
             ],
             [
              0.5555555555555556,
              "#d8576b"
             ],
             [
              0.6666666666666666,
              "#ed7953"
             ],
             [
              0.7777777777777778,
              "#fb9f3a"
             ],
             [
              0.8888888888888888,
              "#fdca26"
             ],
             [
              1,
              "#f0f921"
             ]
            ],
            "type": "histogram2dcontour"
           }
          ],
          "mesh3d": [
           {
            "colorbar": {
             "outlinewidth": 0,
             "ticks": ""
            },
            "type": "mesh3d"
           }
          ],
          "parcoords": [
           {
            "line": {
             "colorbar": {
              "outlinewidth": 0,
              "ticks": ""
             }
            },
            "type": "parcoords"
           }
          ],
          "pie": [
           {
            "automargin": true,
            "type": "pie"
           }
          ],
          "scatter": [
           {
            "fillpattern": {
             "fillmode": "overlay",
             "size": 10,
             "solidity": 0.2
            },
            "type": "scatter"
           }
          ],
          "scatter3d": [
           {
            "line": {
             "colorbar": {
              "outlinewidth": 0,
              "ticks": ""
             }
            },
            "marker": {
             "colorbar": {
              "outlinewidth": 0,
              "ticks": ""
             }
            },
            "type": "scatter3d"
           }
          ],
          "scattercarpet": [
           {
            "marker": {
             "colorbar": {
              "outlinewidth": 0,
              "ticks": ""
             }
            },
            "type": "scattercarpet"
           }
          ],
          "scattergeo": [
           {
            "marker": {
             "colorbar": {
              "outlinewidth": 0,
              "ticks": ""
             }
            },
            "type": "scattergeo"
           }
          ],
          "scattergl": [
           {
            "marker": {
             "colorbar": {
              "outlinewidth": 0,
              "ticks": ""
             }
            },
            "type": "scattergl"
           }
          ],
          "scattermap": [
           {
            "marker": {
             "colorbar": {
              "outlinewidth": 0,
              "ticks": ""
             }
            },
            "type": "scattermap"
           }
          ],
          "scattermapbox": [
           {
            "marker": {
             "colorbar": {
              "outlinewidth": 0,
              "ticks": ""
             }
            },
            "type": "scattermapbox"
           }
          ],
          "scatterpolar": [
           {
            "marker": {
             "colorbar": {
              "outlinewidth": 0,
              "ticks": ""
             }
            },
            "type": "scatterpolar"
           }
          ],
          "scatterpolargl": [
           {
            "marker": {
             "colorbar": {
              "outlinewidth": 0,
              "ticks": ""
             }
            },
            "type": "scatterpolargl"
           }
          ],
          "scatterternary": [
           {
            "marker": {
             "colorbar": {
              "outlinewidth": 0,
              "ticks": ""
             }
            },
            "type": "scatterternary"
           }
          ],
          "surface": [
           {
            "colorbar": {
             "outlinewidth": 0,
             "ticks": ""
            },
            "colorscale": [
             [
              0,
              "#0d0887"
             ],
             [
              0.1111111111111111,
              "#46039f"
             ],
             [
              0.2222222222222222,
              "#7201a8"
             ],
             [
              0.3333333333333333,
              "#9c179e"
             ],
             [
              0.4444444444444444,
              "#bd3786"
             ],
             [
              0.5555555555555556,
              "#d8576b"
             ],
             [
              0.6666666666666666,
              "#ed7953"
             ],
             [
              0.7777777777777778,
              "#fb9f3a"
             ],
             [
              0.8888888888888888,
              "#fdca26"
             ],
             [
              1,
              "#f0f921"
             ]
            ],
            "type": "surface"
           }
          ],
          "table": [
           {
            "cells": {
             "fill": {
              "color": "#EBF0F8"
             },
             "line": {
              "color": "white"
             }
            },
            "header": {
             "fill": {
              "color": "#C8D4E3"
             },
             "line": {
              "color": "white"
             }
            },
            "type": "table"
           }
          ]
         },
         "layout": {
          "annotationdefaults": {
           "arrowcolor": "#2a3f5f",
           "arrowhead": 0,
           "arrowwidth": 1
          },
          "autotypenumbers": "strict",
          "coloraxis": {
           "colorbar": {
            "outlinewidth": 0,
            "ticks": ""
           }
          },
          "colorscale": {
           "diverging": [
            [
             0,
             "#8e0152"
            ],
            [
             0.1,
             "#c51b7d"
            ],
            [
             0.2,
             "#de77ae"
            ],
            [
             0.3,
             "#f1b6da"
            ],
            [
             0.4,
             "#fde0ef"
            ],
            [
             0.5,
             "#f7f7f7"
            ],
            [
             0.6,
             "#e6f5d0"
            ],
            [
             0.7,
             "#b8e186"
            ],
            [
             0.8,
             "#7fbc41"
            ],
            [
             0.9,
             "#4d9221"
            ],
            [
             1,
             "#276419"
            ]
           ],
           "sequential": [
            [
             0,
             "#0d0887"
            ],
            [
             0.1111111111111111,
             "#46039f"
            ],
            [
             0.2222222222222222,
             "#7201a8"
            ],
            [
             0.3333333333333333,
             "#9c179e"
            ],
            [
             0.4444444444444444,
             "#bd3786"
            ],
            [
             0.5555555555555556,
             "#d8576b"
            ],
            [
             0.6666666666666666,
             "#ed7953"
            ],
            [
             0.7777777777777778,
             "#fb9f3a"
            ],
            [
             0.8888888888888888,
             "#fdca26"
            ],
            [
             1,
             "#f0f921"
            ]
           ],
           "sequentialminus": [
            [
             0,
             "#0d0887"
            ],
            [
             0.1111111111111111,
             "#46039f"
            ],
            [
             0.2222222222222222,
             "#7201a8"
            ],
            [
             0.3333333333333333,
             "#9c179e"
            ],
            [
             0.4444444444444444,
             "#bd3786"
            ],
            [
             0.5555555555555556,
             "#d8576b"
            ],
            [
             0.6666666666666666,
             "#ed7953"
            ],
            [
             0.7777777777777778,
             "#fb9f3a"
            ],
            [
             0.8888888888888888,
             "#fdca26"
            ],
            [
             1,
             "#f0f921"
            ]
           ]
          },
          "colorway": [
           "#636efa",
           "#EF553B",
           "#00cc96",
           "#ab63fa",
           "#FFA15A",
           "#19d3f3",
           "#FF6692",
           "#B6E880",
           "#FF97FF",
           "#FECB52"
          ],
          "font": {
           "color": "#2a3f5f"
          },
          "geo": {
           "bgcolor": "white",
           "lakecolor": "white",
           "landcolor": "#E5ECF6",
           "showlakes": true,
           "showland": true,
           "subunitcolor": "white"
          },
          "hoverlabel": {
           "align": "left"
          },
          "hovermode": "closest",
          "mapbox": {
           "style": "light"
          },
          "paper_bgcolor": "white",
          "plot_bgcolor": "#E5ECF6",
          "polar": {
           "angularaxis": {
            "gridcolor": "white",
            "linecolor": "white",
            "ticks": ""
           },
           "bgcolor": "#E5ECF6",
           "radialaxis": {
            "gridcolor": "white",
            "linecolor": "white",
            "ticks": ""
           }
          },
          "scene": {
           "xaxis": {
            "backgroundcolor": "#E5ECF6",
            "gridcolor": "white",
            "gridwidth": 2,
            "linecolor": "white",
            "showbackground": true,
            "ticks": "",
            "zerolinecolor": "white"
           },
           "yaxis": {
            "backgroundcolor": "#E5ECF6",
            "gridcolor": "white",
            "gridwidth": 2,
            "linecolor": "white",
            "showbackground": true,
            "ticks": "",
            "zerolinecolor": "white"
           },
           "zaxis": {
            "backgroundcolor": "#E5ECF6",
            "gridcolor": "white",
            "gridwidth": 2,
            "linecolor": "white",
            "showbackground": true,
            "ticks": "",
            "zerolinecolor": "white"
           }
          },
          "shapedefaults": {
           "line": {
            "color": "#2a3f5f"
           }
          },
          "ternary": {
           "aaxis": {
            "gridcolor": "white",
            "linecolor": "white",
            "ticks": ""
           },
           "baxis": {
            "gridcolor": "white",
            "linecolor": "white",
            "ticks": ""
           },
           "bgcolor": "#E5ECF6",
           "caxis": {
            "gridcolor": "white",
            "linecolor": "white",
            "ticks": ""
           }
          },
          "title": {
           "x": 0.05
          },
          "xaxis": {
           "automargin": true,
           "gridcolor": "white",
           "linecolor": "white",
           "ticks": "",
           "title": {
            "standoff": 15
           },
           "zerolinecolor": "white",
           "zerolinewidth": 2
          },
          "yaxis": {
           "automargin": true,
           "gridcolor": "white",
           "linecolor": "white",
           "ticks": "",
           "title": {
            "standoff": 15
           },
           "zerolinecolor": "white",
           "zerolinewidth": 2
          }
         }
        },
        "title": {
         "text": "Distribution of betting scores"
        },
        "xaxis": {
         "anchor": "y",
         "domain": [
          0,
          0.8358
         ],
         "title": {
          "text": "count"
         }
        },
        "xaxis2": {
         "anchor": "y2",
         "domain": [
          0.8408,
          1
         ],
         "matches": "x2",
         "showgrid": false,
         "showline": false,
         "showticklabels": false,
         "ticks": ""
        },
        "yaxis": {
         "anchor": "x",
         "domain": [
          0,
          1
         ],
         "title": {
          "text": "betting_score"
         }
        },
        "yaxis2": {
         "anchor": "x2",
         "domain": [
          0,
          1
         ],
         "matches": "y",
         "showgrid": true,
         "showticklabels": false
        }
       }
      }
     },
     "metadata": {},
     "output_type": "display_data"
    }
   ],
   "source": [
    "df = px.data.tips()\n",
    "fig = px.histogram(df_prep_betting, y=\"betting_score\", nbins=30, marginal='box', title = 'Distribution of betting scores')\n",
    "fig.show()"
   ]
  },
  {
   "cell_type": "markdown",
   "metadata": {},
   "source": [
    "## Extra fancy shmancy stuff"
   ]
  },
  {
   "cell_type": "markdown",
   "metadata": {},
   "source": [
    "Here we wanted to show box plots of betting scores for the top countries in the finals"
   ]
  },
  {
   "cell_type": "code",
   "execution_count": 54,
   "metadata": {},
   "outputs": [
    {
     "data": {
      "text/html": [
       "<div>\n",
       "<style scoped>\n",
       "    .dataframe tbody tr th:only-of-type {\n",
       "        vertical-align: middle;\n",
       "    }\n",
       "\n",
       "    .dataframe tbody tr th {\n",
       "        vertical-align: top;\n",
       "    }\n",
       "\n",
       "    .dataframe thead th {\n",
       "        text-align: right;\n",
       "    }\n",
       "</style>\n",
       "<table border=\"1\" class=\"dataframe\">\n",
       "  <thead>\n",
       "    <tr style=\"text-align: right;\">\n",
       "      <th></th>\n",
       "      <th>betting_bm_id</th>\n",
       "      <th>betting_sc_id</th>\n",
       "      <th>betting_name</th>\n",
       "      <th>betting_score</th>\n",
       "      <th>year</th>\n",
       "      <th>performer</th>\n",
       "      <th>song_x</th>\n",
       "      <th>page_url</th>\n",
       "      <th>contest_round</th>\n",
       "      <th>country_name</th>\n",
       "      <th>...</th>\n",
       "      <th>points_jury_sf</th>\n",
       "      <th>composers</th>\n",
       "      <th>lyricists</th>\n",
       "      <th>lyrics</th>\n",
       "      <th>youtube_url</th>\n",
       "      <th>round</th>\n",
       "      <th>country</th>\n",
       "      <th>lgbtqia+</th>\n",
       "      <th>start_year</th>\n",
       "      <th>last_year</th>\n",
       "    </tr>\n",
       "  </thead>\n",
       "  <tbody>\n",
       "    <tr>\n",
       "      <th>0</th>\n",
       "      <td>5</td>\n",
       "      <td>220</td>\n",
       "      <td>BET365</td>\n",
       "      <td>2.10</td>\n",
       "      <td>2015</td>\n",
       "      <td>Måns Zelmerlöw</td>\n",
       "      <td>Heroes</td>\n",
       "      <td>/eurovision/2015/sweden</td>\n",
       "      <td>final</td>\n",
       "      <td>Sweden</td>\n",
       "      <td>...</td>\n",
       "      <td>NaN</td>\n",
       "      <td>Anton Hård af Segerstad;Joy Deb;Linnea Deb</td>\n",
       "      <td>None</td>\n",
       "      <td>Don't tell the gods I left a mess I can't undo...</td>\n",
       "      <td>https://youtube.com/watch?v=5sGOwFVUU0I</td>\n",
       "      <td>final</td>\n",
       "      <td>Sweden</td>\n",
       "      <td>0.0</td>\n",
       "      <td>1958</td>\n",
       "      <td>2025</td>\n",
       "    </tr>\n",
       "    <tr>\n",
       "      <th>1</th>\n",
       "      <td>4</td>\n",
       "      <td>153</td>\n",
       "      <td>UNIBET</td>\n",
       "      <td>2.00</td>\n",
       "      <td>2015</td>\n",
       "      <td>Måns Zelmerlöw</td>\n",
       "      <td>Heroes</td>\n",
       "      <td>/eurovision/2015/sweden</td>\n",
       "      <td>final</td>\n",
       "      <td>Sweden</td>\n",
       "      <td>...</td>\n",
       "      <td>NaN</td>\n",
       "      <td>Anton Hård af Segerstad;Joy Deb;Linnea Deb</td>\n",
       "      <td>None</td>\n",
       "      <td>Don't tell the gods I left a mess I can't undo...</td>\n",
       "      <td>https://youtube.com/watch?v=5sGOwFVUU0I</td>\n",
       "      <td>final</td>\n",
       "      <td>Sweden</td>\n",
       "      <td>0.0</td>\n",
       "      <td>1958</td>\n",
       "      <td>2025</td>\n",
       "    </tr>\n",
       "    <tr>\n",
       "      <th>2</th>\n",
       "      <td>18</td>\n",
       "      <td>139</td>\n",
       "      <td>YOUWIN</td>\n",
       "      <td>2.38</td>\n",
       "      <td>2015</td>\n",
       "      <td>Måns Zelmerlöw</td>\n",
       "      <td>Heroes</td>\n",
       "      <td>/eurovision/2015/sweden</td>\n",
       "      <td>final</td>\n",
       "      <td>Sweden</td>\n",
       "      <td>...</td>\n",
       "      <td>NaN</td>\n",
       "      <td>Anton Hård af Segerstad;Joy Deb;Linnea Deb</td>\n",
       "      <td>None</td>\n",
       "      <td>Don't tell the gods I left a mess I can't undo...</td>\n",
       "      <td>https://youtube.com/watch?v=5sGOwFVUU0I</td>\n",
       "      <td>final</td>\n",
       "      <td>Sweden</td>\n",
       "      <td>0.0</td>\n",
       "      <td>1958</td>\n",
       "      <td>2025</td>\n",
       "    </tr>\n",
       "    <tr>\n",
       "      <th>3</th>\n",
       "      <td>15</td>\n",
       "      <td>131</td>\n",
       "      <td>BOYLESPORTS</td>\n",
       "      <td>2.25</td>\n",
       "      <td>2015</td>\n",
       "      <td>Måns Zelmerlöw</td>\n",
       "      <td>Heroes</td>\n",
       "      <td>/eurovision/2015/sweden</td>\n",
       "      <td>final</td>\n",
       "      <td>Sweden</td>\n",
       "      <td>...</td>\n",
       "      <td>NaN</td>\n",
       "      <td>Anton Hård af Segerstad;Joy Deb;Linnea Deb</td>\n",
       "      <td>None</td>\n",
       "      <td>Don't tell the gods I left a mess I can't undo...</td>\n",
       "      <td>https://youtube.com/watch?v=5sGOwFVUU0I</td>\n",
       "      <td>final</td>\n",
       "      <td>Sweden</td>\n",
       "      <td>0.0</td>\n",
       "      <td>1958</td>\n",
       "      <td>2025</td>\n",
       "    </tr>\n",
       "    <tr>\n",
       "      <th>4</th>\n",
       "      <td>21</td>\n",
       "      <td>124</td>\n",
       "      <td>CORAL</td>\n",
       "      <td>2.10</td>\n",
       "      <td>2015</td>\n",
       "      <td>Måns Zelmerlöw</td>\n",
       "      <td>Heroes</td>\n",
       "      <td>/eurovision/2015/sweden</td>\n",
       "      <td>final</td>\n",
       "      <td>Sweden</td>\n",
       "      <td>...</td>\n",
       "      <td>NaN</td>\n",
       "      <td>Anton Hård af Segerstad;Joy Deb;Linnea Deb</td>\n",
       "      <td>None</td>\n",
       "      <td>Don't tell the gods I left a mess I can't undo...</td>\n",
       "      <td>https://youtube.com/watch?v=5sGOwFVUU0I</td>\n",
       "      <td>final</td>\n",
       "      <td>Sweden</td>\n",
       "      <td>0.0</td>\n",
       "      <td>1958</td>\n",
       "      <td>2025</td>\n",
       "    </tr>\n",
       "  </tbody>\n",
       "</table>\n",
       "<p>5 rows × 35 columns</p>\n",
       "</div>"
      ],
      "text/plain": [
       "   betting_bm_id  betting_sc_id betting_name  betting_score  year  \\\n",
       "0              5            220       BET365           2.10  2015   \n",
       "1              4            153       UNIBET           2.00  2015   \n",
       "2             18            139       YOUWIN           2.38  2015   \n",
       "3             15            131  BOYLESPORTS           2.25  2015   \n",
       "4             21            124        CORAL           2.10  2015   \n",
       "\n",
       "        performer  song_x                 page_url contest_round country_name  \\\n",
       "0  Måns Zelmerlöw  Heroes  /eurovision/2015/sweden         final       Sweden   \n",
       "1  Måns Zelmerlöw  Heroes  /eurovision/2015/sweden         final       Sweden   \n",
       "2  Måns Zelmerlöw  Heroes  /eurovision/2015/sweden         final       Sweden   \n",
       "3  Måns Zelmerlöw  Heroes  /eurovision/2015/sweden         final       Sweden   \n",
       "4  Måns Zelmerlöw  Heroes  /eurovision/2015/sweden         final       Sweden   \n",
       "\n",
       "   ... points_jury_sf                                   composers lyricists  \\\n",
       "0  ...            NaN  Anton Hård af Segerstad;Joy Deb;Linnea Deb      None   \n",
       "1  ...            NaN  Anton Hård af Segerstad;Joy Deb;Linnea Deb      None   \n",
       "2  ...            NaN  Anton Hård af Segerstad;Joy Deb;Linnea Deb      None   \n",
       "3  ...            NaN  Anton Hård af Segerstad;Joy Deb;Linnea Deb      None   \n",
       "4  ...            NaN  Anton Hård af Segerstad;Joy Deb;Linnea Deb      None   \n",
       "\n",
       "                                              lyrics  \\\n",
       "0  Don't tell the gods I left a mess I can't undo...   \n",
       "1  Don't tell the gods I left a mess I can't undo...   \n",
       "2  Don't tell the gods I left a mess I can't undo...   \n",
       "3  Don't tell the gods I left a mess I can't undo...   \n",
       "4  Don't tell the gods I left a mess I can't undo...   \n",
       "\n",
       "                               youtube_url  round  country  lgbtqia+  \\\n",
       "0  https://youtube.com/watch?v=5sGOwFVUU0I  final   Sweden       0.0   \n",
       "1  https://youtube.com/watch?v=5sGOwFVUU0I  final   Sweden       0.0   \n",
       "2  https://youtube.com/watch?v=5sGOwFVUU0I  final   Sweden       0.0   \n",
       "3  https://youtube.com/watch?v=5sGOwFVUU0I  final   Sweden       0.0   \n",
       "4  https://youtube.com/watch?v=5sGOwFVUU0I  final   Sweden       0.0   \n",
       "\n",
       "   start_year  last_year  \n",
       "0        1958       2025  \n",
       "1        1958       2025  \n",
       "2        1958       2025  \n",
       "3        1958       2025  \n",
       "4        1958       2025  \n",
       "\n",
       "[5 rows x 35 columns]"
      ]
     },
     "execution_count": 54,
     "metadata": {},
     "output_type": "execute_result"
    }
   ],
   "source": [
    "df_prep_betting_on_contestants = pd.merge(right = df_contestants_enhanced, left = df_prep_betting, on=['year','performer'])\n",
    "df_prep_betting_on_contestants.head()"
   ]
  },
  {
   "cell_type": "code",
   "execution_count": 60,
   "metadata": {},
   "outputs": [],
   "source": [
    "df_prep_betting_on_contestants_top3 = df_prep_betting_on_contestants[df_prep_betting_on_contestants['place_final'].isin(range(1,4))]"
   ]
  },
  {
   "cell_type": "code",
   "execution_count": 61,
   "metadata": {},
   "outputs": [
    {
     "data": {
      "text/plain": [
       "array([1., 2., 3.])"
      ]
     },
     "execution_count": 61,
     "metadata": {},
     "output_type": "execute_result"
    }
   ],
   "source": [
    "df_prep_betting_on_contestants_top3['place_final'].unique()"
   ]
  },
  {
   "cell_type": "code",
   "execution_count": 66,
   "metadata": {},
   "outputs": [
    {
     "data": {
      "application/vnd.plotly.v1+json": {
       "config": {
        "plotlyServerURL": "https://plot.ly"
       },
       "data": [
        {
         "alignmentgroup": "True",
         "hovertemplate": "country_name=Sweden<br>year=%{x}<br>betting_score=%{y}<extra></extra>",
         "legendgroup": "Sweden",
         "marker": {
          "color": "#636efa"
         },
         "name": "Sweden",
         "notched": false,
         "offsetgroup": "Sweden",
         "orientation": "v",
         "showlegend": true,
         "type": "box",
         "x": {
          "bdata": "3wffB98H3wffB98H3wffB98H3wffB98H3wffB98H3wffB98H3wffB98H3wffB98H3wffB98H3wffB98H5wfnB+cH5wfnB+cH5wfnB+cH5wfnB+cH5wfnB+cH5wc=",
          "dtype": "i2"
         },
         "x0": " ",
         "xaxis": "x",
         "y": {
          "bdata": "zczMzMzMAEAAAAAAAAAAQArXo3A9CgNAAAAAAAAAAkDNzMzMzMwAQM3MzMzMzABAzczMzMzMAEDNzMzMzMwAQAAAAAAAAAJAzczMzMzMAEAAAAAAAAAAQAAAAAAAAAJAAAAAAAAAAEAAAAAAAAAAQM3MzMzMzABAAAAAAAAAAkAAAAAAAADwP65H4XoUrgFAmpmZmZmZAUAAAAAAAADwPylcj8L1KPA/KVyPwvUo8D8pXI/C9SjwPylcj8L1KPA/AAAAAAAA8D8AAAAAAADwPwAAAAAAAPA/KVyPwvUo8D8AAAAAAADwPwAAAAAAAPA/7FG4HoXr+T+4HoXrUbj6P5qZmZmZmfk/CtejcD0K9z9mZmZmZmb6PwAAAAAAAPg/H4XrUbge+T+4HoXrUbj6P5qZmZmZmfk/AAAAAAAA+D/sUbgehev5P8P1KFyPwvk/uB6F61G4+j/sUbgehev5Pz0K16NwPfo/uB6F61G4+j8=",
          "dtype": "f8"
         },
         "y0": " ",
         "yaxis": "y"
        },
        {
         "alignmentgroup": "True",
         "hovertemplate": "country_name=Russia<br>year=%{x}<br>betting_score=%{y}<extra></extra>",
         "legendgroup": "Russia",
         "marker": {
          "color": "#EF553B"
         },
         "name": "Russia",
         "notched": false,
         "offsetgroup": "Russia",
         "orientation": "v",
         "showlegend": true,
         "type": "box",
         "x": {
          "bdata": "3wffB98H3wffB98H3wffB98H3wffB98H3wffB98H3wffB98H3wffB98H3wffB98H3wffB98H3wffB+AH4AfgB+AH4AfgB+AH4AfgB+AH4AfgB+AH4AfgB+AH4AfgB+AH4AfgB+AH4AfgB+AH4AfgB+AH4AfgB+MH4wfjB+MH4wfjB+MH4wfjB+MH4wfjB+MH4wfjB+MH4wfjB+MH4wfjB+MH4wfjB+MH4wfjB+MH4wfjB+MH4wfjB+MH4wc=",
          "dtype": "i2"
         },
         "x0": " ",
         "xaxis": "x",
         "y": {
          "bdata": "AAAAAAAADkAAAAAAAAASQAAAAAAAABBAAAAAAAAADkAAAAAAAAASQAAAAAAAAA5AAAAAAAAAEEAAAAAAAAAQQAAAAAAAAAxAAAAAAAAAEEAAAAAAAAAQQAAAAAAAABBAAAAAAAAAEEAAAAAAAAASQAAAAAAAABBAAAAAAAAADEAAAAAAAAATQKRwPQrXoxRA9ihcj8L1E0ApXI/C9SjwPylcj8L1KPA/AAAAAAAA8D8pXI/C9SjwPylcj8L1KPA/AAAAAAAA8D8pXI/C9SjwPylcj8L1KPA/KVyPwvUo8D8pXI/C9SjwP2ZmZmZmZv4/ZmZmZmZm9j97FK5H4Xr4P2ZmZmZmZvY/zczMzMzM9D8AAAAAAAD8Px+F61G4Hvk/mpmZmZmZ/T8K16NwPQr3P83MzMzMzPw/w/UoXI/C9T8AAAAAAAD4P5qZmZmZmf0/AAAAAAAA/D8AAAAAAAD8P8P1KFyPwvU/AAAAAAAAAEAAAAAAAAAAQM3MzMzMzABAUrgehetRAEAAAAAAAADwPwAAAAAAAPA/KVyPwvUo8D8AAAAAAADwPylcj8L1KPA/KVyPwvUo8D8AAAAAAADwPylcj8L1KPA/AAAAAAAA8D8pXI/C9SjwPwAAAAAAgERAAAAAAAAASUAAAAAAAIBJQAAAAAAAAEFAAAAAAACASUAAAAAAAAA6QAAAAAAAADNAAAAAAACARkAAAAAAAMBQQAAAAAAAgERAAAAAAAAAOkAAAAAAAIBJQAAAAAAAADlAAAAAAAAAIEAAAAAAAIBJQAAAAAAAgElAAAAAAACASUAAAAAAAABOQAAAAAAAAPA/KVyPwvUo8D8pXI/C9SjwPwAAAAAAAPA/KVyPwvUo8D8pXI/C9SjwPylcj8L1KPA/KVyPwvUo8D8pXI/C9SjwP1K4HoXrUfA/KVyPwvUo8D8pXI/C9SjwPylcj8L1KPA/AAAAAAAA+H8AAAAAAAD4fylcj8L1KPA/UrgehetR8D8=",
          "dtype": "f8"
         },
         "y0": " ",
         "yaxis": "y"
        },
        {
         "alignmentgroup": "True",
         "hovertemplate": "country_name=Italy<br>year=%{x}<br>betting_score=%{y}<extra></extra>",
         "legendgroup": "Italy",
         "marker": {
          "color": "#00cc96"
         },
         "name": "Italy",
         "notched": false,
         "offsetgroup": "Italy",
         "orientation": "v",
         "showlegend": true,
         "type": "box",
         "x": {
          "bdata": "3wffB98H3wffB98H3wffB98H3wffB98H3wffB98H3wffB98H3wfjB+MH4wfjB+MH4wfjB+MH4wfjB+MH4wfjB+MH4wfjB+MH4wflB+UH5QflB+UH5QflB+UH5QflB+UH5QflB+UH5QflB+UH5QflBw==",
          "dtype": "i2"
         },
         "x0": " ",
         "xaxis": "x",
         "y": {
          "bdata": "AAAAAAAAFEAAAAAAAAAYQAAAAAAAABRAAAAAAAAAFEAAAAAAAAAWQAAAAAAAABZAAAAAAAAAGEAAAAAAAAAWQAAAAAAAABRAAAAAAAAAGEAAAAAAAAAUQAAAAAAAABFAAAAAAAAAFkAAAAAAAAAaQAAAAAAAABJAAAAAAAAAEkAAAAAAAAAUQPYoXI/C9RpACtejcD0KGkAAAAAAAAAUQAAAAAAAACBAAAAAAAAAIEAAAAAAAAAYQAAAAAAAACBAAAAAAAAAIkAAAAAAAAAxQAAAAAAAABhAAAAAAAAAIEAAAAAAAAAcQAAAAAAAADNAAAAAAAAAGEAAAAAAAAAgQAAAAAAAAC5AAAAAAAAAIkAAAAAAAAAYQAAAAAAAACBAAAAAAAAAJEAAAAAAAAAKQAAAAAAAAApAAAAAAAAABkAAAAAAAAAMQDMzMzMzMwtAMzMzMzMzBUDNzMzMzMwKQAAAAAAAAApAZmZmZmZmBkBmZmZmZmYGQAAAAAAAAAhAAAAAAAAACEAAAAAAAAAKQDMzMzMzMwtAAAAAAAAADEAAAAAAAAAMQGZmZmZmZgxA7FG4HoXrCUDNzMzMzMwMQA==",
          "dtype": "f8"
         },
         "y0": " ",
         "yaxis": "y"
        },
        {
         "alignmentgroup": "True",
         "hovertemplate": "country_name=Australia<br>year=%{x}<br>betting_score=%{y}<extra></extra>",
         "legendgroup": "Australia",
         "marker": {
          "color": "#ab63fa"
         },
         "name": "Australia",
         "notched": false,
         "offsetgroup": "Australia",
         "orientation": "v",
         "showlegend": true,
         "type": "box",
         "x": {
          "bdata": "4AfgB+AH4AfgB+AH4AfgB+AH4AfgB+AH4AfgB+AH4AfgB+AH4AfgB+AH4AfgB+AH4AfgB+AH4AfgBw==",
          "dtype": "i2"
         },
         "x0": " ",
         "xaxis": "x",
         "y": {
          "bdata": "AAAAAAAABkAAAAAAAAAYQAAAAAAAABZAAAAAAAAAEkAAAAAAAAAYQDMzMzMzMwdAAAAAAAAAEkCPwvUoXI8EQAAAAAAAABRAZmZmZmZmBkAAAAAAAAAUQAAAAAAAABJAzczMzMzMBkAzMzMzMzMHQM3MzMzMzAZAAAAAAAAAFkAK16NwPQoHQGZmZmZmZgZA9ihcj8L1BEBSuB6F61EGQAAAAAAAAPA/KVyPwvUo8D9SuB6F61HwPwAAAAAAAPA/KVyPwvUo8D8pXI/C9SjwP1K4HoXrUfA/zczMzMzM8D8pXI/C9SjwPw==",
          "dtype": "f8"
         },
         "y0": " ",
         "yaxis": "y"
        },
        {
         "alignmentgroup": "True",
         "hovertemplate": "country_name=Ukraine<br>year=%{x}<br>betting_score=%{y}<extra></extra>",
         "legendgroup": "Ukraine",
         "marker": {
          "color": "#FFA15A"
         },
         "name": "Ukraine",
         "notched": false,
         "offsetgroup": "Ukraine",
         "orientation": "v",
         "showlegend": true,
         "type": "box",
         "x": {
          "bdata": "4AfgB+AH4AfgB+AH4AfgB+AH4AfgB+AH4AfgB+AH4AfgB+AH4AfgB+AH4AfgB+AH4AfgB+AH4AfgB+YH5gfmB+YH5gfmB+YH5gfmB+YH5gfmB+YH5gfmB+YH5gfmB+YH5gfmB+YH5gfmB+YH5gfmB+YH5gfmB+YH",
          "dtype": "i2"
         },
         "x0": " ",
         "xaxis": "x",
         "y": {
          "bdata": "AAAAAAAAJEAAAAAAAAAxQAAAAAAAADFAAAAAAAAAM0AAAAAAAAA6QAAAAAAAAC5AAAAAAAAAKkAAAAAAAAAkQAAAAAAAACRAAAAAAACAIUAAAAAAAAAzQAAAAAAAACpAAAAAAAAAJkAAAAAAAAAuQAAAAAAAACRAAAAAAAAAMUAAAAAAAAAuQAAAAAAAAC5AAAAAAAAAIkAAAAAAAAAzQAAAAAAAAPA/KVyPwvUo8D8pXI/C9SjwPwAAAAAAAPA/KVyPwvUo8D8pXI/C9SjwPylcj8L1KPA/UrgehetR8D8pXI/C9SjwPwAAAAAAAPQ/hetRuB6F8z+kcD0K16P0PwAAAAAAAPQ/cT0K16Nw9T9I4XoUrkf1P83MzMzMzPQ/hetRuB6F8z+kcD0K16P0PwAAAAAAAPQ/AAAAAAAA9D+kcD0K16P0P83MzMzMzPQ/zczMzMzM9D+amZmZmZkBQHE9CtejcPU/zczMzMzM9D9xPQrXo3D1Pylcj8L1KPA/KVyPwvUo8D8pXI/C9SjwPwAAAAAAAPA/KVyPwvUo8D8AAAAAAADwPwAAAAAAAPA/AAAAAAAA+H8pXI/C9SjwPylcj8L1KPA/KVyPwvUo8D8AAAAAAAD4fwAAAAAAAPh/",
          "dtype": "f8"
         },
         "y0": " ",
         "yaxis": "y"
        },
        {
         "alignmentgroup": "True",
         "hovertemplate": "country_name=Bulgaria<br>year=%{x}<br>betting_score=%{y}<extra></extra>",
         "legendgroup": "Bulgaria",
         "marker": {
          "color": "#19d3f3"
         },
         "name": "Bulgaria",
         "notched": false,
         "offsetgroup": "Bulgaria",
         "orientation": "v",
         "showlegend": true,
         "type": "box",
         "x": {
          "bdata": "4QfhB+EH4QfhB+EH4QfhB+EH4QfhB+EH4QfhB+EH4QfhB+EH4QfhB+EH4QfhB+EH4QfhB+EH4QfhB+EH4QfhBw==",
          "dtype": "i2"
         },
         "x0": " ",
         "xaxis": "x",
         "y": {
          "bdata": "9ihcj8L1AkAAAAAAAAAGQJqZmZmZmQFAAAAAAAAABEAAAAAAAAAGQDMzMzMzMwNAAAAAAAAABEAK16NwPQoFQGZmZmZmZgZAAAAAAAAABEAAAAAAAAAGQAAAAAAAAAhAAAAAAAAACEAAAAAAAAAGQAAAAAAAAAZAAAAAAAAABkAAAAAAAAAMQLgehetRuAZAKVyPwvUo8D8pXI/C9SjwPylcj8L1KPA/KVyPwvUo8D8AAAAAAADwPylcj8L1KPA/AAAAAAAA8D8pXI/C9SjwPwAAAAAAAPA/KVyPwvUo8D9SuB6F61HwPylcj8L1KPA/AAAAAAAA8D8AAAAAAADwPw==",
          "dtype": "f8"
         },
         "y0": " ",
         "yaxis": "y"
        },
        {
         "alignmentgroup": "True",
         "hovertemplate": "country_name=Portugal<br>year=%{x}<br>betting_score=%{y}<extra></extra>",
         "legendgroup": "Portugal",
         "marker": {
          "color": "#FF6692"
         },
         "name": "Portugal",
         "notched": false,
         "offsetgroup": "Portugal",
         "orientation": "v",
         "showlegend": true,
         "type": "box",
         "x": {
          "bdata": "4QfhB+EH4QfhB+EH4QfhB+EH4QfhB+EH4QfhB+EH4QfhB+EH4QfhB+EH4QfhB+EH4QfhB+EH4QfhB+EH4QfhB+EH",
          "dtype": "i2"
         },
         "x0": " ",
         "xaxis": "x",
         "y": {
          "bdata": "9ihcj8L1BEBI4XoUrkcHQDMzMzMzMwNAMzMzMzMzB0D2KFyPwvUGQDMzMzMzMwNAAAAAAAAABkAK16NwPQoFQM3MzMzMzAhAAAAAAAAABkD2KFyPwvUGQM3MzMzMzARAAAAAAAAABkAAAAAAAAAIQDMzMzMzMwdAAAAAAAAABkAK16NwPQoDQGZmZmZmZghAUrgehetR8D+kcD0K16PwP1K4HoXrUfA/KVyPwvUo8D9SuB6F61HwPylcj8L1KPA/UrgehetR8D97FK5H4XrwP1K4HoXrUfA/UrgehetR8D97FK5H4XrwP3sUrkfhevA/exSuR+F68D9SuB6F61HwP3sUrkfhevA/",
          "dtype": "f8"
         },
         "y0": " ",
         "yaxis": "y"
        },
        {
         "alignmentgroup": "True",
         "hovertemplate": "country_name=Moldova<br>year=%{x}<br>betting_score=%{y}<extra></extra>",
         "legendgroup": "Moldova",
         "marker": {
          "color": "#B6E880"
         },
         "name": "Moldova",
         "notched": false,
         "offsetgroup": "Moldova",
         "orientation": "v",
         "showlegend": true,
         "type": "box",
         "x": {
          "bdata": "4QfhB+EH4QfhB+EH4QfhB+EH4QfhB+EH4QfhB+EH4QfhB+EH4QfhB+EH4QfhB+EH4QfhB+EH4QfhB+EH4QfhB+EH",
          "dtype": "i2"
         },
         "x0": " ",
         "xaxis": "x",
         "y": {
          "bdata": "AAAAAADAUEAAAAAAAIBEQAAAAAAAgElAAAAAAAAASUAAAAAAAAA6QAAAAAAAAElAAAAAAACAREAAAAAAAIBJQAAAAAAAAEFAAAAAAACAREAAAAAAAAA6QAAAAAAAQFRAAAAAAACASUAAAAAAAAA1QAAAAAAAwFBAAAAAAACASUAAAAAAAIBOQAAAAAAAAFlAj8L1KFyP8j8K16NwPQrzPzMzMzMzM/M/j8L1KFyP8j+4HoXrUbjyP4/C9Shcj/I/AAAAAAAA9D9mZmZmZmbyPzMzMzMzM/M/MzMzMzMz8z+4HoXrUbjyPzMzMzMzM/M/MzMzMzMz8z8AAAAAAAD0PwrXo3A9CvM/",
          "dtype": "f8"
         },
         "y0": " ",
         "yaxis": "y"
        },
        {
         "alignmentgroup": "True",
         "hovertemplate": "country_name=Cyprus<br>year=%{x}<br>betting_score=%{y}<extra></extra>",
         "legendgroup": "Cyprus",
         "marker": {
          "color": "#FF97FF"
         },
         "name": "Cyprus",
         "notched": false,
         "offsetgroup": "Cyprus",
         "orientation": "v",
         "showlegend": true,
         "type": "box",
         "x": {
          "bdata": "4gfiB+IH4gfiB+IH4gfiB+IH4gfiB+IH4gfiB+IH4gfiB+IH4gfiB+IH4gfiB+IH4gfiB+IH4gfiB+IH4gfiBw==",
          "dtype": "i2"
         },
         "x0": " ",
         "xaxis": "x",
         "y": {
          "bdata": "AAAAAAAAAEAzMzMzMzMBQJqZmZmZmQFAAAAAAAAAAkAAAAAAAAAAQAAAAAAAAAJAzczMzMzMAEDNzMzMzMwAQJqZmZmZmQFAAAAAAAAAAkCamZmZmZkBQM3MzMzMzABAAAAAAAAAAkCamZmZmZkBQJqZmZmZmQFACtejcD0KA0CPwvUoXI8CQClcj8L1KPA/KVyPwvUo8D8AAAAAAADwPylcj8L1KPA/UrgehetR8D8pXI/C9SjwPylcj8L1KPA/KVyPwvUo8D8pXI/C9SjwPylcj8L1KPA/KVyPwvUo8D9SuB6F61HwPylcj8L1KPA/KVyPwvUo8D8AAAAAAADwPw==",
          "dtype": "f8"
         },
         "y0": " ",
         "yaxis": "y"
        },
        {
         "alignmentgroup": "True",
         "hovertemplate": "country_name=Austria<br>year=%{x}<br>betting_score=%{y}<extra></extra>",
         "legendgroup": "Austria",
         "marker": {
          "color": "#FECB52"
         },
         "name": "Austria",
         "notched": false,
         "offsetgroup": "Austria",
         "orientation": "v",
         "showlegend": true,
         "type": "box",
         "x": {
          "bdata": "4gfiB+IH4gfiB+IH4gfiB+IH4gfiB+IH4gfiB+IH4gfiB+IH4gfiB+IH4gfiB+IH4gfiB+IH4gfiB+IH4gfiBw==",
          "dtype": "i2"
         },
         "x0": " ",
         "xaxis": "x",
         "y": {
          "bdata": "AAAAAADQckAAAAAAAMBiQAAAAAAAYG9AAAAAAABAWUAAAAAAAEBZQAAAAAAAwFFAAAAAAACAX0AAAAAAAEBfQAAAAAAA4GJAAAAAAADAUUAAAAAAAOBiQAAAAAAAQFlAAAAAAADgYkAAAAAAAIBfQAAAAAAA4GJAAAAAAABAWUAAAAAAAEBvQEjhehSuR/U/ZmZmZmZm9j+amZmZmZn1P5qZmZmZmfU/ZmZmZmZm9j/D9Shcj8L1PxSuR+F6FPY/w/UoXI/C9T9mZmZmZmb2P2ZmZmZmZvY/mpmZmZmZ9T/D9Shcj8L1P83MzMzMzPQ/w/UoXI/C9T/D9Shcj8L1Pw==",
          "dtype": "f8"
         },
         "y0": " ",
         "yaxis": "y"
        },
        {
         "alignmentgroup": "True",
         "hovertemplate": "country_name=Netherlands<br>year=%{x}<br>betting_score=%{y}<extra></extra>",
         "legendgroup": "Netherlands",
         "marker": {
          "color": "#636efa"
         },
         "name": "Netherlands",
         "notched": false,
         "offsetgroup": "Netherlands",
         "orientation": "v",
         "showlegend": true,
         "type": "box",
         "x": {
          "bdata": "4wfjB+MH4wfjB+MH4wfjB+MH4wfjB+MH4wfjB+MH4wfjB+MH4wfjB+MH4wfjB+MH4wfjB+MH4wfjB+MH4wfjB+MH4wfjBw==",
          "dtype": "i2"
         },
         "x0": " ",
         "xaxis": "x",
         "y": {
          "bdata": "AAAAAAAA+D8UrkfhehT6P83MzMzMzPg/AAAAAAAA+D8AAAAAAAD4P83MzMzMzPg/ZmZmZmZm+j/NzMzMzMz4PwAAAAAAAPg/H4XrUbge+T9cj8L1KFz7Px+F61G4Hvk/CtejcD0K9z8AAAAAAAAMQB+F61G4Hvk/H4XrUbge+T8AAAAAAAD4P4/C9Shcj/o/AAAAAAAA8D8AAAAAAADwPwAAAAAAAPA/AAAAAAAA8D8AAAAAAADwPylcj8L1KPA/KVyPwvUo8D8pXI/C9SjwPwAAAAAAAPA/KVyPwvUo8D8pXI/C9SjwPylcj8L1KPA/AAAAAAAA+H8AAAAAAAD4fwAAAAAAAPh/KVyPwvUo8D8pXI/C9SjwPw==",
          "dtype": "f8"
         },
         "y0": " ",
         "yaxis": "y"
        },
        {
         "alignmentgroup": "True",
         "hovertemplate": "country_name=France<br>year=%{x}<br>betting_score=%{y}<extra></extra>",
         "legendgroup": "France",
         "marker": {
          "color": "#EF553B"
         },
         "name": "France",
         "notched": false,
         "offsetgroup": "France",
         "orientation": "v",
         "showlegend": true,
         "type": "box",
         "x": {
          "bdata": "5QflB+UH5QflB+UH5QflB+UH5QflB+UH5QflB+UH5QflB+UH5Qc=",
          "dtype": "i2"
         },
         "x0": " ",
         "xaxis": "x",
         "y": {
          "bdata": "AAAAAAAACkAAAAAAAAAKQAAAAAAAABJAAAAAAAAAEEAAAAAAAAAIQDMzMzMzMxFAzczMzMzMDkAAAAAAAAAMQAAAAAAAABJAAAAAAAAAEUAAAAAAAAASQAAAAAAAAAxAAAAAAAAACkAAAAAAAAAQQAAAAAAAAAxAAAAAAAAAEECamZmZmZkPQAAAAAAAABJAZmZmZmZmEEA=",
          "dtype": "f8"
         },
         "y0": " ",
         "yaxis": "y"
        },
        {
         "alignmentgroup": "True",
         "hovertemplate": "country_name=Switzerland<br>year=%{x}<br>betting_score=%{y}<extra></extra>",
         "legendgroup": "Switzerland",
         "marker": {
          "color": "#00cc96"
         },
         "name": "Switzerland",
         "notched": false,
         "offsetgroup": "Switzerland",
         "orientation": "v",
         "showlegend": true,
         "type": "box",
         "x": {
          "bdata": "5QflB+UH5QflB+UH5QflB+UH5QflB+UH5QflB+UH5QflB+UH5QflB+UH5QflB+UH5QflB+UH5QflB+UH5QflB+UH5Qc=",
          "dtype": "i2"
         },
         "x0": " ",
         "xaxis": "x",
         "y": {
          "bdata": "AAAAAAAAMUAAAAAAAAAyQAAAAAAAACZAAAAAAAAAMUAAAAAAAAA1QAAAAAAAAC5AAAAAAAAAMkAAAAAAAAAuQAAAAAAAACZAAAAAAAAAJkAAAAAAAAAoQAAAAAAAADBAAAAAAAAAMUAAAAAAAAAzQAAAAAAAACpAAAAAAAAAMUAAAAAAAAAzQAAAAAAAADNAAAAAAAAAM0ApXI/C9SjwPylcj8L1KPA/KVyPwvUo8D8pXI/C9SjwPwAAAAAAAPA/KVyPwvUo8D8AAAAAAADwPylcj8L1KPA/KVyPwvUo8D8pXI/C9SjwPwAAAAAAAPA/AAAAAAAA+H8pXI/C9SjwPwAAAAAAAPh/AAAAAAAA+H8=",
          "dtype": "f8"
         },
         "y0": " ",
         "yaxis": "y"
        },
        {
         "alignmentgroup": "True",
         "hovertemplate": "country_name=Spain<br>year=%{x}<br>betting_score=%{y}<extra></extra>",
         "legendgroup": "Spain",
         "marker": {
          "color": "#ab63fa"
         },
         "name": "Spain",
         "notched": false,
         "offsetgroup": "Spain",
         "orientation": "v",
         "showlegend": true,
         "type": "box",
         "x": {
          "bdata": "5gfmB+YH5gfmB+YH5gfmB+YH5gfmB+YH5gfmB+YH5gfmB+YH",
          "dtype": "i2"
         },
         "x0": " ",
         "xaxis": "x",
         "y": {
          "bdata": "AAAAAAAAJEAAAAAAAAAqQAAAAAAAACpAAAAAAAAALkAAAAAAAAAqQAAAAAAAACBAAAAAAAAAJEAAAAAAAAAmQAAAAAAAAC5AAAAAAAAALEAAAAAAAAAkQAAAAAAAACZAAAAAAAAAJEAAAAAAAAAkQAAAAAAAAD9AAAAAAAAAM0AAAAAAAAAkQAAAAAAAADJA",
          "dtype": "f8"
         },
         "y0": " ",
         "yaxis": "y"
        },
        {
         "alignmentgroup": "True",
         "hovertemplate": "country_name=Finland<br>year=%{x}<br>betting_score=%{y}<extra></extra>",
         "legendgroup": "Finland",
         "marker": {
          "color": "#19d3f3"
         },
         "name": "Finland",
         "notched": false,
         "offsetgroup": "Finland",
         "orientation": "v",
         "showlegend": true,
         "type": "box",
         "x": {
          "bdata": "5wfnB+cH5wfnB+cH5wfnB+cH5wfnB+cH5wfnB+cH5wc=",
          "dtype": "i2"
         },
         "x0": " ",
         "xaxis": "x",
         "y": {
          "bdata": "AAAAAAAACEAAAAAAAAAIQAAAAAAAAAxAAAAAAAAADkAAAAAAAAAIQAAAAAAAAAxAmpmZmZmZCUDNzMzMzMwGQM3MzMzMzAZAAAAAAAAADEAAAAAAAAAMQPYoXI/C9QZAAAAAAAAADEAAAAAAAAAKQAAAAAAAABBAzczMzMzMEEA=",
          "dtype": "f8"
         },
         "y0": " ",
         "yaxis": "y"
        },
        {
         "alignmentgroup": "True",
         "hovertemplate": "country_name=Israel<br>year=%{x}<br>betting_score=%{y}<extra></extra>",
         "legendgroup": "Israel",
         "marker": {
          "color": "#FF6692"
         },
         "name": "Israel",
         "notched": false,
         "offsetgroup": "Israel",
         "orientation": "v",
         "showlegend": true,
         "type": "box",
         "x": {
          "bdata": "5wfnB+cH5wfnB+cH5wfnB+cH5wfnB+cH5wfnB+cH5wc=",
          "dtype": "i2"
         },
         "x0": " ",
         "xaxis": "x",
         "y": {
          "bdata": "AAAAAAAAKkAAAAAAAAA1QAAAAAAAACZAAAAAAAAAJkAAAAAAAAAyQAAAAAAAAChAAAAAAAAAMEAAAAAAAAAiQAAAAAAAACJAAAAAAAAAKEAAAAAAAAAqQAAAAAAAACBAAAAAAAAAKkAAAAAAAAAmQAAAAAAAADVAAAAAAAAANkA=",
          "dtype": "f8"
         },
         "y0": " ",
         "yaxis": "y"
        }
       ],
       "layout": {
        "boxmode": "group",
        "legend": {
         "title": {
          "text": "country_name"
         },
         "tracegroupgap": 0
        },
        "template": {
         "data": {
          "bar": [
           {
            "error_x": {
             "color": "#2a3f5f"
            },
            "error_y": {
             "color": "#2a3f5f"
            },
            "marker": {
             "line": {
              "color": "#E5ECF6",
              "width": 0.5
             },
             "pattern": {
              "fillmode": "overlay",
              "size": 10,
              "solidity": 0.2
             }
            },
            "type": "bar"
           }
          ],
          "barpolar": [
           {
            "marker": {
             "line": {
              "color": "#E5ECF6",
              "width": 0.5
             },
             "pattern": {
              "fillmode": "overlay",
              "size": 10,
              "solidity": 0.2
             }
            },
            "type": "barpolar"
           }
          ],
          "carpet": [
           {
            "aaxis": {
             "endlinecolor": "#2a3f5f",
             "gridcolor": "white",
             "linecolor": "white",
             "minorgridcolor": "white",
             "startlinecolor": "#2a3f5f"
            },
            "baxis": {
             "endlinecolor": "#2a3f5f",
             "gridcolor": "white",
             "linecolor": "white",
             "minorgridcolor": "white",
             "startlinecolor": "#2a3f5f"
            },
            "type": "carpet"
           }
          ],
          "choropleth": [
           {
            "colorbar": {
             "outlinewidth": 0,
             "ticks": ""
            },
            "type": "choropleth"
           }
          ],
          "contour": [
           {
            "colorbar": {
             "outlinewidth": 0,
             "ticks": ""
            },
            "colorscale": [
             [
              0,
              "#0d0887"
             ],
             [
              0.1111111111111111,
              "#46039f"
             ],
             [
              0.2222222222222222,
              "#7201a8"
             ],
             [
              0.3333333333333333,
              "#9c179e"
             ],
             [
              0.4444444444444444,
              "#bd3786"
             ],
             [
              0.5555555555555556,
              "#d8576b"
             ],
             [
              0.6666666666666666,
              "#ed7953"
             ],
             [
              0.7777777777777778,
              "#fb9f3a"
             ],
             [
              0.8888888888888888,
              "#fdca26"
             ],
             [
              1,
              "#f0f921"
             ]
            ],
            "type": "contour"
           }
          ],
          "contourcarpet": [
           {
            "colorbar": {
             "outlinewidth": 0,
             "ticks": ""
            },
            "type": "contourcarpet"
           }
          ],
          "heatmap": [
           {
            "colorbar": {
             "outlinewidth": 0,
             "ticks": ""
            },
            "colorscale": [
             [
              0,
              "#0d0887"
             ],
             [
              0.1111111111111111,
              "#46039f"
             ],
             [
              0.2222222222222222,
              "#7201a8"
             ],
             [
              0.3333333333333333,
              "#9c179e"
             ],
             [
              0.4444444444444444,
              "#bd3786"
             ],
             [
              0.5555555555555556,
              "#d8576b"
             ],
             [
              0.6666666666666666,
              "#ed7953"
             ],
             [
              0.7777777777777778,
              "#fb9f3a"
             ],
             [
              0.8888888888888888,
              "#fdca26"
             ],
             [
              1,
              "#f0f921"
             ]
            ],
            "type": "heatmap"
           }
          ],
          "histogram": [
           {
            "marker": {
             "pattern": {
              "fillmode": "overlay",
              "size": 10,
              "solidity": 0.2
             }
            },
            "type": "histogram"
           }
          ],
          "histogram2d": [
           {
            "colorbar": {
             "outlinewidth": 0,
             "ticks": ""
            },
            "colorscale": [
             [
              0,
              "#0d0887"
             ],
             [
              0.1111111111111111,
              "#46039f"
             ],
             [
              0.2222222222222222,
              "#7201a8"
             ],
             [
              0.3333333333333333,
              "#9c179e"
             ],
             [
              0.4444444444444444,
              "#bd3786"
             ],
             [
              0.5555555555555556,
              "#d8576b"
             ],
             [
              0.6666666666666666,
              "#ed7953"
             ],
             [
              0.7777777777777778,
              "#fb9f3a"
             ],
             [
              0.8888888888888888,
              "#fdca26"
             ],
             [
              1,
              "#f0f921"
             ]
            ],
            "type": "histogram2d"
           }
          ],
          "histogram2dcontour": [
           {
            "colorbar": {
             "outlinewidth": 0,
             "ticks": ""
            },
            "colorscale": [
             [
              0,
              "#0d0887"
             ],
             [
              0.1111111111111111,
              "#46039f"
             ],
             [
              0.2222222222222222,
              "#7201a8"
             ],
             [
              0.3333333333333333,
              "#9c179e"
             ],
             [
              0.4444444444444444,
              "#bd3786"
             ],
             [
              0.5555555555555556,
              "#d8576b"
             ],
             [
              0.6666666666666666,
              "#ed7953"
             ],
             [
              0.7777777777777778,
              "#fb9f3a"
             ],
             [
              0.8888888888888888,
              "#fdca26"
             ],
             [
              1,
              "#f0f921"
             ]
            ],
            "type": "histogram2dcontour"
           }
          ],
          "mesh3d": [
           {
            "colorbar": {
             "outlinewidth": 0,
             "ticks": ""
            },
            "type": "mesh3d"
           }
          ],
          "parcoords": [
           {
            "line": {
             "colorbar": {
              "outlinewidth": 0,
              "ticks": ""
             }
            },
            "type": "parcoords"
           }
          ],
          "pie": [
           {
            "automargin": true,
            "type": "pie"
           }
          ],
          "scatter": [
           {
            "fillpattern": {
             "fillmode": "overlay",
             "size": 10,
             "solidity": 0.2
            },
            "type": "scatter"
           }
          ],
          "scatter3d": [
           {
            "line": {
             "colorbar": {
              "outlinewidth": 0,
              "ticks": ""
             }
            },
            "marker": {
             "colorbar": {
              "outlinewidth": 0,
              "ticks": ""
             }
            },
            "type": "scatter3d"
           }
          ],
          "scattercarpet": [
           {
            "marker": {
             "colorbar": {
              "outlinewidth": 0,
              "ticks": ""
             }
            },
            "type": "scattercarpet"
           }
          ],
          "scattergeo": [
           {
            "marker": {
             "colorbar": {
              "outlinewidth": 0,
              "ticks": ""
             }
            },
            "type": "scattergeo"
           }
          ],
          "scattergl": [
           {
            "marker": {
             "colorbar": {
              "outlinewidth": 0,
              "ticks": ""
             }
            },
            "type": "scattergl"
           }
          ],
          "scattermap": [
           {
            "marker": {
             "colorbar": {
              "outlinewidth": 0,
              "ticks": ""
             }
            },
            "type": "scattermap"
           }
          ],
          "scattermapbox": [
           {
            "marker": {
             "colorbar": {
              "outlinewidth": 0,
              "ticks": ""
             }
            },
            "type": "scattermapbox"
           }
          ],
          "scatterpolar": [
           {
            "marker": {
             "colorbar": {
              "outlinewidth": 0,
              "ticks": ""
             }
            },
            "type": "scatterpolar"
           }
          ],
          "scatterpolargl": [
           {
            "marker": {
             "colorbar": {
              "outlinewidth": 0,
              "ticks": ""
             }
            },
            "type": "scatterpolargl"
           }
          ],
          "scatterternary": [
           {
            "marker": {
             "colorbar": {
              "outlinewidth": 0,
              "ticks": ""
             }
            },
            "type": "scatterternary"
           }
          ],
          "surface": [
           {
            "colorbar": {
             "outlinewidth": 0,
             "ticks": ""
            },
            "colorscale": [
             [
              0,
              "#0d0887"
             ],
             [
              0.1111111111111111,
              "#46039f"
             ],
             [
              0.2222222222222222,
              "#7201a8"
             ],
             [
              0.3333333333333333,
              "#9c179e"
             ],
             [
              0.4444444444444444,
              "#bd3786"
             ],
             [
              0.5555555555555556,
              "#d8576b"
             ],
             [
              0.6666666666666666,
              "#ed7953"
             ],
             [
              0.7777777777777778,
              "#fb9f3a"
             ],
             [
              0.8888888888888888,
              "#fdca26"
             ],
             [
              1,
              "#f0f921"
             ]
            ],
            "type": "surface"
           }
          ],
          "table": [
           {
            "cells": {
             "fill": {
              "color": "#EBF0F8"
             },
             "line": {
              "color": "white"
             }
            },
            "header": {
             "fill": {
              "color": "#C8D4E3"
             },
             "line": {
              "color": "white"
             }
            },
            "type": "table"
           }
          ]
         },
         "layout": {
          "annotationdefaults": {
           "arrowcolor": "#2a3f5f",
           "arrowhead": 0,
           "arrowwidth": 1
          },
          "autotypenumbers": "strict",
          "coloraxis": {
           "colorbar": {
            "outlinewidth": 0,
            "ticks": ""
           }
          },
          "colorscale": {
           "diverging": [
            [
             0,
             "#8e0152"
            ],
            [
             0.1,
             "#c51b7d"
            ],
            [
             0.2,
             "#de77ae"
            ],
            [
             0.3,
             "#f1b6da"
            ],
            [
             0.4,
             "#fde0ef"
            ],
            [
             0.5,
             "#f7f7f7"
            ],
            [
             0.6,
             "#e6f5d0"
            ],
            [
             0.7,
             "#b8e186"
            ],
            [
             0.8,
             "#7fbc41"
            ],
            [
             0.9,
             "#4d9221"
            ],
            [
             1,
             "#276419"
            ]
           ],
           "sequential": [
            [
             0,
             "#0d0887"
            ],
            [
             0.1111111111111111,
             "#46039f"
            ],
            [
             0.2222222222222222,
             "#7201a8"
            ],
            [
             0.3333333333333333,
             "#9c179e"
            ],
            [
             0.4444444444444444,
             "#bd3786"
            ],
            [
             0.5555555555555556,
             "#d8576b"
            ],
            [
             0.6666666666666666,
             "#ed7953"
            ],
            [
             0.7777777777777778,
             "#fb9f3a"
            ],
            [
             0.8888888888888888,
             "#fdca26"
            ],
            [
             1,
             "#f0f921"
            ]
           ],
           "sequentialminus": [
            [
             0,
             "#0d0887"
            ],
            [
             0.1111111111111111,
             "#46039f"
            ],
            [
             0.2222222222222222,
             "#7201a8"
            ],
            [
             0.3333333333333333,
             "#9c179e"
            ],
            [
             0.4444444444444444,
             "#bd3786"
            ],
            [
             0.5555555555555556,
             "#d8576b"
            ],
            [
             0.6666666666666666,
             "#ed7953"
            ],
            [
             0.7777777777777778,
             "#fb9f3a"
            ],
            [
             0.8888888888888888,
             "#fdca26"
            ],
            [
             1,
             "#f0f921"
            ]
           ]
          },
          "colorway": [
           "#636efa",
           "#EF553B",
           "#00cc96",
           "#ab63fa",
           "#FFA15A",
           "#19d3f3",
           "#FF6692",
           "#B6E880",
           "#FF97FF",
           "#FECB52"
          ],
          "font": {
           "color": "#2a3f5f"
          },
          "geo": {
           "bgcolor": "white",
           "lakecolor": "white",
           "landcolor": "#E5ECF6",
           "showlakes": true,
           "showland": true,
           "subunitcolor": "white"
          },
          "hoverlabel": {
           "align": "left"
          },
          "hovermode": "closest",
          "mapbox": {
           "style": "light"
          },
          "paper_bgcolor": "white",
          "plot_bgcolor": "#E5ECF6",
          "polar": {
           "angularaxis": {
            "gridcolor": "white",
            "linecolor": "white",
            "ticks": ""
           },
           "bgcolor": "#E5ECF6",
           "radialaxis": {
            "gridcolor": "white",
            "linecolor": "white",
            "ticks": ""
           }
          },
          "scene": {
           "xaxis": {
            "backgroundcolor": "#E5ECF6",
            "gridcolor": "white",
            "gridwidth": 2,
            "linecolor": "white",
            "showbackground": true,
            "ticks": "",
            "zerolinecolor": "white"
           },
           "yaxis": {
            "backgroundcolor": "#E5ECF6",
            "gridcolor": "white",
            "gridwidth": 2,
            "linecolor": "white",
            "showbackground": true,
            "ticks": "",
            "zerolinecolor": "white"
           },
           "zaxis": {
            "backgroundcolor": "#E5ECF6",
            "gridcolor": "white",
            "gridwidth": 2,
            "linecolor": "white",
            "showbackground": true,
            "ticks": "",
            "zerolinecolor": "white"
           }
          },
          "shapedefaults": {
           "line": {
            "color": "#2a3f5f"
           }
          },
          "ternary": {
           "aaxis": {
            "gridcolor": "white",
            "linecolor": "white",
            "ticks": ""
           },
           "baxis": {
            "gridcolor": "white",
            "linecolor": "white",
            "ticks": ""
           },
           "bgcolor": "#E5ECF6",
           "caxis": {
            "gridcolor": "white",
            "linecolor": "white",
            "ticks": ""
           }
          },
          "title": {
           "x": 0.05
          },
          "xaxis": {
           "automargin": true,
           "gridcolor": "white",
           "linecolor": "white",
           "ticks": "",
           "title": {
            "standoff": 15
           },
           "zerolinecolor": "white",
           "zerolinewidth": 2
          },
          "yaxis": {
           "automargin": true,
           "gridcolor": "white",
           "linecolor": "white",
           "ticks": "",
           "title": {
            "standoff": 15
           },
           "zerolinecolor": "white",
           "zerolinewidth": 2
          }
         }
        },
        "title": {
         "text": "Box plots of betting_scores for top 3 countries"
        },
        "xaxis": {
         "anchor": "y",
         "domain": [
          0,
          1
         ],
         "title": {
          "text": "year"
         }
        },
        "yaxis": {
         "anchor": "x",
         "domain": [
          0,
          1
         ],
         "title": {
          "text": "betting_score"
         }
        }
       }
      }
     },
     "metadata": {},
     "output_type": "display_data"
    }
   ],
   "source": [
    "fig = px.box(df_prep_betting_on_contestants_top3, x=\"year\", y=\"betting_score\", color = 'country_name', title='Box plots of betting_scores for top 3 countries')\n",
    "fig.show()"
   ]
  },
  {
   "cell_type": "markdown",
   "metadata": {},
   "source": []
  },
  {
   "cell_type": "code",
   "execution_count": 92,
   "metadata": {},
   "outputs": [
    {
     "data": {
      "application/vnd.plotly.v1+json": {
       "config": {
        "plotlyServerURL": "https://plot.ly"
       },
       "data": [
        {
         "hovertemplate": "betting_name=BET365<br>year=%{x}<br>betting_score=%{y}<extra></extra>",
         "legendgroup": "BET365",
         "marker": {
          "color": "#636efa",
          "pattern": {
           "shape": ""
          }
         },
         "name": "BET365",
         "orientation": "v",
         "showlegend": true,
         "textposition": "auto",
         "type": "bar",
         "x": {
          "bdata": "3wffB98H4AfgB+AH4QfhB+EH4QfhB+EH4gfiB+IH4gfjB+MH4wfjB+MH5QflB+UH5QfmB+YH5gfmB+cH5wfnBw==",
          "dtype": "i2"
         },
         "xaxis": "x",
         "y": {
          "bdata": "zczMzMzMAEAAAAAAAAAOQAAAAAAAABRAZmZmZmZm/j8AAAAAAAAGQAAAAAAAACRA9ihcj8L1AkD2KFyPwvUEQAAAAAAAwFBAUrgehetR8D+PwvUoXI/yPylcj8L1KPA/AAAAAAAAAEAAAAAAANByQClcj8L1KPA/SOF6FK5H9T8AAAAAAAD4PwAAAAAAABRAAAAAAACAREAAAAAAAADwPwAAAAAAAPA/AAAAAAAACkAAAAAAAAAKQAAAAAAAADFAKVyPwvUo8D8AAAAAAAD0PwAAAAAAACRAAAAAAAAAKkApXI/C9SjwPwrXo3A9Cvc/AAAAAAAACEAAAAAAAAAqQA==",
          "dtype": "f8"
         },
         "yaxis": "y"
        },
        {
         "hovertemplate": "betting_name=UNIBET<br>year=%{x}<br>betting_score=%{y}<extra></extra>",
         "legendgroup": "UNIBET",
         "marker": {
          "color": "#EF553B",
          "pattern": {
           "shape": ""
          }
         },
         "name": "UNIBET",
         "orientation": "v",
         "showlegend": true,
         "textposition": "auto",
         "type": "bar",
         "x": {
          "bdata": "3wffB98H4AfgB+AH4AfgB+AH4QfhB+EH4QfhB+EH4gfiB+IH4gfjB+MH4wfjB+MH5QflB+UH5QfmB+YH5gfmB+cH5wfnBw==",
          "dtype": "i2"
         },
         "xaxis": "x",
         "y": {
          "bdata": "AAAAAAAAAEAAAAAAAAASQAAAAAAAABhAAAAAAAAA/D8zMzMzMzMHQAAAAAAAAC5AKVyPwvUo8D8pXI/C9SjwPylcj8L1KPA/AAAAAAAABkBI4XoUrkcHQAAAAAAAgERApHA9Ctej8D8K16NwPQrzPylcj8L1KPA/AAAAAAAAAkAAAAAAAMBRQAAAAAAAAPA/mpmZmZmZ9T/NzMzMzMz4PwAAAAAAACBAAAAAAACASUAAAAAAAADwPylcj8L1KPA/AAAAAAAACkAAAAAAAAAKQAAAAAAAADJAKVyPwvUo8D+F61G4HoXzPwAAAAAAACpAAAAAAAAALkAAAAAAAAD4f2ZmZmZmZvo/AAAAAAAACEAAAAAAAAA1QA==",
          "dtype": "f8"
         },
         "yaxis": "y"
        },
        {
         "hovertemplate": "betting_name=YOUWIN<br>year=%{x}<br>betting_score=%{y}<extra></extra>",
         "legendgroup": "YOUWIN",
         "marker": {
          "color": "#00cc96",
          "pattern": {
           "shape": ""
          }
         },
         "name": "YOUWIN",
         "orientation": "v",
         "showlegend": true,
         "textposition": "auto",
         "type": "bar",
         "x": {
          "bdata": "3wffB98H3wffBw==",
          "dtype": "i2"
         },
         "xaxis": "x",
         "y": {
          "bdata": "CtejcD0KA0AAAAAAAAAQQAAAAAAAABRAKVyPwvUo8D8AAAAAAADwPw==",
          "dtype": "f8"
         },
         "yaxis": "y"
        },
        {
         "hovertemplate": "betting_name=BOYLESPORTS<br>year=%{x}<br>betting_score=%{y}<extra></extra>",
         "legendgroup": "BOYLESPORTS",
         "marker": {
          "color": "#ab63fa",
          "pattern": {
           "shape": ""
          }
         },
         "name": "BOYLESPORTS",
         "orientation": "v",
         "showlegend": true,
         "textposition": "auto",
         "type": "bar",
         "x": {
          "bdata": "3wffB98H3wffB+AH4AfgB+AH4AfgB+EH4QfhB+EH4QfhB+IH4gfiB+IH4wfjB+MH4wfjB+UH5QflB+UH5gfmB+YH5gfnB+cH5wc=",
          "dtype": "i2"
         },
         "xaxis": "x",
         "y": {
          "bdata": "AAAAAAAAAkAAAAAAAAAOQAAAAAAAABRAKVyPwvUo8D8pXI/C9SjwP2ZmZmZmZvY/AAAAAAAAEkAAAAAAAAAzQClcj8L1KPA/KVyPwvUo8D9SuB6F61HwP2ZmZmZmZgZAzczMzMzMCEAAAAAAAABBQFK4HoXrUfA/MzMzMzMz8z8pXI/C9SjwP5qZmZmZmQFAAAAAAABgb0ApXI/C9SjwP2ZmZmZmZvY/AAAAAAAA+D8AAAAAAAAYQAAAAAAAAEFAKVyPwvUo8D8pXI/C9SjwPwAAAAAAAApAAAAAAAAADEAAAAAAAAAuQAAAAAAAAPA/AAAAAAAA9D8AAAAAAAAkQAAAAAAAACZAKVyPwvUo8D8AAAAAAAD4PwAAAAAAAAxAAAAAAAAAJkA=",
          "dtype": "f8"
         },
         "yaxis": "y"
        },
        {
         "hovertemplate": "betting_name=CORAL<br>year=%{x}<br>betting_score=%{y}<extra></extra>",
         "legendgroup": "CORAL",
         "marker": {
          "color": "#FFA15A",
          "pattern": {
           "shape": ""
          }
         },
         "name": "CORAL",
         "orientation": "v",
         "showlegend": true,
         "textposition": "auto",
         "type": "bar",
         "x": {
          "bdata": "3wffB98H3wffB+AH4AfgB+AH4AfgB+EH4QfhB+IH4gfjB+MH4wc=",
          "dtype": "i2"
         },
         "xaxis": "x",
         "y": {
          "bdata": "zczMzMzMAEAAAAAAAAASQAAAAAAAABZAKVyPwvUo8D8pXI/C9SjwPx+F61G4Hvk/AAAAAAAAEkAAAAAAAAAqQAAAAAAAAPA/KVyPwvUo8D8pXI/C9SjwPwAAAAAAAARAAAAAAAAABkAAAAAAAIBEQJqZmZmZmQFAAAAAAADgYkAfhetRuB75PwAAAAAAABhAAAAAAACASUA=",
          "dtype": "f8"
         },
         "yaxis": "y"
        },
        {
         "hovertemplate": "betting_name=SKYBET<br>year=%{x}<br>betting_score=%{y}<extra></extra>",
         "legendgroup": "SKYBET",
         "marker": {
          "color": "#19d3f3",
          "pattern": {
           "shape": ""
          }
         },
         "name": "SKYBET",
         "orientation": "v",
         "showlegend": true,
         "textposition": "auto",
         "type": "bar",
         "x": {
          "bdata": "3wffB98H3wffB+AH4AfgB+AH4AfgB+EH4QfhB+EH4QfhB+IH4gfiB+IH4wfjB+MH4wfjB+UH5QflB+UH5gfmB+YH5wfmB+cH5wc=",
          "dtype": "i2"
         },
         "xaxis": "x",
         "y": {
          "bdata": "zczMzMzMAEAAAAAAAAAOQAAAAAAAABZAAAAAAAAA8D8AAAAAAADwPwrXo3A9Cvc/AAAAAAAAFEAAAAAAAAAkQClcj8L1KPA/UrgehetR8D/NzMzMzMzwPwrXo3A9CgVACtejcD0KBUAAAAAAAIBJQFK4HoXrUfA/uB6F61G48j8AAAAAAADwP5qZmZmZmQFAAAAAAACAX0ApXI/C9SjwP2ZmZmZmZvY/H4XrUbge+T8AAAAAAAAcQAAAAAAAgERAAAAAAAAA8D8pXI/C9SjwPwAAAAAAAAxAAAAAAAAAEEAAAAAAAAAxQAAAAAAAAPA/pHA9Ctej9D8AAAAAAAAmQAAAAAAAAChA7FG4HoXr+T8AAAAAAAD4fwAAAAAAAAxAAAAAAAAAKEA=",
          "dtype": "f8"
         },
         "yaxis": "y"
        },
        {
         "hovertemplate": "betting_name=BETVICTOR<br>year=%{x}<br>betting_score=%{y}<extra></extra>",
         "legendgroup": "BETVICTOR",
         "marker": {
          "color": "#FF6692",
          "pattern": {
           "shape": ""
          }
         },
         "name": "BETVICTOR",
         "orientation": "v",
         "showlegend": true,
         "textposition": "auto",
         "type": "bar",
         "x": {
          "bdata": "3wffB98H3wfgB+AH4AfgB+AH4Ac=",
          "dtype": "i2"
         },
         "xaxis": "x",
         "y": {
          "bdata": "zczMzMzMAEAAAAAAAAAQQAAAAAAAABhAAAAAAAAA8D/D9Shcj8L1PwAAAAAAABRAAAAAAAAAM0AAAAAAAADwPwAAAAAAAPA/AAAAAAAA8D8=",
          "dtype": "f8"
         },
         "yaxis": "y"
        },
        {
         "hovertemplate": "betting_name=TITANBET<br>year=%{x}<br>betting_score=%{y}<extra></extra>",
         "legendgroup": "TITANBET",
         "marker": {
          "color": "#B6E880",
          "pattern": {
           "shape": ""
          }
         },
         "name": "TITANBET",
         "orientation": "v",
         "showlegend": true,
         "textposition": "auto",
         "type": "bar",
         "x": {
          "bdata": "3wffB98H3wffB+AH4AfgBw==",
          "dtype": "i2"
         },
         "xaxis": "x",
         "y": {
          "bdata": "zczMzMzMAEAAAAAAAAAQQAAAAAAAABZAKVyPwvUo8D8pXI/C9SjwPwAAAAAAAPg/AAAAAAAAEkAAAAAAAAAqQA==",
          "dtype": "f8"
         },
         "yaxis": "y"
        },
        {
         "hovertemplate": "betting_name=PAF<br>year=%{x}<br>betting_score=%{y}<extra></extra>",
         "legendgroup": "PAF",
         "marker": {
          "color": "#FF97FF",
          "pattern": {
           "shape": ""
          }
         },
         "name": "PAF",
         "orientation": "v",
         "showlegend": true,
         "textposition": "auto",
         "type": "bar",
         "x": {
          "bdata": "3wffB98H4AfgB+AH",
          "dtype": "i2"
         },
         "xaxis": "x",
         "y": {
          "bdata": "AAAAAAAAAkAAAAAAAAAMQAAAAAAAABRAAAAAAAAA/D8zMzMzMzMHQAAAAAAAAC5A",
          "dtype": "f8"
         },
         "yaxis": "y"
        },
        {
         "hovertemplate": "betting_name=BETFAIRSPORT<br>year=%{x}<br>betting_score=%{y}<extra></extra>",
         "legendgroup": "BETFAIRSPORT",
         "marker": {
          "color": "#FECB52",
          "pattern": {
           "shape": ""
          }
         },
         "name": "BETFAIRSPORT",
         "orientation": "v",
         "showlegend": true,
         "textposition": "auto",
         "type": "bar",
         "x": {
          "bdata": "3wffB98H3wffB+AH4AfgB+AH4AfgB+EH4QfhB+EH4QfhB+IH4gfiB+IH4wfjB+MH4wfjB+UH5QflB+YH5gfmB+YH5wfnB+cH",
          "dtype": "i2"
         },
         "xaxis": "x",
         "y": {
          "bdata": "zczMzMzMAEAAAAAAAAAQQAAAAAAAABhAAAAAAAAA8D8pXI/C9SjwP2ZmZmZmZvY/AAAAAAAAGEAAAAAAAAAxQAAAAAAAAPA/AAAAAAAA8D8AAAAAAADwPwAAAAAAAAZA9ihcj8L1BkAAAAAAAAA6QClcj8L1KPA/j8L1KFyP8j8pXI/C9SjwPwAAAAAAAAJAAAAAAABAWUApXI/C9SjwP8P1KFyPwvU/CtejcD0K9z8AAAAAAAAgQAAAAAAAADlAAAAAAAAA8D8AAAAAAADwPwAAAAAAAAhAAAAAAAAADEAAAAAAAAAwQAAAAAAAAPQ/AAAAAAAALEAAAAAAAAAkQClcj8L1KPA/H4XrUbge+T8AAAAAAAAOQAAAAAAAACZA",
          "dtype": "f8"
         },
         "yaxis": "y"
        },
        {
         "hovertemplate": "betting_name=SPORTINGBET<br>year=%{x}<br>betting_score=%{y}<extra></extra>",
         "legendgroup": "SPORTINGBET",
         "marker": {
          "color": "#636efa",
          "pattern": {
           "shape": ""
          }
         },
         "name": "SPORTINGBET",
         "orientation": "v",
         "showlegend": true,
         "textposition": "auto",
         "type": "bar",
         "x": {
          "bdata": "3wffB98H3wffB+AH4AfgB+EH4QfhB+EH4QfhBw==",
          "dtype": "i2"
         },
         "xaxis": "x",
         "y": {
          "bdata": "AAAAAAAAAEAAAAAAAAAQQAAAAAAAABRAKVyPwvUo8D8pXI/C9SjwP83MzMzMzPQ/AAAAAAAAGEAAAAAAAAA6QJqZmZmZmQFAMzMzMzMzA0AAAAAAAIBJQHsUrkfhevA/MzMzMzMz8z8pXI/C9SjwPw==",
          "dtype": "f8"
         },
         "yaxis": "y"
        },
        {
         "hovertemplate": "betting_name=INTERTOPS<br>year=%{x}<br>betting_score=%{y}<extra></extra>",
         "legendgroup": "INTERTOPS",
         "marker": {
          "color": "#EF553B",
          "pattern": {
           "shape": ""
          }
         },
         "name": "INTERTOPS",
         "orientation": "v",
         "showlegend": true,
         "textposition": "auto",
         "type": "bar",
         "x": {
          "bdata": "3wffB98H4AfgB+AH",
          "dtype": "i2"
         },
         "xaxis": "x",
         "y": {
          "bdata": "AAAAAAAAAkAAAAAAAAAQQAAAAAAAABFAAAAAAAAA/D/NzMzMzMwGQAAAAAAAACRA",
          "dtype": "f8"
         },
         "yaxis": "y"
        },
        {
         "hovertemplate": "betting_name=PADDYPOWER<br>year=%{x}<br>betting_score=%{y}<extra></extra>",
         "legendgroup": "PADDYPOWER",
         "marker": {
          "color": "#00cc96",
          "pattern": {
           "shape": ""
          }
         },
         "name": "PADDYPOWER",
         "orientation": "v",
         "showlegend": true,
         "textposition": "auto",
         "type": "bar",
         "x": {
          "bdata": "3wffB98H3wffB+AH4AfgB+AH4AfgB+EH4QfhB+EH4QfhBw==",
          "dtype": "i2"
         },
         "xaxis": "x",
         "y": {
          "bdata": "AAAAAAAAAEAAAAAAAAAQQAAAAAAAABZAKVyPwvUo8D8AAAAAAADwP8P1KFyPwvU/AAAAAAAAFkAAAAAAAAAxQAAAAAAAAPA/KVyPwvUo8D9SuB6F61HwPwAAAAAAAAZA9ihcj8L1BkAAAAAAAAA6QClcj8L1KPA/j8L1KFyP8j8pXI/C9SjwPw==",
          "dtype": "f8"
         },
         "yaxis": "y"
        },
        {
         "hovertemplate": "betting_name=BETFRED<br>year=%{x}<br>betting_score=%{y}<extra></extra>",
         "legendgroup": "BETFRED",
         "marker": {
          "color": "#ab63fa",
          "pattern": {
           "shape": ""
          }
         },
         "name": "BETFRED",
         "orientation": "v",
         "showlegend": true,
         "textposition": "auto",
         "type": "bar",
         "x": {
          "bdata": "3wffB98H3wffB+AH4AfgB+AH4AfgB+EH4QfhB+EH4QfhB+IH4gfiB+IH4wfjB+MH4wfjB+UH5QflB+UH5gfmB+YH5gfnB+cH5wc=",
          "dtype": "i2"
         },
         "xaxis": "x",
         "y": {
          "bdata": "AAAAAAAAAEAAAAAAAAASQAAAAAAAABpAKVyPwvUo8D8AAAAAAADwPwAAAAAAAABACtejcD0KB0AAAAAAAAAuQClcj8L1KPA/KVyPwvUo8D8pXI/C9SjwPwAAAAAAAAZAAAAAAAAACEAAAAAAAAA1QFK4HoXrUfA/MzMzMzMz8z8AAAAAAADwPwrXo3A9CgNAAAAAAABAWUBSuB6F61HwP2ZmZmZmZvY/H4XrUbge+T8AAAAAAAAiQAAAAAAAgElAAAAAAAAA+H8pXI/C9SjwPwAAAAAAAAxAAAAAAAAAEEAAAAAAAAAxQClcj8L1KPA/AAAAAAAA9D8AAAAAAAAuQAAAAAAAACpAAAAAAAAA8D/sUbgehev5PwAAAAAAAApAAAAAAAAAJkA=",
          "dtype": "f8"
         },
         "yaxis": "y"
        },
        {
         "hovertemplate": "betting_name=BETWAY<br>year=%{x}<br>betting_score=%{y}<extra></extra>",
         "legendgroup": "BETWAY",
         "marker": {
          "color": "#FFA15A",
          "pattern": {
           "shape": ""
          }
         },
         "name": "BETWAY",
         "orientation": "v",
         "showlegend": true,
         "textposition": "auto",
         "type": "bar",
         "x": {
          "bdata": "3wffB98H4AfgB+AH4QfhB+EH4QfhB+EH4gfiB+IH4gfjB+MH4wfjB+MH5QflB+UH5QfmB+YH5gfmBw==",
          "dtype": "i2"
         },
         "xaxis": "x",
         "y": {
          "bdata": "zczMzMzMAEAAAAAAAAAQQAAAAAAAABJAzczMzMzMAED2KFyPwvUEQAAAAAAAACJAAAAAAAAABkAAAAAAAAAGQAAAAAAAgElAexSuR+F68D+4HoXrUbjyPylcj8L1KPA/AAAAAAAAAkAAAAAAAOBiQClcj8L1KPA/w/UoXI/C9T8AAAAAAAD4PwAAAAAAACBAAAAAAACASUApXI/C9SjwPylcj8L1KPA/AAAAAAAADEAAAAAAAAAMQAAAAAAAACpAAAAAAAAA+H+kcD0K16P0PwAAAAAAAC5AAAAAAAAAHEApXI/C9SjwPw==",
          "dtype": "f8"
         },
         "yaxis": "y"
        },
        {
         "hovertemplate": "betting_name=STANJAMES<br>year=%{x}<br>betting_score=%{y}<extra></extra>",
         "legendgroup": "STANJAMES",
         "marker": {
          "color": "#19d3f3",
          "pattern": {
           "shape": ""
          }
         },
         "name": "STANJAMES",
         "orientation": "v",
         "showlegend": true,
         "textposition": "auto",
         "type": "bar",
         "x": {
          "bdata": "3wffB98H4AfgB+AH",
          "dtype": "i2"
         },
         "xaxis": "x",
         "y": {
          "bdata": "AAAAAAAAAkAAAAAAAAAMQAAAAAAAABJAexSuR+F6+D8AAAAAAAAWQAAAAAAAADFA",
          "dtype": "f8"
         },
         "yaxis": "y"
        },
        {
         "hovertemplate": "betting_name=BWIN<br>year=%{x}<br>betting_score=%{y}<extra></extra>",
         "legendgroup": "BWIN",
         "marker": {
          "color": "#FF6692",
          "pattern": {
           "shape": ""
          }
         },
         "name": "BWIN",
         "orientation": "v",
         "showlegend": true,
         "textposition": "auto",
         "type": "bar",
         "x": {
          "bdata": "3wffB98H4AfgB+AH4QfhB+EH4QfhB+EH4gfiB+IH4gfjB+MH4wfjB+MH5QflB+UH5QfmB+YH5gfmBw==",
          "dtype": "i2"
         },
         "xaxis": "x",
         "y": {
          "bdata": "AAAAAAAA8D8AAAAAAAATQAAAAAAAABRAAAAAAAAAAEBmZmZmZmYGQAAAAAAAAC5AAAAAAAAABkAzMzMzMzMHQAAAAAAAwFBAexSuR+F68D8zMzMzMzPzP1K4HoXrUfA/AAAAAAAAAEAAAAAAAEBZQClcj8L1KPA/zczMzMzM9D8AAAAAAAD4PwAAAAAAACBAAAAAAADAUEAAAAAAAAD4fwAAAAAAAPh/AAAAAAAACEAAAAAAAAASQAAAAAAAAChAKVyPwvUo8D/NzMzMzMz0PwAAAAAAACRAAAAAAAAALkApXI/C9SjwPw==",
          "dtype": "f8"
         },
         "yaxis": "y"
        },
        {
         "hovertemplate": "betting_name=MATCHBOOK<br>year=%{x}<br>betting_score=%{y}<extra></extra>",
         "legendgroup": "MATCHBOOK",
         "marker": {
          "color": "#B6E880",
          "pattern": {
           "shape": ""
          }
         },
         "name": "MATCHBOOK",
         "orientation": "v",
         "showlegend": true,
         "textposition": "auto",
         "type": "bar",
         "x": {
          "bdata": "3wffB98H",
          "dtype": "i2"
         },
         "xaxis": "x",
         "y": {
          "bdata": "rkfhehSuAUCkcD0K16MUQPYoXI/C9RpA",
          "dtype": "f8"
         },
         "yaxis": "y"
        },
        {
         "hovertemplate": "betting_name=BETFAIR*EXCHANGE<br>year=%{x}<br>betting_score=%{y}<extra></extra>",
         "legendgroup": "BETFAIR*EXCHANGE",
         "marker": {
          "color": "#FF97FF",
          "pattern": {
           "shape": ""
          }
         },
         "name": "BETFAIR*EXCHANGE",
         "orientation": "v",
         "showlegend": true,
         "textposition": "auto",
         "type": "bar",
         "x": {
          "bdata": "3wffB98H3wffB+AH4AfgB+AH4AfgB+EH4QfhB+EH4QfhB+IH4gfiB+IH4wfjB+MH4wfjB+UH5QflB+UH5gfmB+YH5gfnB+cH5wc=",
          "dtype": "i2"
         },
         "xaxis": "x",
         "y": {
          "bdata": "mpmZmZmZAUD2KFyPwvUTQArXo3A9ChpAKVyPwvUo8D8AAAAAAADwP1K4HoXrUQBAUrgehetRBkAAAAAAAAAzQClcj8L1KPA/KVyPwvUo8D8pXI/C9SjwP7gehetRuAZAZmZmZmZmCEAAAAAAAABZQHsUrkfhevA/CtejcD0K8z8AAAAAAADwP4/C9ShcjwJAAAAAAABAb0AAAAAAAADwP8P1KFyPwvU/j8L1KFyP+j8AAAAAAAAkQAAAAAAAAE5AAAAAAAAA+H8AAAAAAAD4f83MzMzMzAxAZmZmZmZmEEAAAAAAAAAzQAAAAAAAAPh/cT0K16Nw9T8AAAAAAAAyQAAAAAAAADlAAAAAAAAA+H+4HoXrUbj6P83MzMzMzBBAAAAAAAAANkA=",
          "dtype": "f8"
         },
         "yaxis": "y"
        },
        {
         "hovertemplate": "betting_name=MARA-THON<br>year=%{x}<br>betting_score=%{y}<extra></extra>",
         "legendgroup": "MARA-THON",
         "marker": {
          "color": "#FECB52",
          "pattern": {
           "shape": ""
          }
         },
         "name": "MARA-THON",
         "orientation": "v",
         "showlegend": true,
         "textposition": "auto",
         "type": "bar",
         "x": {
          "bdata": "4AfgB+AH4Ac=",
          "dtype": "i2"
         },
         "xaxis": "x",
         "y": {
          "bdata": "mpmZmZmZ/T+PwvUoXI8EQAAAAAAAACRAAAAAAAAA8D8=",
          "dtype": "f8"
         },
         "yaxis": "y"
        },
        {
         "hovertemplate": "betting_name=NETBET<br>year=%{x}<br>betting_score=%{y}<extra></extra>",
         "legendgroup": "NETBET",
         "marker": {
          "color": "#636efa",
          "pattern": {
           "shape": ""
          }
         },
         "name": "NETBET",
         "orientation": "v",
         "showlegend": true,
         "textposition": "auto",
         "type": "bar",
         "x": {
          "bdata": "4AfgB+AH",
          "dtype": "i2"
         },
         "xaxis": "x",
         "y": {
          "bdata": "zczMzMzM/D9mZmZmZmYGQAAAAAAAgCFA",
          "dtype": "f8"
         },
         "yaxis": "y"
        },
        {
         "hovertemplate": "betting_name=BETSSON<br>year=%{x}<br>betting_score=%{y}<extra></extra>",
         "legendgroup": "BETSSON",
         "marker": {
          "color": "#EF553B",
          "pattern": {
           "shape": ""
          }
         },
         "name": "BETSSON",
         "orientation": "v",
         "showlegend": true,
         "textposition": "auto",
         "type": "bar",
         "x": {
          "bdata": "4AfgB+AH4QfhB+EH4QfhB+EH4gfiB+IH4gfjB+MH4wfjB+MH5QflB+UH5QfmB+YH5gfmB+cH5wfnBw==",
          "dtype": "i2"
         },
         "xaxis": "x",
         "y": {
          "bdata": "mpmZmZmZ/T/NzMzMzMwGQAAAAAAAACZAMzMzMzMzA0AzMzMzMzMDQAAAAAAAAElAUrgehetR8D8zMzMzMzPzPwAAAAAAAPA/zczMzMzMAEAAAAAAAEBfQClcj8L1KPA/mpmZmZmZ9T/NzMzMzMz4PwAAAAAAABhAAAAAAACARkAAAAAAAADwPylcj8L1KPA/zczMzMzMCkDNzMzMzMwOQAAAAAAAADJAKVyPwvUo8D+F61G4HoXzPwAAAAAAACZAAAAAAAAALkApXI/C9SjwP7gehetRuPo/AAAAAAAACEAAAAAAAAAyQA==",
          "dtype": "f8"
         },
         "yaxis": "y"
        },
        {
         "hovertemplate": "betting_name=DANSKESPIL<br>year=%{x}<br>betting_score=%{y}<extra></extra>",
         "legendgroup": "DANSKESPIL",
         "marker": {
          "color": "#00cc96",
          "pattern": {
           "shape": ""
          }
         },
         "name": "DANSKESPIL",
         "orientation": "v",
         "showlegend": true,
         "textposition": "auto",
         "type": "bar",
         "x": {
          "bdata": "4QfhB+EH",
          "dtype": "i2"
         },
         "xaxis": "x",
         "y": {
          "bdata": "AAAAAAAABEAzMzMzMzMHQAAAAAAAAElA",
          "dtype": "f8"
         },
         "yaxis": "y"
        },
        {
         "hovertemplate": "betting_name=LADBROKES<br>year=%{x}<br>betting_score=%{y}<extra></extra>",
         "legendgroup": "LADBROKES",
         "marker": {
          "color": "#ab63fa",
          "pattern": {
           "shape": ""
          }
         },
         "name": "LADBROKES",
         "orientation": "v",
         "showlegend": true,
         "textposition": "auto",
         "type": "bar",
         "x": {
          "bdata": "4QfhB+EH4gfiB+MH4wfjB+MH4wflB+UH5QflB+YH5gfmB+YH5wfnB+cH",
          "dtype": "i2"
         },
         "xaxis": "x",
         "y": {
          "bdata": "AAAAAAAABEAAAAAAAAAGQAAAAAAAgERAmpmZmZmZAUAAAAAAAOBiQB+F61G4Hvk/AAAAAAAAGEAAAAAAAIBJQClcj8L1KPA/UrgehetR8D8zMzMzMzMLQAAAAAAAABBAAAAAAAAAM0ApXI/C9SjwP83MzMzMzPQ/AAAAAAAAJEAAAAAAAAAuQAAAAAAAAPA/w/UoXI/C+T/2KFyPwvUGQAAAAAAAACBA",
          "dtype": "f8"
         },
         "yaxis": "y"
        },
        {
         "hovertemplate": "betting_name=10BET<br>year=%{x}<br>betting_score=%{y}<extra></extra>",
         "legendgroup": "10BET",
         "marker": {
          "color": "#FFA15A",
          "pattern": {
           "shape": ""
          }
         },
         "name": "10BET",
         "orientation": "v",
         "showlegend": true,
         "textposition": "auto",
         "type": "bar",
         "x": {
          "bdata": "4QfhB+EH4QfhB+EH4gfiB+IH4gfjB+MH4wfjB+MH5QflB+UH5gfmB+YH5wfnB+cH",
          "dtype": "i2"
         },
         "xaxis": "x",
         "y": {
          "bdata": "AAAAAAAACEDNzMzMzMwEQAAAAAAAQFRAUrgehetR8D8AAAAAAAD0Pylcj8L1KPA/zczMzMzMAEAAAAAAAEBZQFK4HoXrUfA/w/UoXI/C9T9cj8L1KFz7PwAAAAAAADNAAAAAAAAAOkApXI/C9SjwPylcj8L1KPA/ZmZmZmZmBkAAAAAAAAASQAAAAAAAACZAzczMzMzM9D8AAAAAAAAkQAAAAAAAAChAmpmZmZmZ+T/NzMzMzMwGQAAAAAAAACJA",
          "dtype": "f8"
         },
         "yaxis": "y"
        },
        {
         "hovertemplate": "betting_name=WILLIAMHILL<br>year=%{x}<br>betting_score=%{y}<extra></extra>",
         "legendgroup": "WILLIAMHILL",
         "marker": {
          "color": "#19d3f3",
          "pattern": {
           "shape": ""
          }
         },
         "name": "WILLIAMHILL",
         "orientation": "v",
         "showlegend": true,
         "textposition": "auto",
         "type": "bar",
         "x": {
          "bdata": "4QfhB+EH4QfhB+IH4gfiB+IH4wfjB+MH4wfjB+UH5QflB+UH5gfmB+YH5gfnB+cH5wc=",
          "dtype": "i2"
         },
         "xaxis": "x",
         "y": {
          "bdata": "AAAAAAAACEAAAAAAAAAGQAAAAAAAgElAUrgehetR8D8AAAAAAAD0P5qZmZmZmQFAAAAAAADgYkApXI/C9SjwP8P1KFyPwvU/AAAAAAAADEAAAAAAAAAuQAAAAAAAACBAKVyPwvUo8D9SuB6F61HwPwAAAAAAAApAAAAAAAAACkAAAAAAAAAxQAAAAAAAAPA/SOF6FK5H9T8AAAAAAAAgQAAAAAAAACpAAAAAAAAA8D+4HoXrUbj6PwAAAAAAAAxAAAAAAAAAKkA=",
          "dtype": "f8"
         },
         "yaxis": "y"
        },
        {
         "hovertemplate": "betting_name=BETSTARS<br>year=%{x}<br>betting_score=%{y}<extra></extra>",
         "legendgroup": "BETSTARS",
         "marker": {
          "color": "#FF6692",
          "pattern": {
           "shape": ""
          }
         },
         "name": "BETSTARS",
         "orientation": "v",
         "showlegend": true,
         "textposition": "auto",
         "type": "bar",
         "x": {
          "bdata": "4QfhB+EH4QfhB+EH4gfiB+IH4gfjB+MH4wfjB+MH5QflB+UH5QfmB+YH5gfnB+cH5wc=",
          "dtype": "i2"
         },
         "xaxis": "x",
         "y": {
          "bdata": "AAAAAAAADEAK16NwPQoDQAAAAAAAgE5AexSuR+F68D9mZmZmZmbyPwAAAAAAAPA/zczMzMzMAEAAAAAAAIBfQClcj8L1KPA/ZmZmZmZm9j/NzMzMzMz4PwAAAAAAACJAAAAAAAAAOkApXI/C9SjwPylcj8L1KPA/MzMzMzMzC0AAAAAAAAAIQAAAAAAAADVAKVyPwvUo8D+amZmZmZkBQAAAAAAAAD9AAAAAAAAAMkAAAAAAAAD4PwAAAAAAAAxAAAAAAAAAKEA=",
          "dtype": "f8"
         },
         "yaxis": "y"
        },
        {
         "hovertemplate": "betting_name=COOLBET<br>year=%{x}<br>betting_score=%{y}<extra></extra>",
         "legendgroup": "COOLBET",
         "marker": {
          "color": "#B6E880",
          "pattern": {
           "shape": ""
          }
         },
         "name": "COOLBET",
         "orientation": "v",
         "showlegend": true,
         "textposition": "auto",
         "type": "bar",
         "x": {
          "bdata": "4gfiB+IH4gfjB+MH4wfjB+MH5QflB+UH5QfmB+YH5gfnB+YH5wfnBw==",
          "dtype": "i2"
         },
         "xaxis": "x",
         "y": {
          "bdata": "MzMzMzMzAUAAAAAAAMBiQClcj8L1KPA/FK5H4XoU9j8UrkfhehT6PwAAAAAAACBAAAAAAAAASUApXI/C9SjwPylcj8L1KPA/MzMzMzMzBUAzMzMzMzMRQAAAAAAAAC5AKVyPwvUo8D9xPQrXo3D1PwAAAAAAACpAAAAAAAAALkC4HoXrUbj6Pylcj8L1KPA/mpmZmZmZCUAAAAAAAAAwQA==",
          "dtype": "f8"
         },
         "yaxis": "y"
        },
        {
         "hovertemplate": "betting_name=888SPORT<br>year=%{x}<br>betting_score=%{y}<extra></extra>",
         "legendgroup": "888SPORT",
         "marker": {
          "color": "#FF97FF",
          "pattern": {
           "shape": ""
          }
         },
         "name": "888SPORT",
         "orientation": "v",
         "showlegend": true,
         "textposition": "auto",
         "type": "bar",
         "x": {
          "bdata": "4gfiB+IH4gfjB+MH4wfjB+MH5QflB+UH5QfmB+YH5gfnB+cH5wc=",
          "dtype": "i2"
         },
         "xaxis": "x",
         "y": {
          "bdata": "AAAAAAAAAkAAAAAAAMBRQClcj8L1KPA/mpmZmZmZ9T8AAAAAAAD4PwAAAAAAACBAAAAAAACASUAAAAAAAADwPylcj8L1KPA/AAAAAAAABkAAAAAAAAASQAAAAAAAACZAKVyPwvUo8D+kcD0K16P0PwAAAAAAACpAAAAAAACAIUDsUbgehev5PwAAAAAAAAxAAAAAAAAAKkA=",
          "dtype": "f8"
         },
         "yaxis": "y"
        },
        {
         "hovertemplate": "betting_name=OLYBET<br>year=%{x}<br>betting_score=%{y}<extra></extra>",
         "legendgroup": "OLYBET",
         "marker": {
          "color": "#FECB52",
          "pattern": {
           "shape": ""
          }
         },
         "name": "OLYBET",
         "orientation": "v",
         "showlegend": true,
         "textposition": "auto",
         "type": "bar",
         "x": {
          "bdata": "4wfjB+MH4wfjBw==",
          "dtype": "i2"
         },
         "xaxis": "x",
         "y": {
          "bdata": "ZmZmZmZm+j8AAAAAAAAxQAAAAAAAADNAKVyPwvUo8D8pXI/C9SjwPw==",
          "dtype": "f8"
         },
         "yaxis": "y"
        },
        {
         "hovertemplate": "betting_name=COMEON<br>year=%{x}<br>betting_score=%{y}<extra></extra>",
         "legendgroup": "COMEON",
         "marker": {
          "color": "#636efa",
          "pattern": {
           "shape": ""
          }
         },
         "name": "COMEON",
         "orientation": "v",
         "showlegend": true,
         "textposition": "auto",
         "type": "bar",
         "x": {
          "bdata": "5QflB+UH5gfmB+YH5wfnB+cH",
          "dtype": "i2"
         },
         "xaxis": "x",
         "y": {
          "bdata": "ZmZmZmZmBkAAAAAAAAARQAAAAAAAACZAzczMzMzM9D8AAAAAAAAkQAAAAAAAAChAmpmZmZmZ+T/NzMzMzMwGQAAAAAAAACJA",
          "dtype": "f8"
         },
         "yaxis": "y"
        },
        {
         "hovertemplate": "betting_name=*SMARKETS<br>year=%{x}<br>betting_score=%{y}<extra></extra>",
         "legendgroup": "*SMARKETS",
         "marker": {
          "color": "#EF553B",
          "pattern": {
           "shape": ""
          }
         },
         "name": "*SMARKETS",
         "orientation": "v",
         "showlegend": true,
         "textposition": "auto",
         "type": "bar",
         "x": {
          "bdata": "5QflB+UH5QfmB+YH5gfnB+cH5wc=",
          "dtype": "i2"
         },
         "xaxis": "x",
         "y": {
          "bdata": "ZmZmZmZmDECamZmZmZkPQAAAAAAAADNAAAAAAAAA+H9xPQrXo3D1PwAAAAAAADNAAAAAAAAANkA9CtejcD36PwAAAAAAABBAAAAAAAAANUA=",
          "dtype": "f8"
         },
         "yaxis": "y"
        },
        {
         "hovertemplate": "betting_name=1XBET<br>year=%{x}<br>betting_score=%{y}<extra></extra>",
         "legendgroup": "1XBET",
         "marker": {
          "color": "#00cc96",
          "pattern": {
           "shape": ""
          }
         },
         "name": "1XBET",
         "orientation": "v",
         "showlegend": true,
         "textposition": "auto",
         "type": "bar",
         "x": {
          "bdata": "5QflB+UH",
          "dtype": "i2"
         },
         "xaxis": "x",
         "y": {
          "bdata": "7FG4HoXrCUAAAAAAAAASQAAAAAAAADNA",
          "dtype": "f8"
         },
         "yaxis": "y"
        }
       ],
       "layout": {
        "barmode": "relative",
        "legend": {
         "title": {
          "text": "betting_name"
         },
         "tracegroupgap": 0
        },
        "template": {
         "data": {
          "bar": [
           {
            "error_x": {
             "color": "#2a3f5f"
            },
            "error_y": {
             "color": "#2a3f5f"
            },
            "marker": {
             "line": {
              "color": "#E5ECF6",
              "width": 0.5
             },
             "pattern": {
              "fillmode": "overlay",
              "size": 10,
              "solidity": 0.2
             }
            },
            "type": "bar"
           }
          ],
          "barpolar": [
           {
            "marker": {
             "line": {
              "color": "#E5ECF6",
              "width": 0.5
             },
             "pattern": {
              "fillmode": "overlay",
              "size": 10,
              "solidity": 0.2
             }
            },
            "type": "barpolar"
           }
          ],
          "carpet": [
           {
            "aaxis": {
             "endlinecolor": "#2a3f5f",
             "gridcolor": "white",
             "linecolor": "white",
             "minorgridcolor": "white",
             "startlinecolor": "#2a3f5f"
            },
            "baxis": {
             "endlinecolor": "#2a3f5f",
             "gridcolor": "white",
             "linecolor": "white",
             "minorgridcolor": "white",
             "startlinecolor": "#2a3f5f"
            },
            "type": "carpet"
           }
          ],
          "choropleth": [
           {
            "colorbar": {
             "outlinewidth": 0,
             "ticks": ""
            },
            "type": "choropleth"
           }
          ],
          "contour": [
           {
            "colorbar": {
             "outlinewidth": 0,
             "ticks": ""
            },
            "colorscale": [
             [
              0,
              "#0d0887"
             ],
             [
              0.1111111111111111,
              "#46039f"
             ],
             [
              0.2222222222222222,
              "#7201a8"
             ],
             [
              0.3333333333333333,
              "#9c179e"
             ],
             [
              0.4444444444444444,
              "#bd3786"
             ],
             [
              0.5555555555555556,
              "#d8576b"
             ],
             [
              0.6666666666666666,
              "#ed7953"
             ],
             [
              0.7777777777777778,
              "#fb9f3a"
             ],
             [
              0.8888888888888888,
              "#fdca26"
             ],
             [
              1,
              "#f0f921"
             ]
            ],
            "type": "contour"
           }
          ],
          "contourcarpet": [
           {
            "colorbar": {
             "outlinewidth": 0,
             "ticks": ""
            },
            "type": "contourcarpet"
           }
          ],
          "heatmap": [
           {
            "colorbar": {
             "outlinewidth": 0,
             "ticks": ""
            },
            "colorscale": [
             [
              0,
              "#0d0887"
             ],
             [
              0.1111111111111111,
              "#46039f"
             ],
             [
              0.2222222222222222,
              "#7201a8"
             ],
             [
              0.3333333333333333,
              "#9c179e"
             ],
             [
              0.4444444444444444,
              "#bd3786"
             ],
             [
              0.5555555555555556,
              "#d8576b"
             ],
             [
              0.6666666666666666,
              "#ed7953"
             ],
             [
              0.7777777777777778,
              "#fb9f3a"
             ],
             [
              0.8888888888888888,
              "#fdca26"
             ],
             [
              1,
              "#f0f921"
             ]
            ],
            "type": "heatmap"
           }
          ],
          "histogram": [
           {
            "marker": {
             "pattern": {
              "fillmode": "overlay",
              "size": 10,
              "solidity": 0.2
             }
            },
            "type": "histogram"
           }
          ],
          "histogram2d": [
           {
            "colorbar": {
             "outlinewidth": 0,
             "ticks": ""
            },
            "colorscale": [
             [
              0,
              "#0d0887"
             ],
             [
              0.1111111111111111,
              "#46039f"
             ],
             [
              0.2222222222222222,
              "#7201a8"
             ],
             [
              0.3333333333333333,
              "#9c179e"
             ],
             [
              0.4444444444444444,
              "#bd3786"
             ],
             [
              0.5555555555555556,
              "#d8576b"
             ],
             [
              0.6666666666666666,
              "#ed7953"
             ],
             [
              0.7777777777777778,
              "#fb9f3a"
             ],
             [
              0.8888888888888888,
              "#fdca26"
             ],
             [
              1,
              "#f0f921"
             ]
            ],
            "type": "histogram2d"
           }
          ],
          "histogram2dcontour": [
           {
            "colorbar": {
             "outlinewidth": 0,
             "ticks": ""
            },
            "colorscale": [
             [
              0,
              "#0d0887"
             ],
             [
              0.1111111111111111,
              "#46039f"
             ],
             [
              0.2222222222222222,
              "#7201a8"
             ],
             [
              0.3333333333333333,
              "#9c179e"
             ],
             [
              0.4444444444444444,
              "#bd3786"
             ],
             [
              0.5555555555555556,
              "#d8576b"
             ],
             [
              0.6666666666666666,
              "#ed7953"
             ],
             [
              0.7777777777777778,
              "#fb9f3a"
             ],
             [
              0.8888888888888888,
              "#fdca26"
             ],
             [
              1,
              "#f0f921"
             ]
            ],
            "type": "histogram2dcontour"
           }
          ],
          "mesh3d": [
           {
            "colorbar": {
             "outlinewidth": 0,
             "ticks": ""
            },
            "type": "mesh3d"
           }
          ],
          "parcoords": [
           {
            "line": {
             "colorbar": {
              "outlinewidth": 0,
              "ticks": ""
             }
            },
            "type": "parcoords"
           }
          ],
          "pie": [
           {
            "automargin": true,
            "type": "pie"
           }
          ],
          "scatter": [
           {
            "fillpattern": {
             "fillmode": "overlay",
             "size": 10,
             "solidity": 0.2
            },
            "type": "scatter"
           }
          ],
          "scatter3d": [
           {
            "line": {
             "colorbar": {
              "outlinewidth": 0,
              "ticks": ""
             }
            },
            "marker": {
             "colorbar": {
              "outlinewidth": 0,
              "ticks": ""
             }
            },
            "type": "scatter3d"
           }
          ],
          "scattercarpet": [
           {
            "marker": {
             "colorbar": {
              "outlinewidth": 0,
              "ticks": ""
             }
            },
            "type": "scattercarpet"
           }
          ],
          "scattergeo": [
           {
            "marker": {
             "colorbar": {
              "outlinewidth": 0,
              "ticks": ""
             }
            },
            "type": "scattergeo"
           }
          ],
          "scattergl": [
           {
            "marker": {
             "colorbar": {
              "outlinewidth": 0,
              "ticks": ""
             }
            },
            "type": "scattergl"
           }
          ],
          "scattermap": [
           {
            "marker": {
             "colorbar": {
              "outlinewidth": 0,
              "ticks": ""
             }
            },
            "type": "scattermap"
           }
          ],
          "scattermapbox": [
           {
            "marker": {
             "colorbar": {
              "outlinewidth": 0,
              "ticks": ""
             }
            },
            "type": "scattermapbox"
           }
          ],
          "scatterpolar": [
           {
            "marker": {
             "colorbar": {
              "outlinewidth": 0,
              "ticks": ""
             }
            },
            "type": "scatterpolar"
           }
          ],
          "scatterpolargl": [
           {
            "marker": {
             "colorbar": {
              "outlinewidth": 0,
              "ticks": ""
             }
            },
            "type": "scatterpolargl"
           }
          ],
          "scatterternary": [
           {
            "marker": {
             "colorbar": {
              "outlinewidth": 0,
              "ticks": ""
             }
            },
            "type": "scatterternary"
           }
          ],
          "surface": [
           {
            "colorbar": {
             "outlinewidth": 0,
             "ticks": ""
            },
            "colorscale": [
             [
              0,
              "#0d0887"
             ],
             [
              0.1111111111111111,
              "#46039f"
             ],
             [
              0.2222222222222222,
              "#7201a8"
             ],
             [
              0.3333333333333333,
              "#9c179e"
             ],
             [
              0.4444444444444444,
              "#bd3786"
             ],
             [
              0.5555555555555556,
              "#d8576b"
             ],
             [
              0.6666666666666666,
              "#ed7953"
             ],
             [
              0.7777777777777778,
              "#fb9f3a"
             ],
             [
              0.8888888888888888,
              "#fdca26"
             ],
             [
              1,
              "#f0f921"
             ]
            ],
            "type": "surface"
           }
          ],
          "table": [
           {
            "cells": {
             "fill": {
              "color": "#EBF0F8"
             },
             "line": {
              "color": "white"
             }
            },
            "header": {
             "fill": {
              "color": "#C8D4E3"
             },
             "line": {
              "color": "white"
             }
            },
            "type": "table"
           }
          ]
         },
         "layout": {
          "annotationdefaults": {
           "arrowcolor": "#2a3f5f",
           "arrowhead": 0,
           "arrowwidth": 1
          },
          "autotypenumbers": "strict",
          "coloraxis": {
           "colorbar": {
            "outlinewidth": 0,
            "ticks": ""
           }
          },
          "colorscale": {
           "diverging": [
            [
             0,
             "#8e0152"
            ],
            [
             0.1,
             "#c51b7d"
            ],
            [
             0.2,
             "#de77ae"
            ],
            [
             0.3,
             "#f1b6da"
            ],
            [
             0.4,
             "#fde0ef"
            ],
            [
             0.5,
             "#f7f7f7"
            ],
            [
             0.6,
             "#e6f5d0"
            ],
            [
             0.7,
             "#b8e186"
            ],
            [
             0.8,
             "#7fbc41"
            ],
            [
             0.9,
             "#4d9221"
            ],
            [
             1,
             "#276419"
            ]
           ],
           "sequential": [
            [
             0,
             "#0d0887"
            ],
            [
             0.1111111111111111,
             "#46039f"
            ],
            [
             0.2222222222222222,
             "#7201a8"
            ],
            [
             0.3333333333333333,
             "#9c179e"
            ],
            [
             0.4444444444444444,
             "#bd3786"
            ],
            [
             0.5555555555555556,
             "#d8576b"
            ],
            [
             0.6666666666666666,
             "#ed7953"
            ],
            [
             0.7777777777777778,
             "#fb9f3a"
            ],
            [
             0.8888888888888888,
             "#fdca26"
            ],
            [
             1,
             "#f0f921"
            ]
           ],
           "sequentialminus": [
            [
             0,
             "#0d0887"
            ],
            [
             0.1111111111111111,
             "#46039f"
            ],
            [
             0.2222222222222222,
             "#7201a8"
            ],
            [
             0.3333333333333333,
             "#9c179e"
            ],
            [
             0.4444444444444444,
             "#bd3786"
            ],
            [
             0.5555555555555556,
             "#d8576b"
            ],
            [
             0.6666666666666666,
             "#ed7953"
            ],
            [
             0.7777777777777778,
             "#fb9f3a"
            ],
            [
             0.8888888888888888,
             "#fdca26"
            ],
            [
             1,
             "#f0f921"
            ]
           ]
          },
          "colorway": [
           "#636efa",
           "#EF553B",
           "#00cc96",
           "#ab63fa",
           "#FFA15A",
           "#19d3f3",
           "#FF6692",
           "#B6E880",
           "#FF97FF",
           "#FECB52"
          ],
          "font": {
           "color": "#2a3f5f"
          },
          "geo": {
           "bgcolor": "white",
           "lakecolor": "white",
           "landcolor": "#E5ECF6",
           "showlakes": true,
           "showland": true,
           "subunitcolor": "white"
          },
          "hoverlabel": {
           "align": "left"
          },
          "hovermode": "closest",
          "mapbox": {
           "style": "light"
          },
          "paper_bgcolor": "white",
          "plot_bgcolor": "#E5ECF6",
          "polar": {
           "angularaxis": {
            "gridcolor": "white",
            "linecolor": "white",
            "ticks": ""
           },
           "bgcolor": "#E5ECF6",
           "radialaxis": {
            "gridcolor": "white",
            "linecolor": "white",
            "ticks": ""
           }
          },
          "scene": {
           "xaxis": {
            "backgroundcolor": "#E5ECF6",
            "gridcolor": "white",
            "gridwidth": 2,
            "linecolor": "white",
            "showbackground": true,
            "ticks": "",
            "zerolinecolor": "white"
           },
           "yaxis": {
            "backgroundcolor": "#E5ECF6",
            "gridcolor": "white",
            "gridwidth": 2,
            "linecolor": "white",
            "showbackground": true,
            "ticks": "",
            "zerolinecolor": "white"
           },
           "zaxis": {
            "backgroundcolor": "#E5ECF6",
            "gridcolor": "white",
            "gridwidth": 2,
            "linecolor": "white",
            "showbackground": true,
            "ticks": "",
            "zerolinecolor": "white"
           }
          },
          "shapedefaults": {
           "line": {
            "color": "#2a3f5f"
           }
          },
          "ternary": {
           "aaxis": {
            "gridcolor": "white",
            "linecolor": "white",
            "ticks": ""
           },
           "baxis": {
            "gridcolor": "white",
            "linecolor": "white",
            "ticks": ""
           },
           "bgcolor": "#E5ECF6",
           "caxis": {
            "gridcolor": "white",
            "linecolor": "white",
            "ticks": ""
           }
          },
          "title": {
           "x": 0.05
          },
          "xaxis": {
           "automargin": true,
           "gridcolor": "white",
           "linecolor": "white",
           "ticks": "",
           "title": {
            "standoff": 15
           },
           "zerolinecolor": "white",
           "zerolinewidth": 2
          },
          "yaxis": {
           "automargin": true,
           "gridcolor": "white",
           "linecolor": "white",
           "ticks": "",
           "title": {
            "standoff": 15
           },
           "zerolinecolor": "white",
           "zerolinewidth": 2
          }
         }
        },
        "title": {
         "text": "Bargraph of betting scores over the years for top 3 finalists"
        },
        "xaxis": {
         "anchor": "y",
         "domain": [
          0,
          1
         ],
         "title": {
          "text": "year"
         }
        },
        "yaxis": {
         "anchor": "x",
         "domain": [
          0,
          1
         ],
         "title": {
          "text": "betting_score"
         }
        }
       }
      }
     },
     "metadata": {},
     "output_type": "display_data"
    }
   ],
   "source": [
    "fig = px.bar(df_prep_betting_on_contestants_top3, x = 'year', y = 'betting_score', color = 'betting_name', title = 'Bargraph of betting scores over the years for top 3 finalists')\n",
    "fig.show()"
   ]
  },
  {
   "cell_type": "code",
   "execution_count": null,
   "metadata": {},
   "outputs": [],
   "source": []
  }
 ],
 "metadata": {
  "kernelspec": {
   "display_name": "base",
   "language": "python",
   "name": "python3"
  },
  "language_info": {
   "codemirror_mode": {
    "name": "ipython",
    "version": 3
   },
   "file_extension": ".py",
   "mimetype": "text/x-python",
   "name": "python",
   "nbconvert_exporter": "python",
   "pygments_lexer": "ipython3",
   "version": "3.12.8"
  }
 },
 "nbformat": 4,
 "nbformat_minor": 2
}
