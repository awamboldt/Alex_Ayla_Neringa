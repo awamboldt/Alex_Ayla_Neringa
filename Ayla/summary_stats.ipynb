{
 "cells": [
  {
   "cell_type": "markdown",
   "metadata": {},
   "source": [
    "# Eurovision\n",
    "*Problem Statement? Research Question?*\n"
   ]
  },
  {
   "cell_type": "markdown",
   "metadata": {},
   "source": [
    "Datasets we have:\n",
    "1. Contest Data\n",
    "2. Contestants Data\n",
    "3. Song Data \n",
    "4. Votes data\n",
    "5. Betting Offices\n",
    "\n"
   ]
  },
  {
   "cell_type": "code",
   "execution_count": 1,
   "metadata": {},
   "outputs": [],
   "source": [
    "# Import the different libraries\n",
    "import pandas as pd"
   ]
  },
  {
   "cell_type": "markdown",
   "metadata": {},
   "source": [
    "## 1. Contest Data\n"
   ]
  },
  {
   "cell_type": "code",
   "execution_count": null,
   "metadata": {},
   "outputs": [],
   "source": []
  },
  {
   "cell_type": "markdown",
   "metadata": {},
   "source": [
    "Key stats about the Contest Data\n",
    "1. Shape of df (14,7)\n",
    "2. Year column 2009 - 2023. No year missing. \n",
    "3. 14 countries. 13 unique countries & 1 country >1 count\n"
   ]
  },
  {
   "cell_type": "markdown",
   "metadata": {},
   "source": [
    "### Importing Data"
   ]
  },
  {
   "cell_type": "code",
   "execution_count": 3,
   "metadata": {},
   "outputs": [],
   "source": [
    "contest_df_raw = pd.read_csv('/Users/aylaabdullah/Desktop/bootcamp/Final project local work/Alex_Ayla_Neringa/data/contest_data.csv')"
   ]
  },
  {
   "cell_type": "markdown",
   "metadata": {},
   "source": [
    "### Basic df stats"
   ]
  },
  {
   "cell_type": "code",
   "execution_count": 15,
   "metadata": {},
   "outputs": [
    {
     "name": "stdout",
     "output_type": "stream",
     "text": [
      "<class 'pandas.core.frame.DataFrame'>\n",
      "RangeIndex: 14 entries, 0 to 13\n",
      "Data columns (total 7 columns):\n",
      " #   Column                           Non-Null Count  Dtype  \n",
      "---  ------                           --------------  -----  \n",
      " 0   year                             14 non-null     int64  \n",
      " 1   host                             14 non-null     object \n",
      " 2   date                             14 non-null     object \n",
      " 3   semi_countries                   14 non-null     int64  \n",
      " 4   final_countries                  14 non-null     int64  \n",
      " 5   jury_countries_voting_final      9 non-null      float64\n",
      " 6   televote_countries_voting_final  9 non-null      float64\n",
      "dtypes: float64(2), int64(3), object(2)\n",
      "memory usage: 916.0+ bytes\n"
     ]
    }
   ],
   "source": [
    "contest_df_raw.info()"
   ]
  },
  {
   "cell_type": "code",
   "execution_count": 17,
   "metadata": {},
   "outputs": [
    {
     "data": {
      "text/plain": [
       "(14, 7)"
      ]
     },
     "execution_count": 17,
     "metadata": {},
     "output_type": "execute_result"
    }
   ],
   "source": [
    "contest_df_raw.shape"
   ]
  },
  {
   "cell_type": "code",
   "execution_count": 32,
   "metadata": {},
   "outputs": [
    {
     "data": {
      "text/html": [
       "<div>\n",
       "<style scoped>\n",
       "    .dataframe tbody tr th:only-of-type {\n",
       "        vertical-align: middle;\n",
       "    }\n",
       "\n",
       "    .dataframe tbody tr th {\n",
       "        vertical-align: top;\n",
       "    }\n",
       "\n",
       "    .dataframe thead th {\n",
       "        text-align: right;\n",
       "    }\n",
       "</style>\n",
       "<table border=\"1\" class=\"dataframe\">\n",
       "  <thead>\n",
       "    <tr style=\"text-align: right;\">\n",
       "      <th></th>\n",
       "      <th>year</th>\n",
       "      <th>semi_countries</th>\n",
       "      <th>final_countries</th>\n",
       "      <th>jury_countries_voting_final</th>\n",
       "      <th>televote_countries_voting_final</th>\n",
       "    </tr>\n",
       "  </thead>\n",
       "  <tbody>\n",
       "    <tr>\n",
       "      <th>count</th>\n",
       "      <td>14.000000</td>\n",
       "      <td>14.000000</td>\n",
       "      <td>14.000000</td>\n",
       "      <td>9.000000</td>\n",
       "      <td>9.000000</td>\n",
       "    </tr>\n",
       "    <tr>\n",
       "      <th>mean</th>\n",
       "      <td>2015.714286</td>\n",
       "      <td>34.642857</td>\n",
       "      <td>25.785714</td>\n",
       "      <td>39.777778</td>\n",
       "      <td>39.888889</td>\n",
       "    </tr>\n",
       "    <tr>\n",
       "      <th>std</th>\n",
       "      <td>4.496641</td>\n",
       "      <td>2.205139</td>\n",
       "      <td>0.578934</td>\n",
       "      <td>2.438123</td>\n",
       "      <td>2.472066</td>\n",
       "    </tr>\n",
       "    <tr>\n",
       "      <th>min</th>\n",
       "      <td>2009.000000</td>\n",
       "      <td>31.000000</td>\n",
       "      <td>25.000000</td>\n",
       "      <td>36.000000</td>\n",
       "      <td>35.000000</td>\n",
       "    </tr>\n",
       "    <tr>\n",
       "      <th>25%</th>\n",
       "      <td>2012.250000</td>\n",
       "      <td>33.000000</td>\n",
       "      <td>25.250000</td>\n",
       "      <td>38.000000</td>\n",
       "      <td>39.000000</td>\n",
       "    </tr>\n",
       "    <tr>\n",
       "      <th>50%</th>\n",
       "      <td>2015.500000</td>\n",
       "      <td>35.000000</td>\n",
       "      <td>26.000000</td>\n",
       "      <td>40.000000</td>\n",
       "      <td>40.000000</td>\n",
       "    </tr>\n",
       "    <tr>\n",
       "      <th>75%</th>\n",
       "      <td>2018.750000</td>\n",
       "      <td>36.000000</td>\n",
       "      <td>26.000000</td>\n",
       "      <td>42.000000</td>\n",
       "      <td>42.000000</td>\n",
       "    </tr>\n",
       "    <tr>\n",
       "      <th>max</th>\n",
       "      <td>2023.000000</td>\n",
       "      <td>38.000000</td>\n",
       "      <td>27.000000</td>\n",
       "      <td>43.000000</td>\n",
       "      <td>43.000000</td>\n",
       "    </tr>\n",
       "  </tbody>\n",
       "</table>\n",
       "</div>"
      ],
      "text/plain": [
       "              year  semi_countries  final_countries  \\\n",
       "count    14.000000       14.000000        14.000000   \n",
       "mean   2015.714286       34.642857        25.785714   \n",
       "std       4.496641        2.205139         0.578934   \n",
       "min    2009.000000       31.000000        25.000000   \n",
       "25%    2012.250000       33.000000        25.250000   \n",
       "50%    2015.500000       35.000000        26.000000   \n",
       "75%    2018.750000       36.000000        26.000000   \n",
       "max    2023.000000       38.000000        27.000000   \n",
       "\n",
       "       jury_countries_voting_final  televote_countries_voting_final  \n",
       "count                     9.000000                         9.000000  \n",
       "mean                     39.777778                        39.888889  \n",
       "std                       2.438123                         2.472066  \n",
       "min                      36.000000                        35.000000  \n",
       "25%                      38.000000                        39.000000  \n",
       "50%                      40.000000                        40.000000  \n",
       "75%                      42.000000                        42.000000  \n",
       "max                      43.000000                        43.000000  "
      ]
     },
     "execution_count": 32,
     "metadata": {},
     "output_type": "execute_result"
    }
   ],
   "source": [
    "contest_df_raw.describe()"
   ]
  },
  {
   "cell_type": "code",
   "execution_count": 33,
   "metadata": {},
   "outputs": [
    {
     "data": {
      "text/html": [
       "<div>\n",
       "<style scoped>\n",
       "    .dataframe tbody tr th:only-of-type {\n",
       "        vertical-align: middle;\n",
       "    }\n",
       "\n",
       "    .dataframe tbody tr th {\n",
       "        vertical-align: top;\n",
       "    }\n",
       "\n",
       "    .dataframe thead th {\n",
       "        text-align: right;\n",
       "    }\n",
       "</style>\n",
       "<table border=\"1\" class=\"dataframe\">\n",
       "  <thead>\n",
       "    <tr style=\"text-align: right;\">\n",
       "      <th></th>\n",
       "      <th>host</th>\n",
       "      <th>date</th>\n",
       "    </tr>\n",
       "  </thead>\n",
       "  <tbody>\n",
       "    <tr>\n",
       "      <th>count</th>\n",
       "      <td>14</td>\n",
       "      <td>14</td>\n",
       "    </tr>\n",
       "    <tr>\n",
       "      <th>unique</th>\n",
       "      <td>13</td>\n",
       "      <td>14</td>\n",
       "    </tr>\n",
       "    <tr>\n",
       "      <th>top</th>\n",
       "      <td>Sweden</td>\n",
       "      <td>13/05/2023</td>\n",
       "    </tr>\n",
       "    <tr>\n",
       "      <th>freq</th>\n",
       "      <td>2</td>\n",
       "      <td>1</td>\n",
       "    </tr>\n",
       "  </tbody>\n",
       "</table>\n",
       "</div>"
      ],
      "text/plain": [
       "          host        date\n",
       "count       14          14\n",
       "unique      13          14\n",
       "top     Sweden  13/05/2023\n",
       "freq         2           1"
      ]
     },
     "execution_count": 33,
     "metadata": {},
     "output_type": "execute_result"
    }
   ],
   "source": [
    "contest_df_raw.describe(include='object')"
   ]
  },
  {
   "cell_type": "markdown",
   "metadata": {},
   "source": [
    "### Columns"
   ]
  },
  {
   "cell_type": "code",
   "execution_count": 9,
   "metadata": {},
   "outputs": [
    {
     "data": {
      "text/plain": [
       "year                                 int64\n",
       "host                                object\n",
       "date                                object\n",
       "semi_countries                       int64\n",
       "final_countries                      int64\n",
       "jury_countries_voting_final        float64\n",
       "televote_countries_voting_final    float64\n",
       "dtype: object"
      ]
     },
     "execution_count": 9,
     "metadata": {},
     "output_type": "execute_result"
    }
   ],
   "source": [
    "contest_df_raw.dtypes"
   ]
  },
  {
   "cell_type": "code",
   "execution_count": 21,
   "metadata": {},
   "outputs": [
    {
     "data": {
      "text/html": [
       "<div>\n",
       "<style scoped>\n",
       "    .dataframe tbody tr th:only-of-type {\n",
       "        vertical-align: middle;\n",
       "    }\n",
       "\n",
       "    .dataframe tbody tr th {\n",
       "        vertical-align: top;\n",
       "    }\n",
       "\n",
       "    .dataframe thead th {\n",
       "        text-align: right;\n",
       "    }\n",
       "</style>\n",
       "<table border=\"1\" class=\"dataframe\">\n",
       "  <thead>\n",
       "    <tr style=\"text-align: right;\">\n",
       "      <th></th>\n",
       "      <th>year</th>\n",
       "      <th>host</th>\n",
       "      <th>date</th>\n",
       "      <th>semi_countries</th>\n",
       "      <th>final_countries</th>\n",
       "      <th>jury_countries_voting_final</th>\n",
       "      <th>televote_countries_voting_final</th>\n",
       "    </tr>\n",
       "  </thead>\n",
       "  <tbody>\n",
       "    <tr>\n",
       "      <th>0</th>\n",
       "      <td>2023</td>\n",
       "      <td>United Kingdom</td>\n",
       "      <td>13/05/2023</td>\n",
       "      <td>31</td>\n",
       "      <td>26</td>\n",
       "      <td>37.0</td>\n",
       "      <td>38.0</td>\n",
       "    </tr>\n",
       "    <tr>\n",
       "      <th>1</th>\n",
       "      <td>2022</td>\n",
       "      <td>Italy</td>\n",
       "      <td>14/05/2022</td>\n",
       "      <td>35</td>\n",
       "      <td>25</td>\n",
       "      <td>40.0</td>\n",
       "      <td>40.0</td>\n",
       "    </tr>\n",
       "    <tr>\n",
       "      <th>2</th>\n",
       "      <td>2021</td>\n",
       "      <td>Netherlands</td>\n",
       "      <td>22/05/2021</td>\n",
       "      <td>33</td>\n",
       "      <td>26</td>\n",
       "      <td>39.0</td>\n",
       "      <td>39.0</td>\n",
       "    </tr>\n",
       "    <tr>\n",
       "      <th>3</th>\n",
       "      <td>2019</td>\n",
       "      <td>Israel</td>\n",
       "      <td>18/05/2019</td>\n",
       "      <td>35</td>\n",
       "      <td>26</td>\n",
       "      <td>41.0</td>\n",
       "      <td>41.0</td>\n",
       "    </tr>\n",
       "    <tr>\n",
       "      <th>4</th>\n",
       "      <td>2018</td>\n",
       "      <td>Portugal</td>\n",
       "      <td>12/05/2018</td>\n",
       "      <td>37</td>\n",
       "      <td>26</td>\n",
       "      <td>43.0</td>\n",
       "      <td>43.0</td>\n",
       "    </tr>\n",
       "    <tr>\n",
       "      <th>5</th>\n",
       "      <td>2017</td>\n",
       "      <td>Ukraine</td>\n",
       "      <td>13/05/2017</td>\n",
       "      <td>36</td>\n",
       "      <td>26</td>\n",
       "      <td>42.0</td>\n",
       "      <td>42.0</td>\n",
       "    </tr>\n",
       "    <tr>\n",
       "      <th>6</th>\n",
       "      <td>2016</td>\n",
       "      <td>Sweden</td>\n",
       "      <td>14/05/2016</td>\n",
       "      <td>36</td>\n",
       "      <td>26</td>\n",
       "      <td>42.0</td>\n",
       "      <td>42.0</td>\n",
       "    </tr>\n",
       "    <tr>\n",
       "      <th>7</th>\n",
       "      <td>2015</td>\n",
       "      <td>Austria</td>\n",
       "      <td>23/05/2015</td>\n",
       "      <td>33</td>\n",
       "      <td>27</td>\n",
       "      <td>38.0</td>\n",
       "      <td>39.0</td>\n",
       "    </tr>\n",
       "    <tr>\n",
       "      <th>8</th>\n",
       "      <td>2014</td>\n",
       "      <td>Denmark</td>\n",
       "      <td>10/05/2014</td>\n",
       "      <td>31</td>\n",
       "      <td>26</td>\n",
       "      <td>36.0</td>\n",
       "      <td>35.0</td>\n",
       "    </tr>\n",
       "    <tr>\n",
       "      <th>9</th>\n",
       "      <td>2013</td>\n",
       "      <td>Sweden</td>\n",
       "      <td>18/05/2013</td>\n",
       "      <td>33</td>\n",
       "      <td>26</td>\n",
       "      <td>NaN</td>\n",
       "      <td>NaN</td>\n",
       "    </tr>\n",
       "    <tr>\n",
       "      <th>10</th>\n",
       "      <td>2012</td>\n",
       "      <td>Azerbaijan</td>\n",
       "      <td>26/05/2012</td>\n",
       "      <td>36</td>\n",
       "      <td>26</td>\n",
       "      <td>NaN</td>\n",
       "      <td>NaN</td>\n",
       "    </tr>\n",
       "    <tr>\n",
       "      <th>11</th>\n",
       "      <td>2011</td>\n",
       "      <td>Germany</td>\n",
       "      <td>14/05/2011</td>\n",
       "      <td>38</td>\n",
       "      <td>25</td>\n",
       "      <td>NaN</td>\n",
       "      <td>NaN</td>\n",
       "    </tr>\n",
       "    <tr>\n",
       "      <th>12</th>\n",
       "      <td>2010</td>\n",
       "      <td>Norway</td>\n",
       "      <td>29/05/2010</td>\n",
       "      <td>34</td>\n",
       "      <td>25</td>\n",
       "      <td>NaN</td>\n",
       "      <td>NaN</td>\n",
       "    </tr>\n",
       "    <tr>\n",
       "      <th>13</th>\n",
       "      <td>2009</td>\n",
       "      <td>Russia</td>\n",
       "      <td>16/05/2009</td>\n",
       "      <td>37</td>\n",
       "      <td>25</td>\n",
       "      <td>NaN</td>\n",
       "      <td>NaN</td>\n",
       "    </tr>\n",
       "  </tbody>\n",
       "</table>\n",
       "</div>"
      ],
      "text/plain": [
       "    year            host        date  semi_countries  final_countries  \\\n",
       "0   2023  United Kingdom  13/05/2023              31               26   \n",
       "1   2022           Italy  14/05/2022              35               25   \n",
       "2   2021     Netherlands  22/05/2021              33               26   \n",
       "3   2019          Israel  18/05/2019              35               26   \n",
       "4   2018        Portugal  12/05/2018              37               26   \n",
       "5   2017         Ukraine  13/05/2017              36               26   \n",
       "6   2016          Sweden  14/05/2016              36               26   \n",
       "7   2015         Austria  23/05/2015              33               27   \n",
       "8   2014         Denmark  10/05/2014              31               26   \n",
       "9   2013          Sweden  18/05/2013              33               26   \n",
       "10  2012      Azerbaijan  26/05/2012              36               26   \n",
       "11  2011         Germany  14/05/2011              38               25   \n",
       "12  2010          Norway  29/05/2010              34               25   \n",
       "13  2009          Russia  16/05/2009              37               25   \n",
       "\n",
       "    jury_countries_voting_final  televote_countries_voting_final  \n",
       "0                          37.0                             38.0  \n",
       "1                          40.0                             40.0  \n",
       "2                          39.0                             39.0  \n",
       "3                          41.0                             41.0  \n",
       "4                          43.0                             43.0  \n",
       "5                          42.0                             42.0  \n",
       "6                          42.0                             42.0  \n",
       "7                          38.0                             39.0  \n",
       "8                          36.0                             35.0  \n",
       "9                           NaN                              NaN  \n",
       "10                          NaN                              NaN  \n",
       "11                          NaN                              NaN  \n",
       "12                          NaN                              NaN  \n",
       "13                          NaN                              NaN  "
      ]
     },
     "execution_count": 21,
     "metadata": {},
     "output_type": "execute_result"
    }
   ],
   "source": [
    "contest_df_raw"
   ]
  },
  {
   "cell_type": "markdown",
   "metadata": {},
   "source": [
    "#### Year info"
   ]
  },
  {
   "cell_type": "code",
   "execution_count": 27,
   "metadata": {},
   "outputs": [
    {
     "name": "stdout",
     "output_type": "stream",
     "text": [
      "Start year: 2009\n",
      "End year: 2023\n",
      "Years missing: 0\n",
      "Column type: int64\n"
     ]
    }
   ],
   "source": [
    "print(f'Start year: {contest_df_raw['year'].min()}')\n",
    "print(f'End year: {contest_df_raw['year'].max()}')\n",
    "print(f'Years missing: {(2023-2009) - contest_df_raw['year'].nunique()}')\n",
    "print(f'Column type: {contest_df_raw['year'].dtype}')\n"
   ]
  },
  {
   "cell_type": "markdown",
   "metadata": {},
   "source": [
    "#### Host info"
   ]
  },
  {
   "cell_type": "code",
   "execution_count": 28,
   "metadata": {},
   "outputs": [
    {
     "data": {
      "text/plain": [
       "0     United Kingdom\n",
       "1              Italy\n",
       "2        Netherlands\n",
       "3             Israel\n",
       "4           Portugal\n",
       "5            Ukraine\n",
       "6             Sweden\n",
       "7            Austria\n",
       "8            Denmark\n",
       "9             Sweden\n",
       "10        Azerbaijan\n",
       "11           Germany\n",
       "12            Norway\n",
       "13            Russia\n",
       "Name: host, dtype: object"
      ]
     },
     "execution_count": 28,
     "metadata": {},
     "output_type": "execute_result"
    }
   ],
   "source": [
    "contest_df_raw['host']"
   ]
  },
  {
   "cell_type": "code",
   "execution_count": 45,
   "metadata": {},
   "outputs": [
    {
     "name": "stdout",
     "output_type": "stream",
     "text": [
      "List of countries and unique count: host\n",
      "Sweden            2\n",
      "United Kingdom    1\n",
      "Italy             1\n",
      "Netherlands       1\n",
      "Israel            1\n",
      "Portugal          1\n",
      "Ukraine           1\n",
      "Austria           1\n",
      "Denmark           1\n",
      "Azerbaijan        1\n",
      "Germany           1\n",
      "Norway            1\n",
      "Russia            1\n",
      "Name: count, dtype: int64\n",
      "Number of countries appearing >1: 1\n",
      "Number of unique countries: 13\n"
     ]
    }
   ],
   "source": [
    "print(f'List of countries and unique count: {contest_df_raw['host'].value_counts()}')\n",
    "print(f'Number of countries appearing >1: {((contest_df_raw['host'].count())>1).sum()}')\n",
    "print(f'Number of unique countries: {contest_df_raw['host'].nunique()}')\n"
   ]
  },
  {
   "cell_type": "markdown",
   "metadata": {},
   "source": [
    "#### Date info:\n",
    "_have to fix date column type_"
   ]
  },
  {
   "cell_type": "markdown",
   "metadata": {},
   "source": [
    "#### semi_countries"
   ]
  },
  {
   "cell_type": "markdown",
   "metadata": {},
   "source": [
    "#### final_countries"
   ]
  },
  {
   "cell_type": "markdown",
   "metadata": {},
   "source": [
    "#### jury countries voting final"
   ]
  },
  {
   "cell_type": "markdown",
   "metadata": {},
   "source": [
    "#### televote countries voting final"
   ]
  },
  {
   "cell_type": "markdown",
   "metadata": {},
   "source": [
    "### Rows"
   ]
  },
  {
   "cell_type": "code",
   "execution_count": 13,
   "metadata": {},
   "outputs": [
    {
     "data": {
      "text/plain": [
       "RangeIndex(start=0, stop=14, step=1)"
      ]
     },
     "execution_count": 13,
     "metadata": {},
     "output_type": "execute_result"
    }
   ],
   "source": [
    "contest_df_raw.index"
   ]
  },
  {
   "cell_type": "markdown",
   "metadata": {},
   "source": [
    "## 2. Contestants Data"
   ]
  },
  {
   "cell_type": "markdown",
   "metadata": {},
   "source": [
    "## 3. Song Data"
   ]
  },
  {
   "cell_type": "markdown",
   "metadata": {},
   "source": [
    "## 4. Votes Data"
   ]
  },
  {
   "cell_type": "markdown",
   "metadata": {},
   "source": [
    "## 5. Betting Offices "
   ]
  },
  {
   "cell_type": "markdown",
   "metadata": {},
   "source": []
  }
 ],
 "metadata": {
  "kernelspec": {
   "display_name": "base",
   "language": "python",
   "name": "python3"
  },
  "language_info": {
   "codemirror_mode": {
    "name": "ipython",
    "version": 3
   },
   "file_extension": ".py",
   "mimetype": "text/x-python",
   "name": "python",
   "nbconvert_exporter": "python",
   "pygments_lexer": "ipython3",
   "version": "3.12.8"
  }
 },
 "nbformat": 4,
 "nbformat_minor": 2
}
