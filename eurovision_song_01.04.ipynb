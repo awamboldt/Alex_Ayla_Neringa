{
 "cells": [
  {
   "cell_type": "markdown",
   "metadata": {},
   "source": [
    "Source : https://www.kaggle.com/datasets/diamondsnake/eurovision-song-contest-data?resource=download\n",
    "\n"
   ]
  },
  {
   "cell_type": "code",
   "execution_count": 3,
   "metadata": {},
   "outputs": [],
   "source": [
    "#import the libraries\n",
    "import requests\n",
    "import os\n",
    "import pandas as pd\n",
    "from bs4 import BeautifulSoup\n",
    "import numpy as np"
   ]
  },
  {
   "cell_type": "code",
   "execution_count": 4,
   "metadata": {},
   "outputs": [],
   "source": [
    "songs_df = pd.read_excel('./data/song_data_cleaned.xls')\n",
    "\n",
    "#changing loudness category into just integer values\n",
    "songs_df['loudness_db'] = songs_df['loudness'].str.replace('dB', ' ').str.strip()\n",
    "\n",
    "#dropping all columns that only have 'unknown' as their single value & original loudness\n",
    "songs_df = songs_df.drop(['race', 'age', 'selection', 'release_date', 'key_change_10', 'loudness'], axis='columns')\n"
   ]
  },
  {
   "cell_type": "code",
   "execution_count": 5,
   "metadata": {},
   "outputs": [
    {
     "data": {
      "text/plain": [
       "Index(['year', 'semi_final', 'semi_draw_position', 'final_draw_position',\n",
       "       'country', 'artist_name', 'song_name', 'language', 'style',\n",
       "       'direct_qualifier_10', 'gender', 'main_singers', 'key', 'BPM', 'energy',\n",
       "       'danceability', 'happiness', 'acousticness', 'instrumentalness',\n",
       "       'liveness', 'speechiness', 'backing_dancers', 'backing_singers',\n",
       "       'backing_instruments', 'instrument_10', 'qualified_10',\n",
       "       'final_televote_points', 'final_jury_points', 'final_televote_votes',\n",
       "       'final_jury_votes', 'final_place', 'final_total_points', 'semi_place',\n",
       "       'semi_televote_points', 'semi_jury_points', 'semi_total_points',\n",
       "       'favourite_10', 'host_10', 'loudness_db'],\n",
       "      dtype='object')"
      ]
     },
     "execution_count": 5,
     "metadata": {},
     "output_type": "execute_result"
    }
   ],
   "source": [
    "songs_df.columns"
   ]
  },
  {
   "cell_type": "code",
   "execution_count": 63,
   "metadata": {},
   "outputs": [],
   "source": [
    "# Pushing these tables to the AWS\n",
    "\n",
    "from sqlalchemy import create_engine, types\n",
    "from sqlalchemy import text # to be able to pass string\n",
    "\n",
    "\n",
    "# Let's load values from the .env file\n",
    "from dotenv import dotenv_values\n",
    "\n",
    "config = dotenv_values()\n",
    "\n",
    "# define variables for the login\n",
    "pg_user = config['POSTGRES_USER']  # align the key label with your .env file !\n",
    "pg_host = config['POSTGRES_HOST']\n",
    "pg_port = config['POSTGRES_PORT']\n",
    "pg_db = config['POSTGRES_DB']\n",
    "pg_schema = config['POSTGRES_SCHEMA']\n",
    "pg_pass = config['POSTGRES_PASS']\n",
    "\n",
    "\n",
    "url = f'postgresql://{pg_user}:{pg_pass}@{pg_host}:{pg_port}/{pg_db}'\n",
    "\n",
    "engine = create_engine(url, echo=False)"
   ]
  },
  {
   "cell_type": "code",
   "execution_count": 64,
   "metadata": {},
   "outputs": [
    {
     "data": {
      "text/plain": [
       "565"
      ]
     },
     "execution_count": 64,
     "metadata": {},
     "output_type": "execute_result"
    }
   ],
   "source": [
    "songs_df.to_sql(name = 'songs', \n",
    "                       con = engine, \n",
    "                       schema = pg_schema, # pandas is allowing to specify, in which schema the table shall be created\n",
    "                       if_exists='replace', \n",
    "                       index=False\n",
    "                      )"
   ]
  },
  {
   "cell_type": "code",
   "execution_count": null,
   "metadata": {},
   "outputs": [],
   "source": []
  }
 ],
 "metadata": {
  "kernelspec": {
   "display_name": "Python 3 (ipykernel)",
   "language": "python",
   "name": "python3"
  },
  "language_info": {
   "codemirror_mode": {
    "name": "ipython",
    "version": 3
   },
   "file_extension": ".py",
   "mimetype": "text/x-python",
   "name": "python",
   "nbconvert_exporter": "python",
   "pygments_lexer": "ipython3",
   "version": "3.12.8"
  }
 },
 "nbformat": 4,
 "nbformat_minor": 4
}
